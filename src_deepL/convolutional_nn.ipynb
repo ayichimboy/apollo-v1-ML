{
 "cells": [
  {
   "cell_type": "code",
   "execution_count": 1,
   "id": "a1e9e2ea",
   "metadata": {},
   "outputs": [],
   "source": [
    "# Load Libraries for Model\n",
    "import numpy as np            \n",
    "import pandas as pd                           \n",
    "import seaborn as sns                     \n",
    "import matplotlib.pyplot as plt          \n",
    "\n",
    "from sklearn.preprocessing import StandardScaler, LabelEncoder\n",
    "from sklearn.model_selection import train_test_split\n",
    "from sklearn.pipeline import Pipeline\n",
    "\n",
    "import tensorflow as tf\n",
    "import keras  "
   ]
  }
 ],
 "metadata": {
  "kernelspec": {
   "display_name": ".venv",
   "language": "python",
   "name": "python3"
  },
  "language_info": {
   "codemirror_mode": {
    "name": "ipython",
    "version": 3
   },
   "file_extension": ".py",
   "mimetype": "text/x-python",
   "name": "python",
   "nbconvert_exporter": "python",
   "pygments_lexer": "ipython3",
   "version": "3.11.9"
  }
 },
 "nbformat": 4,
 "nbformat_minor": 5
}
