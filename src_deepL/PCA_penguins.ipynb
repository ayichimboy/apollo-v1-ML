{
 "cells": [
  {
   "cell_type": "code",
   "execution_count": 1,
   "id": "88614245",
   "metadata": {},
   "outputs": [],
   "source": [
    "# Load libraries \n",
    "import numpy as np           \n",
    "import pandas as pd                       \n",
    "import seaborn as sns              \n",
    "import matplotlib.pyplot as plt                         \n",
    "\n",
    "from sklearn.preprocessing import StandardScaler\n",
    "from sklearn.decomposition import PCA"
   ]
  },
  {
   "cell_type": "code",
   "execution_count": 15,
   "id": "d738796a",
   "metadata": {},
   "outputs": [
    {
     "data": {
      "application/vnd.microsoft.datawrangler.viewer.v0+json": {
       "columns": [
        {
         "name": "index",
         "rawType": "int64",
         "type": "integer"
        },
        {
         "name": "species",
         "rawType": "int64",
         "type": "integer"
        },
        {
         "name": "island",
         "rawType": "int64",
         "type": "integer"
        },
        {
         "name": "bill_length_mm",
         "rawType": "float64",
         "type": "float"
        },
        {
         "name": "bill_depth_mm",
         "rawType": "float64",
         "type": "float"
        },
        {
         "name": "flipper_length_mm",
         "rawType": "float64",
         "type": "float"
        },
        {
         "name": "body_mass_g",
         "rawType": "float64",
         "type": "float"
        }
       ],
       "ref": "93d90720-663e-466f-9635-424c1b0568d4",
       "rows": [
        [
         "0",
         "0",
         "2",
         "39.1",
         "18.7",
         "181.0",
         "3750.0"
        ],
        [
         "1",
         "0",
         "2",
         "39.5",
         "17.4",
         "186.0",
         "3800.0"
        ],
        [
         "2",
         "0",
         "2",
         "40.3",
         "18.0",
         "195.0",
         "3250.0"
        ]
       ],
       "shape": {
        "columns": 6,
        "rows": 3
       }
      },
      "text/html": [
       "<div>\n",
       "<style scoped>\n",
       "    .dataframe tbody tr th:only-of-type {\n",
       "        vertical-align: middle;\n",
       "    }\n",
       "\n",
       "    .dataframe tbody tr th {\n",
       "        vertical-align: top;\n",
       "    }\n",
       "\n",
       "    .dataframe thead th {\n",
       "        text-align: right;\n",
       "    }\n",
       "</style>\n",
       "<table border=\"1\" class=\"dataframe\">\n",
       "  <thead>\n",
       "    <tr style=\"text-align: right;\">\n",
       "      <th></th>\n",
       "      <th>species</th>\n",
       "      <th>island</th>\n",
       "      <th>bill_length_mm</th>\n",
       "      <th>bill_depth_mm</th>\n",
       "      <th>flipper_length_mm</th>\n",
       "      <th>body_mass_g</th>\n",
       "    </tr>\n",
       "  </thead>\n",
       "  <tbody>\n",
       "    <tr>\n",
       "      <th>0</th>\n",
       "      <td>0</td>\n",
       "      <td>2</td>\n",
       "      <td>39.1</td>\n",
       "      <td>18.7</td>\n",
       "      <td>181.0</td>\n",
       "      <td>3750.0</td>\n",
       "    </tr>\n",
       "    <tr>\n",
       "      <th>1</th>\n",
       "      <td>0</td>\n",
       "      <td>2</td>\n",
       "      <td>39.5</td>\n",
       "      <td>17.4</td>\n",
       "      <td>186.0</td>\n",
       "      <td>3800.0</td>\n",
       "    </tr>\n",
       "    <tr>\n",
       "      <th>2</th>\n",
       "      <td>0</td>\n",
       "      <td>2</td>\n",
       "      <td>40.3</td>\n",
       "      <td>18.0</td>\n",
       "      <td>195.0</td>\n",
       "      <td>3250.0</td>\n",
       "    </tr>\n",
       "  </tbody>\n",
       "</table>\n",
       "</div>"
      ],
      "text/plain": [
       "   species  island  ...  flipper_length_mm  body_mass_g\n",
       "0        0       2  ...              181.0       3750.0\n",
       "1        0       2  ...              186.0       3800.0\n",
       "2        0       2  ...              195.0       3250.0\n",
       "\n",
       "[3 rows x 6 columns]"
      ]
     },
     "execution_count": 15,
     "metadata": {},
     "output_type": "execute_result"
    }
   ],
   "source": [
    "# load the data \n",
    "data = pd.read_pickle(\"../src/cleaned_df.pkl\")\n",
    "data.head(3)"
   ]
  },
  {
   "cell_type": "code",
   "execution_count": 9,
   "id": "8b99bcbf",
   "metadata": {},
   "outputs": [
    {
     "name": "stdout",
     "output_type": "stream",
     "text": [
      "<class 'pandas.core.frame.DataFrame'>\n",
      "RangeIndex: 344 entries, 0 to 343\n",
      "Data columns (total 6 columns):\n",
      " #   Column             Non-Null Count  Dtype  \n",
      "---  ------             --------------  -----  \n",
      " 0   species            344 non-null    int64  \n",
      " 1   island             344 non-null    int64  \n",
      " 2   bill_length_mm     344 non-null    float64\n",
      " 3   bill_depth_mm      344 non-null    float64\n",
      " 4   flipper_length_mm  344 non-null    float64\n",
      " 5   body_mass_g        344 non-null    float64\n",
      "dtypes: float64(4), int64(2)\n",
      "memory usage: 16.3 KB\n"
     ]
    }
   ],
   "source": [
    "data.info()"
   ]
  },
  {
   "cell_type": "code",
   "execution_count": 11,
   "id": "e2cbfa58",
   "metadata": {},
   "outputs": [],
   "source": [
    "# Define X for the Model \n",
    "scaler = StandardScaler()\n",
    "X = data.copy()\n",
    "X_cleaned = X.iloc[:,2:]\n",
    "X_cleaned = scaler.fit_transform(X_cleaned.values)\n",
    "\n",
    "# apply pca to transformed data \n",
    "ncomp = 3\n",
    "pca = PCA(n_components=ncomp)\n",
    "model = pca.fit_transform(X_cleaned)\n",
    "\n",
    "\n",
    "pca_data = pd.DataFrame(model, columns=[\"PC1\", \"PC2\", \"PC3\"])"
   ]
  },
  {
   "cell_type": "code",
   "execution_count": 22,
   "id": "8705894e",
   "metadata": {},
   "outputs": [
    {
     "data": {
      "application/vnd.microsoft.datawrangler.viewer.v0+json": {
       "columns": [
        {
         "name": "index",
         "rawType": "int64",
         "type": "integer"
        },
        {
         "name": "level_0",
         "rawType": "int64",
         "type": "integer"
        },
        {
         "name": "index",
         "rawType": "int64",
         "type": "integer"
        },
        {
         "name": "PC1",
         "rawType": "float64",
         "type": "float"
        },
        {
         "name": "PC2",
         "rawType": "float64",
         "type": "float"
        },
        {
         "name": "PC3",
         "rawType": "float64",
         "type": "float"
        }
       ],
       "ref": "eda5e190-18d6-468f-9f99-a04ec67a09a2",
       "rows": [
        [
         "0",
         "0",
         "0",
         "-1.8488272245673627",
         "0.04784149409327015",
         "-0.23347385485457192"
        ],
        [
         "1",
         "1",
         "1",
         "-1.3105772646464413",
         "-0.42959889516009875",
         "-0.02964866644682295"
        ],
        [
         "2",
         "2",
         "2",
         "-1.373178611259615",
         "-0.1549274262168364",
         "0.19925236238932098"
        ]
       ],
       "shape": {
        "columns": 5,
        "rows": 3
       }
      },
      "text/html": [
       "<div>\n",
       "<style scoped>\n",
       "    .dataframe tbody tr th:only-of-type {\n",
       "        vertical-align: middle;\n",
       "    }\n",
       "\n",
       "    .dataframe tbody tr th {\n",
       "        vertical-align: top;\n",
       "    }\n",
       "\n",
       "    .dataframe thead th {\n",
       "        text-align: right;\n",
       "    }\n",
       "</style>\n",
       "<table border=\"1\" class=\"dataframe\">\n",
       "  <thead>\n",
       "    <tr style=\"text-align: right;\">\n",
       "      <th></th>\n",
       "      <th>level_0</th>\n",
       "      <th>index</th>\n",
       "      <th>PC1</th>\n",
       "      <th>PC2</th>\n",
       "      <th>PC3</th>\n",
       "    </tr>\n",
       "  </thead>\n",
       "  <tbody>\n",
       "    <tr>\n",
       "      <th>0</th>\n",
       "      <td>0</td>\n",
       "      <td>0</td>\n",
       "      <td>-1.848827</td>\n",
       "      <td>0.047841</td>\n",
       "      <td>-0.233474</td>\n",
       "    </tr>\n",
       "    <tr>\n",
       "      <th>1</th>\n",
       "      <td>1</td>\n",
       "      <td>1</td>\n",
       "      <td>-1.310577</td>\n",
       "      <td>-0.429599</td>\n",
       "      <td>-0.029649</td>\n",
       "    </tr>\n",
       "    <tr>\n",
       "      <th>2</th>\n",
       "      <td>2</td>\n",
       "      <td>2</td>\n",
       "      <td>-1.373179</td>\n",
       "      <td>-0.154927</td>\n",
       "      <td>0.199252</td>\n",
       "    </tr>\n",
       "  </tbody>\n",
       "</table>\n",
       "</div>"
      ],
      "text/plain": [
       "   level_0  index       PC1       PC2       PC3\n",
       "0        0      0 -1.848827  0.047841 -0.233474\n",
       "1        1      1 -1.310577 -0.429599 -0.029649\n",
       "2        2      2 -1.373179 -0.154927  0.199252"
      ]
     },
     "execution_count": 22,
     "metadata": {},
     "output_type": "execute_result"
    }
   ],
   "source": [
    "data = data.reset_index(drop=True)\n",
    "pca_data = pca_data.reset_index(drop=True)\n",
    "\n",
    "pca_data.head(3)"
   ]
  },
  {
   "cell_type": "code",
   "execution_count": 24,
   "id": "3f291d56",
   "metadata": {},
   "outputs": [
    {
     "data": {
      "text/plain": [
       "'3'"
      ]
     },
     "execution_count": 24,
     "metadata": {},
     "output_type": "execute_result"
    }
   ],
   "source": [
    "pca_data[\"PC3\"].name[2]"
   ]
  },
  {
   "cell_type": "code",
   "execution_count": 27,
   "id": "7d137e84",
   "metadata": {},
   "outputs": [
    {
     "data": {
      "image/png": "[encoded data removed]",
      "text/plain": [
       "<Figure size 640x480 with 1 Axes>"
      ]
     },
     "metadata": {},
     "output_type": "display_data"
    }
   ],
   "source": [
    "data = data.reset_index(drop=True)\n",
    "pca_data = pca_data.reset_index(drop=True)\n",
    "\n",
    "for specie in data[\"species\"].unique():\n",
    "    subset_df = pca_data[data[\"species\"] == specie]\n",
    "    plt.scatter(subset_df[\"PC1\"], subset_df[\"PC3\"],\n",
    "                label=f\"Species:{specie}\",\n",
    "                s=70)\n",
    "\n",
    "plt.xlabel(\"Principal Component 1\")\n",
    "plt.ylabel(\"Principal Component 3\")\n",
    "plt.title(\"Principal Component Analysis of Penguins\")\n",
    "plt.legend()\n",
    "plt.show()\n"
   ]
  }
 ],
 "metadata": {
  "kernelspec": {
   "display_name": ".venv",
   "language": "python",
   "name": "python3"
  },
  "language_info": {
   "codemirror_mode": {
    "name": "ipython",
    "version": 3
   },
   "file_extension": ".py",
   "mimetype": "text/x-python",
   "name": "python",
   "nbconvert_exporter": "python",
   "pygments_lexer": "ipython3",
   "version": "3.11.9"
  }
 },
 "nbformat": 4,
 "nbformat_minor": 5
}
