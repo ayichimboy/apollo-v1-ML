{
 "cells": [
  {
   "cell_type": "code",
   "execution_count": null,
   "id": "d813c550",
   "metadata": {},
   "outputs": [],
   "source": [
    "# Import libraries\n",
    "import pandas as pd       \n",
    "import seaborn as sns               \n",
    "import numpy as np                      \n",
    "import matplotlib.pyplot as plt                       \n",
    "\n",
    "from sklearn.preprocessing import StandardScaler\n",
    "from sklearn.model_selection import train_test_split, KFold\n",
    "import torch"
   ]
  },
  {
   "cell_type": "code",
   "execution_count": 4,
   "id": "d1d70aaa",
   "metadata": {},
   "outputs": [
    {
     "name": "stdout",
     "output_type": "stream",
     "text": [
      "<class 'pandas.core.frame.DataFrame'>\n",
      "Index: 392 entries, 0 to 397\n",
      "Data columns (total 11 columns):\n",
      " #   Column         Non-Null Count  Dtype  \n",
      "---  ------         --------------  -----  \n",
      " 0   mpg            392 non-null    float64\n",
      " 1   cylinders      392 non-null    int64  \n",
      " 2   displacement   392 non-null    float64\n",
      " 3   horsepower     392 non-null    int64  \n",
      " 4   weight         392 non-null    int64  \n",
      " 5   acceleration   392 non-null    float64\n",
      " 6   model_year     392 non-null    int64  \n",
      " 7   origin         392 non-null    int64  \n",
      " 8   car_name       392 non-null    object \n",
      " 9   car_maker      392 non-null    object \n",
      " 10  car_maker_num  392 non-null    int64  \n",
      "dtypes: float64(3), int64(6), object(2)\n",
      "memory usage: 36.8+ KB\n"
     ]
    }
   ],
   "source": [
    "# Import and Read data \n",
    "data = pd.read_pickle(\"mpg_cleaned.pkl\")\n",
    "data.info()"
   ]
  },
  {
   "cell_type": "markdown",
   "id": "1bcf103e",
   "metadata": {},
   "source": [
    "# Clean Data 📁"
   ]
  },
  {
   "cell_type": "code",
   "execution_count": null,
   "id": "d855bddf",
   "metadata": {},
   "outputs": [
    {
     "name": "stdout",
     "output_type": "stream",
     "text": [
      "X_train Shape: (313, 8)\n",
      "y_train Shape: (313,)\n",
      "X_test Shape: (79, 8)\n",
      "y_test Shape: (79,)\n"
     ]
    }
   ],
   "source": [
    "# Define X and y data for the model\n",
    "X = data.drop(columns=['mpg', 'car_name','car_maker']).values\n",
    "y = data[\"mpg\"].values\n",
    "\n",
    "# Split the data into train test split\n",
    "X_train, X_test, y_train, y_test = train_test_split(X, y, test_size=0.2, random_state=42)\n",
    "\n",
    "# Scaler Variable \n",
    "scaler = StandardScaler()\n",
    "X_train = scaler.fit_transform(X_train)\n",
    "X_test = scaler.transform(X_test)\n",
    "\n",
    "# Train Data Shape\n",
    "print(f\"X_train Shape: {X_train.shape}\") \n",
    "print(f\"y_train Shape: {y_train.shape}\")\n",
    "\n",
    "# Test Data Shape\n",
    "print(f\"X_test Shape: {X_test.shape}\")\n",
    "print(f\"y_test Shape: {y_test.shape}\")"
   ]
  },
  {
   "cell_type": "markdown",
   "id": "bd0ac1a7",
   "metadata": {},
   "source": [
    "# torch 🐂🔥"
   ]
  },
  {
   "cell_type": "code",
   "execution_count": 11,
   "id": "a04b9bbf",
   "metadata": {},
   "outputs": [],
   "source": [
    "# Import Libraries for pytorch implementation\n",
    "\n",
    "import torch\n",
    "import torch.nn as nn\n",
    "import torch.optim as optim\n",
    "from torch.utils.data import DataLoader, TensorDataset\n",
    "\n",
    "from torchsummary import summary\n",
    "from sklearn.metrics import mean_absolute_error, r2_score"
   ]
  },
  {
   "cell_type": "code",
   "execution_count": 15,
   "id": "12c7126e",
   "metadata": {},
   "outputs": [],
   "source": [
    "# Convert numpy data to tensors\n",
    "X_train_torch = torch.tensor(X_train, dtype=torch.float32)\n",
    "X_test_torch = torch.tensor(X_test, dtype=torch.float32)\n",
    "y_test_torch = torch.tensor(y_test, dtype=torch.float32).view(-1,1) # use reshape if view fails\n",
    "y_train_torch = torch.tensor(y_train, dtype=torch.float32).view(-1,1) # use reshape if view fails\n",
    "\n",
    "\n",
    "# wrap the data into dataloader for batching \n",
    "train_dataset = TensorDataset(X_train_torch, y_train_torch)\n",
    "test_dataset = TensorDataset(X_test_torch, y_test_torch)\n",
    "\n",
    "# Load the Data \n",
    "train_loader = DataLoader(train_dataset, batch_size=32, shuffle=True)\n",
    "test_loader = DataLoader(test_dataset, batch_size=32, shuffle=False)\n"
   ]
  },
  {
   "cell_type": "code",
   "execution_count": 16,
   "id": "b9960388",
   "metadata": {},
   "outputs": [],
   "source": [
    "# define the class\n",
    "class RegressionNN(nn.Module):\n",
    "    def __init__(self, input_dim):\n",
    "        super(RegressionNN, self).__init__()\n",
    "        self.fc1 = nn.Linear(input_dim, 128)\n",
    "        self.fc2 = nn.Linear(128, 32)\n",
    "        self.fc3 = nn.Linear(32, 1)\n",
    "        \n",
    "    def forward(self, x):\n",
    "        x = torch.relu(self.fc1(x))\n",
    "        x = torch.relu(self.fc2(x))\n",
    "        x = self.fc3(x)\n",
    "        return x\n",
    "       \n",
    "model = RegressionNN(input_dim=X_train.shape[1])"
   ]
  },
  {
   "cell_type": "code",
   "execution_count": 18,
   "id": "2fe8dc82",
   "metadata": {},
   "outputs": [
    {
     "name": "stdout",
     "output_type": "stream",
     "text": [
      "Epoch [10/epochs], Loss: 8.1973 \n",
      "Epoch [20/epochs], Loss: 6.8278 \n",
      "Epoch [30/epochs], Loss: 6.4419 \n",
      "Epoch [40/epochs], Loss: 5.4909 \n",
      "Epoch [50/epochs], Loss: 5.8770 \n",
      "Epoch [60/epochs], Loss: 5.1729 \n",
      "Epoch [70/epochs], Loss: 5.2542 \n",
      "Epoch [80/epochs], Loss: 4.6815 \n",
      "Epoch [90/epochs], Loss: 3.9755 \n",
      "Epoch [100/epochs], Loss: 4.9718 \n"
     ]
    }
   ],
   "source": [
    "criterion = nn.MSELoss()\n",
    "optimizer = optim.Adam(model.parameters(), lr=0.01)\n",
    "\n",
    "epochs = 100\n",
    "for epoch in range(epochs):\n",
    "    model.train()\n",
    "    running_loss = 0.0\n",
    "    \n",
    "    for features, labels in train_loader:\n",
    "        optimizer.zero_grad()\n",
    "        outputs = model(features)\n",
    "        loss = criterion(outputs, labels)\n",
    "        loss.backward()\n",
    "        optimizer.step()\n",
    "        running_loss += loss.item()\n",
    "        \n",
    "    if (epoch +1) % 10 == 0:\n",
    "        print(f\"Epoch [{epoch + 1}/epochs], Loss: {running_loss/len(train_loader):.4f} \")"
   ]
  },
  {
   "cell_type": "code",
   "execution_count": null,
   "id": "c39789fd",
   "metadata": {},
   "outputs": [
    {
     "name": "stdout",
     "output_type": "stream",
     "text": [
      "Test MSE: 8.040\n",
      "Test RMSE: 2.835\n",
      "Test R²: 0.842\n"
     ]
    }
   ],
   "source": [
    "from sklearn.metrics import mean_squared_error, r2_score\n",
    "\n",
    "\n",
    "model.eval()\n",
    "with torch.no_grad():\n",
    "    y_pred = model(X_test_torch).numpy()\n",
    "    y_true = y_test_torch.numpy()\n",
    "\n",
    "# Metrics\n",
    "mse = mean_squared_error(y_true, y_pred)\n",
    "rmse = np.sqrt(mse)\n",
    "r2 = r2_score(y_true, y_pred)\n",
    "\n",
    "print(f\"Test MSE: {mse:.3f}\")\n",
    "print(f\"Test RMSE: {rmse:.3f}\")\n",
    "print(f\"Test R²: {r2:.3f}\")\n"
   ]
  },
  {
   "cell_type": "code",
   "execution_count": 22,
   "id": "1cf704c3",
   "metadata": {},
   "outputs": [
    {
     "data": {
      "image/png": "[encoded data removed]",
      "text/plain": [
       "<Figure size 600x400 with 1 Axes>"
      ]
     },
     "metadata": {},
     "output_type": "display_data"
    }
   ],
   "source": [
    "# Plot the data\n",
    "plt.figure(figsize=(6,4))\n",
    "plt.scatter(x=y_true.flatten(), y=y_pred, color=\"red\")\n",
    "plt.plot(y_true, y_true, color=\"black\")\n",
    "plt.xlabel(\"Measured MPG\")\n",
    "plt.ylabel(\"Predicted MPG\")\n",
    "plt.show()"
   ]
  },
  {
   "cell_type": "markdown",
   "id": "acb7ea89",
   "metadata": {},
   "source": [
    "# Another torch 🔥🐻"
   ]
  },
  {
   "cell_type": "code",
   "execution_count": null,
   "id": "1ee92d56",
   "metadata": {},
   "outputs": [],
   "source": []
  },
  {
   "cell_type": "code",
   "execution_count": null,
   "id": "cee00b01",
   "metadata": {},
   "outputs": [],
   "source": []
  }
 ],
 "metadata": {
  "kernelspec": {
   "display_name": ".venv",
   "language": "python",
   "name": "python3"
  },
  "language_info": {
   "codemirror_mode": {
    "name": "ipython",
    "version": 3
   },
   "file_extension": ".py",
   "mimetype": "text/x-python",
   "name": "python",
   "nbconvert_exporter": "python",
   "pygments_lexer": "ipython3",
   "version": "3.11.9"
  }
 },
 "nbformat": 4,
 "nbformat_minor": 5
}
