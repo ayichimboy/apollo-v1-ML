{
 "cells": [
  {
   "cell_type": "code",
   "execution_count": 16,
   "id": "9d6ea734",
   "metadata": {},
   "outputs": [],
   "source": [
    "import pandas as pd    \n",
    "import numpy as np     \n",
    "import seaborn as sns \n",
    "import matplotlib.pyplot as plt \n",
    "import random   \n",
    "\n",
    "from sklearn.linear_model import LinearRegression\n",
    "from sklearn.preprocessing import StandardScaler\n",
    "from sklearn.model_selection import train_test_split\n",
    "from sklearn.metrics import mean_squared_error, mean_absolute_error, r2_score"
   ]
  },
  {
   "cell_type": "code",
   "execution_count": 3,
   "id": "778a4093",
   "metadata": {},
   "outputs": [
    {
     "name": "stdout",
     "output_type": "stream",
     "text": [
      "<class 'pandas.core.frame.DataFrame'>\n",
      "Index: 392 entries, 0 to 397\n",
      "Data columns (total 11 columns):\n",
      " #   Column         Non-Null Count  Dtype  \n",
      "---  ------         --------------  -----  \n",
      " 0   mpg            392 non-null    float64\n",
      " 1   cylinders      392 non-null    int64  \n",
      " 2   displacement   392 non-null    float64\n",
      " 3   horsepower     392 non-null    int64  \n",
      " 4   weight         392 non-null    int64  \n",
      " 5   acceleration   392 non-null    float64\n",
      " 6   model_year     392 non-null    int64  \n",
      " 7   origin         392 non-null    int64  \n",
      " 8   car_name       392 non-null    object \n",
      " 9   car_maker      392 non-null    object \n",
      " 10  car_maker_num  392 non-null    int64  \n",
      "dtypes: float64(3), int64(6), object(2)\n",
      "memory usage: 36.8+ KB\n"
     ]
    }
   ],
   "source": [
    "data = pd.read_pickle(\"mpg_cleaned.pkl\")\n",
    "data.info()"
   ]
  },
  {
   "cell_type": "code",
   "execution_count": 64,
   "id": "40ffc36c",
   "metadata": {},
   "outputs": [],
   "source": [
    "# Create the Class for Linear Regression\n",
    "class LinearModel:\n",
    "    \n",
    "    def __init__(self, X, y, random_state=42, model=None):\n",
    "        self.X = X\n",
    "        self.y = y\n",
    "        self.model = model if model else LinearRegression()\n",
    "        self.random_state = random_state\n",
    "        \n",
    "    \n",
    "    def build_model(self):\n",
    "        self.final = self.model.fit(self.X, self.y)\n",
    "        self.y_predict = self.final.predict(self.X)\n",
    "        return self\n",
    "    \n",
    "    def model_metrics(self):\n",
    "        self.mae = mean_absolute_error(self.y, self.y_predict)\n",
    "        self.mse = mean_squared_error(self.y, self.y_predict)\n",
    "        self.r2 = r2_score(self.y, self.y_predict)\n",
    "        \n",
    "        self.results = {\n",
    "                    \"MAE\": round(self.mae, 3),\n",
    "                    \"MSE\": round(self.mse, 3),\n",
    "                    \"R-squared\" : round(self.r2, 3)\n",
    "                    }\n",
    "        return self.results\n",
    "        "
   ]
  },
  {
   "cell_type": "code",
   "execution_count": 70,
   "id": "12420a83",
   "metadata": {},
   "outputs": [
    {
     "name": "stdout",
     "output_type": "stream",
     "text": [
      "42\n",
      "0.2\n"
     ]
    }
   ],
   "source": [
    "class ConstantsValues:\n",
    "    random_state = 42\n",
    "    test_size = 0.2\n",
    "\n",
    "\n",
    "print(ConstantsValues.random_state)\n",
    "print(ConstantsValues.test_size)"
   ]
  },
  {
   "cell_type": "code",
   "execution_count": 12,
   "id": "f8346600",
   "metadata": {},
   "outputs": [
    {
     "data": {
      "application/vnd.microsoft.datawrangler.viewer.v0+json": {
       "columns": [
        {
         "name": "index",
         "rawType": "object",
         "type": "string"
        },
        {
         "name": "mpg",
         "rawType": "float64",
         "type": "float"
        },
        {
         "name": "cylinders",
         "rawType": "float64",
         "type": "float"
        },
        {
         "name": "displacement",
         "rawType": "float64",
         "type": "float"
        },
        {
         "name": "horsepower",
         "rawType": "float64",
         "type": "float"
        },
        {
         "name": "weight",
         "rawType": "float64",
         "type": "float"
        },
        {
         "name": "acceleration",
         "rawType": "float64",
         "type": "float"
        },
        {
         "name": "model_year",
         "rawType": "float64",
         "type": "float"
        },
        {
         "name": "origin",
         "rawType": "float64",
         "type": "float"
        },
        {
         "name": "car_maker_num",
         "rawType": "float64",
         "type": "float"
        }
       ],
       "ref": "1bb8ae35-17c5-4982-97a9-37b70527562e",
       "rows": [
        [
         "mpg",
         "1.0",
         "-0.7776175081260227",
         "-0.8051269467104577",
         "-0.7784267838977761",
         "-0.832244214831575",
         "0.42332853690278693",
         "0.5805409660907859",
         "0.5652087567164604",
         "0.277622294058323"
        ],
        [
         "cylinders",
         "-0.7776175081260227",
         "1.0",
         "0.9508233008277828",
         "0.8429833569186568",
         "0.8975273403408176",
         "-0.5046833793486444",
         "-0.34564744033808426",
         "-0.5689315895422126",
         "-0.28165901779788644"
        ],
        [
         "displacement",
         "-0.8051269467104577",
         "0.9508233008277828",
         "1.0",
         "0.89725700184347",
         "0.9329944040890112",
         "-0.5438004967345681",
         "-0.3698552066751799",
         "-0.6145351145726985",
         "-0.29602343713221235"
        ],
        [
         "horsepower",
         "-0.7784267838977761",
         "0.8429833569186568",
         "0.89725700184347",
         "1.0",
         "0.8645377375741455",
         "-0.6891955103342376",
         "-0.41636147709998894",
         "-0.4551714527931856",
         "-0.23468234973652669"
        ],
        [
         "weight",
         "-0.832244214831575",
         "0.8975273403408176",
         "0.9329944040890112",
         "0.8645377375741455",
         "1.0",
         "-0.4168392020037062",
         "-0.3091198808308152",
         "-0.5850053546657057",
         "-0.2563506526236419"
        ]
       ],
       "shape": {
        "columns": 9,
        "rows": 5
       }
      },
      "text/html": [
       "<div>\n",
       "<style scoped>\n",
       "    .dataframe tbody tr th:only-of-type {\n",
       "        vertical-align: middle;\n",
       "    }\n",
       "\n",
       "    .dataframe tbody tr th {\n",
       "        vertical-align: top;\n",
       "    }\n",
       "\n",
       "    .dataframe thead th {\n",
       "        text-align: right;\n",
       "    }\n",
       "</style>\n",
       "<table border=\"1\" class=\"dataframe\">\n",
       "  <thead>\n",
       "    <tr style=\"text-align: right;\">\n",
       "      <th></th>\n",
       "      <th>mpg</th>\n",
       "      <th>cylinders</th>\n",
       "      <th>displacement</th>\n",
       "      <th>horsepower</th>\n",
       "      <th>weight</th>\n",
       "      <th>acceleration</th>\n",
       "      <th>model_year</th>\n",
       "      <th>origin</th>\n",
       "      <th>car_maker_num</th>\n",
       "    </tr>\n",
       "  </thead>\n",
       "  <tbody>\n",
       "    <tr>\n",
       "      <th>mpg</th>\n",
       "      <td>1.000000</td>\n",
       "      <td>-0.777618</td>\n",
       "      <td>-0.805127</td>\n",
       "      <td>-0.778427</td>\n",
       "      <td>-0.832244</td>\n",
       "      <td>0.423329</td>\n",
       "      <td>0.580541</td>\n",
       "      <td>0.565209</td>\n",
       "      <td>0.277622</td>\n",
       "    </tr>\n",
       "    <tr>\n",
       "      <th>cylinders</th>\n",
       "      <td>-0.777618</td>\n",
       "      <td>1.000000</td>\n",
       "      <td>0.950823</td>\n",
       "      <td>0.842983</td>\n",
       "      <td>0.897527</td>\n",
       "      <td>-0.504683</td>\n",
       "      <td>-0.345647</td>\n",
       "      <td>-0.568932</td>\n",
       "      <td>-0.281659</td>\n",
       "    </tr>\n",
       "    <tr>\n",
       "      <th>displacement</th>\n",
       "      <td>-0.805127</td>\n",
       "      <td>0.950823</td>\n",
       "      <td>1.000000</td>\n",
       "      <td>0.897257</td>\n",
       "      <td>0.932994</td>\n",
       "      <td>-0.543800</td>\n",
       "      <td>-0.369855</td>\n",
       "      <td>-0.614535</td>\n",
       "      <td>-0.296023</td>\n",
       "    </tr>\n",
       "    <tr>\n",
       "      <th>horsepower</th>\n",
       "      <td>-0.778427</td>\n",
       "      <td>0.842983</td>\n",
       "      <td>0.897257</td>\n",
       "      <td>1.000000</td>\n",
       "      <td>0.864538</td>\n",
       "      <td>-0.689196</td>\n",
       "      <td>-0.416361</td>\n",
       "      <td>-0.455171</td>\n",
       "      <td>-0.234682</td>\n",
       "    </tr>\n",
       "    <tr>\n",
       "      <th>weight</th>\n",
       "      <td>-0.832244</td>\n",
       "      <td>0.897527</td>\n",
       "      <td>0.932994</td>\n",
       "      <td>0.864538</td>\n",
       "      <td>1.000000</td>\n",
       "      <td>-0.416839</td>\n",
       "      <td>-0.309120</td>\n",
       "      <td>-0.585005</td>\n",
       "      <td>-0.256351</td>\n",
       "    </tr>\n",
       "  </tbody>\n",
       "</table>\n",
       "</div>"
      ],
      "text/plain": [
       "                   mpg  cylinders  displacement  horsepower    weight  \\\n",
       "mpg           1.000000  -0.777618     -0.805127   -0.778427 -0.832244   \n",
       "cylinders    -0.777618   1.000000      0.950823    0.842983  0.897527   \n",
       "displacement -0.805127   0.950823      1.000000    0.897257  0.932994   \n",
       "horsepower   -0.778427   0.842983      0.897257    1.000000  0.864538   \n",
       "weight       -0.832244   0.897527      0.932994    0.864538  1.000000   \n",
       "\n",
       "              acceleration  model_year    origin  car_maker_num  \n",
       "mpg               0.423329    0.580541  0.565209       0.277622  \n",
       "cylinders        -0.504683   -0.345647 -0.568932      -0.281659  \n",
       "displacement     -0.543800   -0.369855 -0.614535      -0.296023  \n",
       "horsepower       -0.689196   -0.416361 -0.455171      -0.234682  \n",
       "weight           -0.416839   -0.309120 -0.585005      -0.256351  "
      ]
     },
     "execution_count": 12,
     "metadata": {},
     "output_type": "execute_result"
    }
   ],
   "source": [
    "data_corr = data.select_dtypes(include=[\"int\", \"float\"]).corr()\n",
    "data_corr.head()"
   ]
  },
  {
   "cell_type": "code",
   "execution_count": 17,
   "id": "c85cb23c",
   "metadata": {},
   "outputs": [
    {
     "data": {
      "image/png": "[encoded data removed]",
      "text/plain": [
       "<Figure size 640x480 with 1 Axes>"
      ]
     },
     "metadata": {},
     "output_type": "display_data"
    }
   ],
   "source": [
    "data_corr[\"mpg\"].sort_values(ascending=True).plot(kind=\"barh\")\n",
    "plt.show()"
   ]
  },
  {
   "cell_type": "code",
   "execution_count": 18,
   "id": "a3d32294",
   "metadata": {},
   "outputs": [
    {
     "data": {
      "text/plain": [
       "Index(['mpg', 'cylinders', 'displacement', 'horsepower', 'weight',\n",
       "       'acceleration', 'model_year', 'origin', 'car_name', 'car_maker',\n",
       "       'car_maker_num'],\n",
       "      dtype='object')"
      ]
     },
     "execution_count": 18,
     "metadata": {},
     "output_type": "execute_result"
    }
   ],
   "source": [
    "data.columns"
   ]
  },
  {
   "cell_type": "code",
   "execution_count": 67,
   "id": "a3a9e4ef",
   "metadata": {},
   "outputs": [],
   "source": [
    "input_x = data[['displacement', 'horsepower']].values\n",
    "response_y = data[\"mpg\"].values"
   ]
  },
  {
   "cell_type": "code",
   "execution_count": 68,
   "id": "15e91953",
   "metadata": {},
   "outputs": [
    {
     "name": "stdout",
     "output_type": "stream",
     "text": [
      "{'MAE': 3.47, 'MSE': 20.396, 'R-squared': 0.664}\n"
     ]
    }
   ],
   "source": [
    "model_new = LinearModel(input_x,response_y).build_model().model_metrics()\n",
    "print(model_new)\n",
    "# model_new.build_model().model_metrics()"
   ]
  },
  {
   "cell_type": "markdown",
   "id": "cc00cd67",
   "metadata": {},
   "source": [
    "# Dunder methods python "
   ]
  },
  {
   "cell_type": "code",
   "execution_count": 85,
   "id": "eaf3ddb4",
   "metadata": {},
   "outputs": [
    {
     "name": "stdout",
     "output_type": "stream",
     "text": [
      "did it work?\n"
     ]
    }
   ],
   "source": [
    "# class function \n",
    "\n",
    "class CleanData:\n",
    "    def __init__(self, input_data):\n",
    "        self.input_data = input_data\n",
    "        \n",
    "    def structure_data(self):\n",
    "        if self.input_data is not None:\n",
    "            self.input_data.columns = self.input_data.columns.str.strip().str.lower()\n",
    "            self.input_data = self.input_data.dropna()\n",
    "        \n",
    "        return self.input_data\n",
    "    \n",
    "# if __name__ '__main__': main()\n",
    "def main():\n",
    "    print(\"did it work?\")\n",
    "    # rez = CleanData(data).structure_data()\n",
    "    # return rez.head()\n",
    "    \n",
    "# data_reg = CleanData(data).structure_data()\n",
    "# data_reg.head()\n",
    "\n",
    "if __name__ == \"__main__\":\n",
    "    main() # Call the main function"
   ]
  },
  {
   "attachments": {
    "image.png": {
     "image/png": "[encoded data removed]"
    }
   },
   "cell_type": "markdown",
   "id": "f32c77d3",
   "metadata": {},
   "source": [
    "Self: newly created object \n",
    "__init__(): Define and initialize the instance of the class / constructor\n",
    "\n",
    "![image.png](attachment:image.png)"
   ]
  },
  {
   "attachments": {
    "image.png": {
     "image/png": "[encoded data removed]"
    }
   },
   "cell_type": "markdown",
   "id": "77fc44cf",
   "metadata": {},
   "source": [
    "![image.png](attachment:image.png)"
   ]
  },
  {
   "cell_type": "markdown",
   "id": "1aa61b85",
   "metadata": {},
   "source": [
    " Methods can only access instance variables \n",
    " "
   ]
  },
  {
   "cell_type": "code",
   "execution_count": 87,
   "id": "1d95a2e5",
   "metadata": {},
   "outputs": [
    {
     "data": {
      "application/vnd.microsoft.datawrangler.viewer.v0+json": {
       "columns": [
        {
         "name": "index",
         "rawType": "int64",
         "type": "integer"
        },
        {
         "name": "species",
         "rawType": "int64",
         "type": "integer"
        },
        {
         "name": "island",
         "rawType": "int64",
         "type": "integer"
        },
        {
         "name": "bill_length_mm",
         "rawType": "float64",
         "type": "float"
        },
        {
         "name": "bill_depth_mm",
         "rawType": "float64",
         "type": "float"
        },
        {
         "name": "flipper_length_mm",
         "rawType": "float64",
         "type": "float"
        },
        {
         "name": "body_mass_g",
         "rawType": "float64",
         "type": "float"
        }
       ],
       "ref": "eeb991aa-8e52-4990-bbf5-8f2fd49c91b8",
       "rows": [
        [
         "0",
         "0",
         "2",
         "39.1",
         "18.7",
         "181.0",
         "3750.0"
        ],
        [
         "1",
         "0",
         "2",
         "39.5",
         "17.4",
         "186.0",
         "3800.0"
        ],
        [
         "2",
         "0",
         "2",
         "40.3",
         "18.0",
         "195.0",
         "3250.0"
        ],
        [
         "3",
         "0",
         "2",
         "43.9219298245614",
         "17.151169590643278",
         "200.91520467836258",
         "4201.754385964912"
        ],
        [
         "4",
         "0",
         "2",
         "36.7",
         "19.3",
         "193.0",
         "3450.0"
        ]
       ],
       "shape": {
        "columns": 6,
        "rows": 5
       }
      },
      "text/html": [
       "<div>\n",
       "<style scoped>\n",
       "    .dataframe tbody tr th:only-of-type {\n",
       "        vertical-align: middle;\n",
       "    }\n",
       "\n",
       "    .dataframe tbody tr th {\n",
       "        vertical-align: top;\n",
       "    }\n",
       "\n",
       "    .dataframe thead th {\n",
       "        text-align: right;\n",
       "    }\n",
       "</style>\n",
       "<table border=\"1\" class=\"dataframe\">\n",
       "  <thead>\n",
       "    <tr style=\"text-align: right;\">\n",
       "      <th></th>\n",
       "      <th>species</th>\n",
       "      <th>island</th>\n",
       "      <th>bill_length_mm</th>\n",
       "      <th>bill_depth_mm</th>\n",
       "      <th>flipper_length_mm</th>\n",
       "      <th>body_mass_g</th>\n",
       "    </tr>\n",
       "  </thead>\n",
       "  <tbody>\n",
       "    <tr>\n",
       "      <th>0</th>\n",
       "      <td>0</td>\n",
       "      <td>2</td>\n",
       "      <td>39.10000</td>\n",
       "      <td>18.70000</td>\n",
       "      <td>181.000000</td>\n",
       "      <td>3750.000000</td>\n",
       "    </tr>\n",
       "    <tr>\n",
       "      <th>1</th>\n",
       "      <td>0</td>\n",
       "      <td>2</td>\n",
       "      <td>39.50000</td>\n",
       "      <td>17.40000</td>\n",
       "      <td>186.000000</td>\n",
       "      <td>3800.000000</td>\n",
       "    </tr>\n",
       "    <tr>\n",
       "      <th>2</th>\n",
       "      <td>0</td>\n",
       "      <td>2</td>\n",
       "      <td>40.30000</td>\n",
       "      <td>18.00000</td>\n",
       "      <td>195.000000</td>\n",
       "      <td>3250.000000</td>\n",
       "    </tr>\n",
       "    <tr>\n",
       "      <th>3</th>\n",
       "      <td>0</td>\n",
       "      <td>2</td>\n",
       "      <td>43.92193</td>\n",
       "      <td>17.15117</td>\n",
       "      <td>200.915205</td>\n",
       "      <td>4201.754386</td>\n",
       "    </tr>\n",
       "    <tr>\n",
       "      <th>4</th>\n",
       "      <td>0</td>\n",
       "      <td>2</td>\n",
       "      <td>36.70000</td>\n",
       "      <td>19.30000</td>\n",
       "      <td>193.000000</td>\n",
       "      <td>3450.000000</td>\n",
       "    </tr>\n",
       "  </tbody>\n",
       "</table>\n",
       "</div>"
      ],
      "text/plain": [
       "   species  island  bill_length_mm  bill_depth_mm  flipper_length_mm  \\\n",
       "0        0       2        39.10000       18.70000         181.000000   \n",
       "1        0       2        39.50000       17.40000         186.000000   \n",
       "2        0       2        40.30000       18.00000         195.000000   \n",
       "3        0       2        43.92193       17.15117         200.915205   \n",
       "4        0       2        36.70000       19.30000         193.000000   \n",
       "\n",
       "   body_mass_g  \n",
       "0  3750.000000  \n",
       "1  3800.000000  \n",
       "2  3250.000000  \n",
       "3  4201.754386  \n",
       "4  3450.000000  "
      ]
     },
     "execution_count": 87,
     "metadata": {},
     "output_type": "execute_result"
    }
   ],
   "source": [
    "penguins = pd.read_pickle(\"../src/cleaned_df.pkl\")\n",
    "penguins.head()"
   ]
  },
  {
   "cell_type": "code",
   "execution_count": 89,
   "id": "67546bfc",
   "metadata": {},
   "outputs": [
    {
     "data": {
      "application/vnd.microsoft.datawrangler.viewer.v0+json": {
       "columns": [
        {
         "name": "index",
         "rawType": "int64",
         "type": "integer"
        },
        {
         "name": "species",
         "rawType": "int64",
         "type": "integer"
        }
       ],
       "ref": "11a475a6-af28-4d0b-a50a-785ae3fe6c2f",
       "rows": [
        [
         "0",
         "0"
        ],
        [
         "1",
         "0"
        ],
        [
         "2",
         "0"
        ],
        [
         "3",
         "0"
        ],
        [
         "4",
         "0"
        ],
        [
         "5",
         "0"
        ],
        [
         "6",
         "0"
        ],
        [
         "7",
         "0"
        ],
        [
         "8",
         "0"
        ],
        [
         "9",
         "0"
        ],
        [
         "10",
         "0"
        ],
        [
         "11",
         "0"
        ],
        [
         "12",
         "0"
        ],
        [
         "13",
         "0"
        ],
        [
         "14",
         "0"
        ],
        [
         "15",
         "0"
        ],
        [
         "16",
         "0"
        ],
        [
         "17",
         "0"
        ],
        [
         "18",
         "0"
        ],
        [
         "19",
         "0"
        ],
        [
         "20",
         "0"
        ],
        [
         "21",
         "0"
        ],
        [
         "22",
         "0"
        ],
        [
         "23",
         "0"
        ],
        [
         "24",
         "0"
        ],
        [
         "25",
         "0"
        ],
        [
         "26",
         "0"
        ],
        [
         "27",
         "0"
        ],
        [
         "28",
         "0"
        ],
        [
         "29",
         "0"
        ],
        [
         "30",
         "0"
        ],
        [
         "31",
         "0"
        ],
        [
         "32",
         "0"
        ],
        [
         "33",
         "0"
        ],
        [
         "34",
         "0"
        ],
        [
         "35",
         "0"
        ],
        [
         "36",
         "0"
        ],
        [
         "37",
         "0"
        ],
        [
         "38",
         "0"
        ],
        [
         "39",
         "0"
        ],
        [
         "40",
         "0"
        ],
        [
         "41",
         "0"
        ],
        [
         "42",
         "0"
        ],
        [
         "43",
         "0"
        ],
        [
         "44",
         "0"
        ],
        [
         "45",
         "0"
        ],
        [
         "46",
         "0"
        ],
        [
         "47",
         "0"
        ],
        [
         "48",
         "0"
        ],
        [
         "49",
         "0"
        ]
       ],
       "shape": {
        "columns": 1,
        "rows": 344
       }
      },
      "text/plain": [
       "0      0\n",
       "1      0\n",
       "2      0\n",
       "3      0\n",
       "4      0\n",
       "      ..\n",
       "339    2\n",
       "340    2\n",
       "341    2\n",
       "342    2\n",
       "343    2\n",
       "Name: species, Length: 344, dtype: int64"
      ]
     },
     "execution_count": 89,
     "metadata": {},
     "output_type": "execute_result"
    }
   ],
   "source": [
    "penguins.iloc[:,0]"
   ]
  },
  {
   "cell_type": "code",
   "execution_count": 88,
   "id": "8b9f257a",
   "metadata": {},
   "outputs": [
    {
     "data": {
      "application/vnd.microsoft.datawrangler.viewer.v0+json": {
       "columns": [
        {
         "name": "index",
         "rawType": "int64",
         "type": "integer"
        },
        {
         "name": "bill_length_mm",
         "rawType": "float64",
         "type": "float"
        },
        {
         "name": "bill_depth_mm",
         "rawType": "float64",
         "type": "float"
        },
        {
         "name": "flipper_length_mm",
         "rawType": "float64",
         "type": "float"
        },
        {
         "name": "body_mass_g",
         "rawType": "float64",
         "type": "float"
        }
       ],
       "ref": "9f88c0fb-30c3-49fa-8073-4c235a7345e2",
       "rows": [
        [
         "0",
         "39.1",
         "18.7",
         "181.0",
         "3750.0"
        ],
        [
         "1",
         "39.5",
         "17.4",
         "186.0",
         "3800.0"
        ],
        [
         "2",
         "40.3",
         "18.0",
         "195.0",
         "3250.0"
        ],
        [
         "3",
         "43.9219298245614",
         "17.151169590643278",
         "200.91520467836258",
         "4201.754385964912"
        ],
        [
         "4",
         "36.7",
         "19.3",
         "193.0",
         "3450.0"
        ],
        [
         "5",
         "39.3",
         "20.6",
         "190.0",
         "3650.0"
        ],
        [
         "6",
         "38.9",
         "17.8",
         "181.0",
         "3625.0"
        ],
        [
         "7",
         "39.2",
         "19.6",
         "195.0",
         "4675.0"
        ],
        [
         "8",
         "34.1",
         "18.1",
         "193.0",
         "3475.0"
        ],
        [
         "9",
         "42.0",
         "20.2",
         "190.0",
         "4250.0"
        ],
        [
         "10",
         "37.8",
         "17.1",
         "186.0",
         "3300.0"
        ],
        [
         "11",
         "37.8",
         "17.3",
         "180.0",
         "3700.0"
        ],
        [
         "12",
         "41.1",
         "17.6",
         "182.0",
         "3200.0"
        ],
        [
         "13",
         "38.6",
         "21.2",
         "191.0",
         "3800.0"
        ],
        [
         "14",
         "34.6",
         "21.1",
         "198.0",
         "4400.0"
        ],
        [
         "15",
         "36.6",
         "17.8",
         "185.0",
         "3700.0"
        ],
        [
         "16",
         "38.7",
         "19.0",
         "195.0",
         "3450.0"
        ],
        [
         "17",
         "42.5",
         "20.7",
         "197.0",
         "4500.0"
        ],
        [
         "18",
         "34.4",
         "18.4",
         "184.0",
         "3325.0"
        ],
        [
         "19",
         "46.0",
         "21.5",
         "194.0",
         "4200.0"
        ],
        [
         "20",
         "37.8",
         "18.3",
         "174.0",
         "3400.0"
        ],
        [
         "21",
         "37.7",
         "18.7",
         "180.0",
         "3600.0"
        ],
        [
         "22",
         "35.9",
         "19.2",
         "189.0",
         "3800.0"
        ],
        [
         "23",
         "38.2",
         "18.1",
         "185.0",
         "3950.0"
        ],
        [
         "24",
         "38.8",
         "17.2",
         "180.0",
         "3800.0"
        ],
        [
         "25",
         "35.3",
         "18.9",
         "187.0",
         "3800.0"
        ],
        [
         "26",
         "40.6",
         "18.6",
         "183.0",
         "3550.0"
        ],
        [
         "27",
         "40.5",
         "17.9",
         "187.0",
         "3200.0"
        ],
        [
         "28",
         "37.9",
         "18.6",
         "172.0",
         "3150.0"
        ],
        [
         "29",
         "40.5",
         "18.9",
         "180.0",
         "3950.0"
        ],
        [
         "30",
         "39.5",
         "16.7",
         "178.0",
         "3250.0"
        ],
        [
         "31",
         "37.2",
         "18.1",
         "178.0",
         "3900.0"
        ],
        [
         "32",
         "39.5",
         "17.8",
         "188.0",
         "3300.0"
        ],
        [
         "33",
         "40.9",
         "18.9",
         "184.0",
         "3900.0"
        ],
        [
         "34",
         "36.4",
         "17.0",
         "195.0",
         "3325.0"
        ],
        [
         "35",
         "39.2",
         "21.1",
         "196.0",
         "4150.0"
        ],
        [
         "36",
         "38.8",
         "20.0",
         "190.0",
         "3950.0"
        ],
        [
         "37",
         "42.2",
         "18.5",
         "180.0",
         "3550.0"
        ],
        [
         "38",
         "37.6",
         "19.3",
         "181.0",
         "3300.0"
        ],
        [
         "39",
         "39.8",
         "19.1",
         "184.0",
         "4650.0"
        ],
        [
         "40",
         "36.5",
         "18.0",
         "182.0",
         "3150.0"
        ],
        [
         "41",
         "40.8",
         "18.4",
         "195.0",
         "3900.0"
        ],
        [
         "42",
         "36.0",
         "18.5",
         "186.0",
         "3100.0"
        ],
        [
         "43",
         "44.1",
         "19.7",
         "196.0",
         "4400.0"
        ],
        [
         "44",
         "37.0",
         "16.9",
         "185.0",
         "3000.0"
        ],
        [
         "45",
         "39.6",
         "18.8",
         "190.0",
         "4600.0"
        ],
        [
         "46",
         "41.1",
         "19.0",
         "182.0",
         "3425.0"
        ],
        [
         "47",
         "37.5",
         "18.9",
         "179.0",
         "2975.0"
        ],
        [
         "48",
         "36.0",
         "17.9",
         "190.0",
         "3450.0"
        ],
        [
         "49",
         "42.3",
         "21.2",
         "191.0",
         "4150.0"
        ]
       ],
       "shape": {
        "columns": 4,
        "rows": 344
       }
      },
      "text/html": [
       "<div>\n",
       "<style scoped>\n",
       "    .dataframe tbody tr th:only-of-type {\n",
       "        vertical-align: middle;\n",
       "    }\n",
       "\n",
       "    .dataframe tbody tr th {\n",
       "        vertical-align: top;\n",
       "    }\n",
       "\n",
       "    .dataframe thead th {\n",
       "        text-align: right;\n",
       "    }\n",
       "</style>\n",
       "<table border=\"1\" class=\"dataframe\">\n",
       "  <thead>\n",
       "    <tr style=\"text-align: right;\">\n",
       "      <th></th>\n",
       "      <th>bill_length_mm</th>\n",
       "      <th>bill_depth_mm</th>\n",
       "      <th>flipper_length_mm</th>\n",
       "      <th>body_mass_g</th>\n",
       "    </tr>\n",
       "  </thead>\n",
       "  <tbody>\n",
       "    <tr>\n",
       "      <th>0</th>\n",
       "      <td>39.10000</td>\n",
       "      <td>18.70000</td>\n",
       "      <td>181.000000</td>\n",
       "      <td>3750.000000</td>\n",
       "    </tr>\n",
       "    <tr>\n",
       "      <th>1</th>\n",
       "      <td>39.50000</td>\n",
       "      <td>17.40000</td>\n",
       "      <td>186.000000</td>\n",
       "      <td>3800.000000</td>\n",
       "    </tr>\n",
       "    <tr>\n",
       "      <th>2</th>\n",
       "      <td>40.30000</td>\n",
       "      <td>18.00000</td>\n",
       "      <td>195.000000</td>\n",
       "      <td>3250.000000</td>\n",
       "    </tr>\n",
       "    <tr>\n",
       "      <th>3</th>\n",
       "      <td>43.92193</td>\n",
       "      <td>17.15117</td>\n",
       "      <td>200.915205</td>\n",
       "      <td>4201.754386</td>\n",
       "    </tr>\n",
       "    <tr>\n",
       "      <th>4</th>\n",
       "      <td>36.70000</td>\n",
       "      <td>19.30000</td>\n",
       "      <td>193.000000</td>\n",
       "      <td>3450.000000</td>\n",
       "    </tr>\n",
       "    <tr>\n",
       "      <th>...</th>\n",
       "      <td>...</td>\n",
       "      <td>...</td>\n",
       "      <td>...</td>\n",
       "      <td>...</td>\n",
       "    </tr>\n",
       "    <tr>\n",
       "      <th>339</th>\n",
       "      <td>43.92193</td>\n",
       "      <td>17.15117</td>\n",
       "      <td>200.915205</td>\n",
       "      <td>4201.754386</td>\n",
       "    </tr>\n",
       "    <tr>\n",
       "      <th>340</th>\n",
       "      <td>46.80000</td>\n",
       "      <td>14.30000</td>\n",
       "      <td>215.000000</td>\n",
       "      <td>4850.000000</td>\n",
       "    </tr>\n",
       "    <tr>\n",
       "      <th>341</th>\n",
       "      <td>50.40000</td>\n",
       "      <td>15.70000</td>\n",
       "      <td>222.000000</td>\n",
       "      <td>5750.000000</td>\n",
       "    </tr>\n",
       "    <tr>\n",
       "      <th>342</th>\n",
       "      <td>45.20000</td>\n",
       "      <td>14.80000</td>\n",
       "      <td>212.000000</td>\n",
       "      <td>5200.000000</td>\n",
       "    </tr>\n",
       "    <tr>\n",
       "      <th>343</th>\n",
       "      <td>49.90000</td>\n",
       "      <td>16.10000</td>\n",
       "      <td>213.000000</td>\n",
       "      <td>5400.000000</td>\n",
       "    </tr>\n",
       "  </tbody>\n",
       "</table>\n",
       "<p>344 rows × 4 columns</p>\n",
       "</div>"
      ],
      "text/plain": [
       "     bill_length_mm  bill_depth_mm  flipper_length_mm  body_mass_g\n",
       "0          39.10000       18.70000         181.000000  3750.000000\n",
       "1          39.50000       17.40000         186.000000  3800.000000\n",
       "2          40.30000       18.00000         195.000000  3250.000000\n",
       "3          43.92193       17.15117         200.915205  4201.754386\n",
       "4          36.70000       19.30000         193.000000  3450.000000\n",
       "..              ...            ...                ...          ...\n",
       "339        43.92193       17.15117         200.915205  4201.754386\n",
       "340        46.80000       14.30000         215.000000  4850.000000\n",
       "341        50.40000       15.70000         222.000000  5750.000000\n",
       "342        45.20000       14.80000         212.000000  5200.000000\n",
       "343        49.90000       16.10000         213.000000  5400.000000\n",
       "\n",
       "[344 rows x 4 columns]"
      ]
     },
     "execution_count": 88,
     "metadata": {},
     "output_type": "execute_result"
    }
   ],
   "source": [
    "penguins.iloc[:,2: ]"
   ]
  },
  {
   "cell_type": "code",
   "execution_count": 120,
   "id": "8788cc78",
   "metadata": {},
   "outputs": [],
   "source": [
    "from sklearn.naive_bayes import GaussianNB\n",
    "from sklearn.metrics import accuracy_score, precision_score, recall_score, f1_score, classification_report"
   ]
  },
  {
   "cell_type": "code",
   "execution_count": 121,
   "id": "901e554e",
   "metadata": {},
   "outputs": [],
   "source": [
    "# Class object oriented programming \n",
    "\n",
    "class CleanPenguin:\n",
    "    def __init__(self, input_data, random_state=42, test_size=0.2):\n",
    "        self.input_data = input_data\n",
    "        self.random_state = random_state\n",
    "        self.test_size = test_size\n",
    "        \n",
    "    def mod(self):\n",
    "        self.input_data.columns = self.input_data.columns.str.strip().str.lower()\n",
    "        self.input_data = self.input_data.dropna()\n",
    "        self.X = self.input_data.iloc[:,2:].values\n",
    "        self.y = self.input_data.iloc[:,1].values\n",
    "        return self\n",
    "    \n",
    "    def split_data(self):\n",
    "        self.X_train, self.X_test, self.y_train, self.y_test = train_test_split(self.X, self.y, \n",
    "                                                                                test_size=self.test_size,\n",
    "                                                                                random_state=self.random_state,\n",
    "                                                                                stratify=self.y\n",
    "                                                                                )\n",
    "        return self\n",
    "        \n",
    "    def class_model(self):\n",
    "        if self.X_train is not None:\n",
    "            self.clf = GaussianNB()\n",
    "            self.clf.fit(self.X_train, self.y_train)\n",
    "            \n",
    "        return self \n",
    "    \n",
    "    def model_metrics(self):\n",
    "        self.y_predict = self.clf.predict(self.X_test)\n",
    "        \n",
    "        self.clf_report = classification_report(self.y_test, self.y_predict)\n",
    "        # self.accuracy = accuracy_score(self.y_test, self.y_predict,  average=\"micro\")\n",
    "        # self.precision = precision_score(self.y_test, self.y_predict,  average=\"micro\")\n",
    "        # self.recall = recall_score(self.y_test, self.y_predict,  average=\"micro\")\n",
    "        # self.f1     = f1_score(self.y_test, self.y_predict, average=\"micro\")\n",
    "        \n",
    "        \n",
    "        # metrics = {\n",
    "        #             \"ACCURACY\": round(self.accuracy, 4),\n",
    "        #             \"PRECISION\": round(self.precision, 4),\n",
    "        #             \"RECALL\": round(self.precision, 4),\n",
    "        #             \"F1 SCORE \" :round(self.f1, 4)\n",
    "        #             }\n",
    "        \n",
    "        return self.clf_report\n",
    "            \n",
    "    "
   ]
  },
  {
   "cell_type": "code",
   "execution_count": null,
   "id": "6ae28c89",
   "metadata": {},
   "outputs": [
    {
     "name": "stdout",
     "output_type": "stream",
     "text": [
      "              precision    recall  f1-score   support\n",
      "\n",
      "           0       0.91      0.88      0.90        34\n",
      "           1       0.71      0.68      0.69        25\n",
      "           2       0.33      0.40      0.36        10\n",
      "\n",
      "    accuracy                           0.74        69\n",
      "   macro avg       0.65      0.65      0.65        69\n",
      "weighted avg       0.75      0.74      0.75        69\n",
      "\n"
     ]
    },
    {
     "ename": "",
     "evalue": "",
     "output_type": "error",
     "traceback": [
      "\u001b[1;31mThe Kernel crashed while executing code in the current cell or a previous cell. \n",
      "\u001b[1;31mPlease review the code in the cell(s) to identify a possible cause of the failure. \n",
      "\u001b[1;31mClick <a href='https://aka.ms/vscodeJupyterKernelCrash'>here</a> for more info. \n",
      "\u001b[1;31mView Jupyter <a href='command:jupyter.viewOutput'>log</a> for further details."
     ]
    }
   ],
   "source": [
    "model2 =CleanPenguin(penguins).mod().split_data().class_model().model_metrics()\n",
    "print(model2)\n",
    "# model2.clean_cols().split_data().class_model().model_metrics()"
   ]
  },
  {
   "cell_type": "markdown",
   "id": "d149e000",
   "metadata": {},
   "source": []
  }
 ],
 "metadata": {
  "kernelspec": {
   "display_name": ".venv",
   "language": "python",
   "name": "python3"
  },
  "language_info": {
   "codemirror_mode": {
    "name": "ipython",
    "version": 3
   },
   "file_extension": ".py",
   "mimetype": "text/x-python",
   "name": "python",
   "nbconvert_exporter": "python",
   "pygments_lexer": "ipython3",
   "version": "3.11.9"
  }
 },
 "nbformat": 4,
 "nbformat_minor": 5
}
