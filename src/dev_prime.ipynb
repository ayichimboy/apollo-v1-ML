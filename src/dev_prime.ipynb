{
 "cells": [
  {
   "cell_type": "code",
   "execution_count": null,
   "id": "e4a93b40",
   "metadata": {},
   "outputs": [],
   "source": [
    "# Load Libraries\n",
    "\n",
    "import numpy as np                \n",
    "import pandas as pd                 \n",
    "import seaborn as sns              \n",
    "import matplotlib.pyplot as plt                "
   ]
  },
  {
   "cell_type": "code",
   "execution_count": 3,
   "id": "6fcd8bdb",
   "metadata": {},
   "outputs": [
    {
     "data": {
      "text/plain": [
       "[0, 1, 2, 3, 4, 5, 6, 7, 8, 9]"
      ]
     },
     "execution_count": 3,
     "metadata": {},
     "output_type": "execute_result"
    }
   ],
   "source": [
    "num_value = list(range(0,10))\n",
    "num_value"
   ]
  },
  {
   "cell_type": "code",
   "execution_count": null,
   "id": "cd0653a4",
   "metadata": {},
   "outputs": [
    {
     "name": "stdout",
     "output_type": "stream",
     "text": [
      "[0, 1, 2, 3, 4, 5, 6, 7, 8, 9]\n"
     ]
    }
   ],
   "source": [
    "xnum = list(range(10)) #inclusive and exculisve\n",
    "print(xnum)"
   ]
  },
  {
   "cell_type": "code",
   "execution_count": 7,
   "id": "d82b3837",
   "metadata": {},
   "outputs": [
    {
     "data": {
      "text/plain": [
       "[0, 1, 2, 3, 4, 5, 6, 7, 8, 9]"
      ]
     },
     "execution_count": 7,
     "metadata": {},
     "output_type": "execute_result"
    }
   ],
   "source": [
    "[value for value in num_value if value < 10]"
   ]
  },
  {
   "cell_type": "code",
   "execution_count": 16,
   "id": "a3835ee5",
   "metadata": {},
   "outputs": [
    {
     "data": {
      "text/plain": [
       "[6, 7, 8, 9]"
      ]
     },
     "execution_count": 16,
     "metadata": {},
     "output_type": "execute_result"
    }
   ],
   "source": [
    "[x for x in num_value if x > 5]"
   ]
  },
  {
   "cell_type": "code",
   "execution_count": 5,
   "id": "afdbc7be",
   "metadata": {},
   "outputs": [
    {
     "name": "stdout",
     "output_type": "stream",
     "text": [
      "0:0\n",
      "1:1\n",
      "2:2\n",
      "3:3\n",
      "4:4\n",
      "5:5\n",
      "6:6\n",
      "7:7\n",
      "8:8\n",
      "9:9\n"
     ]
    }
   ],
   "source": [
    "for index,value in enumerate(num_value):\n",
    "    print(f\"{index}:{value}\")"
   ]
  },
  {
   "cell_type": "code",
   "execution_count": 4,
   "id": "cad939f1",
   "metadata": {},
   "outputs": [
    {
     "name": "stdout",
     "output_type": "stream",
     "text": [
      "0\n",
      "1\n",
      "2\n",
      "3\n",
      "4\n",
      "5\n",
      "6\n",
      "7\n",
      "8\n",
      "9\n"
     ]
    }
   ],
   "source": [
    "for value in num_value:\n",
    "    print(value)"
   ]
  },
  {
   "cell_type": "code",
   "execution_count": 19,
   "id": "6193ef53",
   "metadata": {},
   "outputs": [
    {
     "data": {
      "text/plain": [
       "[0, 1, 2, 3, 4, 5, 6, 7, 8, 9]"
      ]
     },
     "execution_count": 19,
     "metadata": {},
     "output_type": "execute_result"
    }
   ],
   "source": [
    "xnum"
   ]
  },
  {
   "cell_type": "code",
   "execution_count": null,
   "id": "21edf43d",
   "metadata": {},
   "outputs": [
    {
     "name": "stdout",
     "output_type": "stream",
     "text": [
      "45\n"
     ]
    }
   ],
   "source": [
    "sum = 0\n",
    "for nun in xnum:\n",
    "    sum += nun\n",
    "print(sum)"
   ]
  },
  {
   "cell_type": "code",
   "execution_count": 22,
   "id": "97fb5a21",
   "metadata": {},
   "outputs": [
    {
     "name": "stdout",
     "output_type": "stream",
     "text": [
      "[0, 1, 2, 3, 4, 5, 6, 7, 8, 9]\n"
     ]
    }
   ],
   "source": [
    "files = []\n",
    "\n",
    "for num in xnum:\n",
    "    files.append(num)\n",
    "print(files)"
   ]
  },
  {
   "cell_type": "code",
   "execution_count": null,
   "id": "f93de1c5",
   "metadata": {},
   "outputs": [],
   "source": [
    "# append\n",
    "# insert \n",
    "# pop "
   ]
  },
  {
   "cell_type": "code",
   "execution_count": null,
   "id": "0a8393f2",
   "metadata": {},
   "outputs": [
    {
     "name": "stdout",
     "output_type": "stream",
     "text": [
      "94\n"
     ]
    }
   ],
   "source": [
    "num = 44\n",
    "num += 50\n",
    "\n",
    "print(num)"
   ]
  },
  {
   "cell_type": "code",
   "execution_count": 30,
   "id": "158285ac",
   "metadata": {},
   "outputs": [],
   "source": [
    "myzeez = [ 3,4,5]\n",
    "dezeez = [ 6,7,8]\n",
    "\n"
   ]
  },
  {
   "cell_type": "markdown",
   "id": "a1960703",
   "metadata": {},
   "source": [
    "# Load Data 🔥🧯"
   ]
  },
  {
   "cell_type": "code",
   "execution_count": 36,
   "id": "f558fc9d",
   "metadata": {},
   "outputs": [
    {
     "name": "stdout",
     "output_type": "stream",
     "text": [
      "<class 'pandas.core.frame.DataFrame'>\n",
      "RangeIndex: 344 entries, 0 to 343\n",
      "Data columns (total 7 columns):\n",
      " #   Column             Non-Null Count  Dtype  \n",
      "---  ------             --------------  -----  \n",
      " 0   species            344 non-null    object \n",
      " 1   island             344 non-null    object \n",
      " 2   bill_length_mm     342 non-null    float64\n",
      " 3   bill_depth_mm      342 non-null    float64\n",
      " 4   flipper_length_mm  342 non-null    float64\n",
      " 5   body_mass_g        342 non-null    float64\n",
      " 6   sex                333 non-null    object \n",
      "dtypes: float64(4), object(3)\n",
      "memory usage: 18.9+ KB\n"
     ]
    }
   ],
   "source": [
    "data = pd.read_csv(\"penguins.csv\")\n",
    "data.info()"
   ]
  },
  {
   "cell_type": "code",
   "execution_count": 38,
   "id": "5e07e7b2",
   "metadata": {},
   "outputs": [
    {
     "data": {
      "text/plain": [
       "['Adelie', 'Chinstrap', 'Gentoo']"
      ]
     },
     "execution_count": 38,
     "metadata": {},
     "output_type": "execute_result"
    }
   ],
   "source": [
    "list(data[\"species\"].unique())"
   ]
  },
  {
   "cell_type": "code",
   "execution_count": 42,
   "id": "9c09214d",
   "metadata": {},
   "outputs": [
    {
     "name": "stdout",
     "output_type": "stream",
     "text": [
      "3\n"
     ]
    }
   ],
   "source": [
    "print(data[\"species\"].nunique())"
   ]
  },
  {
   "cell_type": "code",
   "execution_count": 56,
   "id": "be9d4f23",
   "metadata": {},
   "outputs": [],
   "source": [
    "from sklearn.impute import SimpleImputer, KNNImputer\n",
    "\n",
    "n_neigbors = data[\"species\"].nunique()\n",
    "knn_imputer = KNNImputer(n_neighbors=n_neigbors)\n",
    "\n",
    "data_num = data.select_dtypes(include=\"float64\")\n",
    "data_new = pd.DataFrame(knn_imputer.fit_transform(data_num), columns= data_num.columns)\n",
    "\n",
    "# data_new"
   ]
  },
  {
   "cell_type": "code",
   "execution_count": 57,
   "id": "45ceaab1",
   "metadata": {},
   "outputs": [
    {
     "data": {
      "application/vnd.microsoft.datawrangler.viewer.v0+json": {
       "columns": [
        {
         "name": "index",
         "rawType": "int64",
         "type": "integer"
        },
        {
         "name": "bill_length_mm",
         "rawType": "float64",
         "type": "float"
        },
        {
         "name": "bill_depth_mm",
         "rawType": "float64",
         "type": "float"
        },
        {
         "name": "flipper_length_mm",
         "rawType": "float64",
         "type": "float"
        },
        {
         "name": "body_mass_g",
         "rawType": "float64",
         "type": "float"
        }
       ],
       "ref": "7691a6be-f7c4-4b63-a906-783abbe3fd4a",
       "rows": [
        [
         "0",
         "39.1",
         "18.7",
         "181.0",
         "3750.0"
        ],
        [
         "1",
         "39.5",
         "17.4",
         "186.0",
         "3800.0"
        ],
        [
         "2",
         "40.3",
         "18.0",
         "195.0",
         "3250.0"
        ],
        [
         "3",
         "43.9219298245614",
         "17.151169590643278",
         "200.91520467836258",
         "4201.754385964912"
        ],
        [
         "4",
         "36.7",
         "19.3",
         "193.0",
         "3450.0"
        ],
        [
         "5",
         "39.3",
         "20.6",
         "190.0",
         "3650.0"
        ],
        [
         "6",
         "38.9",
         "17.8",
         "181.0",
         "3625.0"
        ],
        [
         "7",
         "39.2",
         "19.6",
         "195.0",
         "4675.0"
        ],
        [
         "8",
         "34.1",
         "18.1",
         "193.0",
         "3475.0"
        ],
        [
         "9",
         "42.0",
         "20.2",
         "190.0",
         "4250.0"
        ],
        [
         "10",
         "37.8",
         "17.1",
         "186.0",
         "3300.0"
        ],
        [
         "11",
         "37.8",
         "17.3",
         "180.0",
         "3700.0"
        ],
        [
         "12",
         "41.1",
         "17.6",
         "182.0",
         "3200.0"
        ],
        [
         "13",
         "38.6",
         "21.2",
         "191.0",
         "3800.0"
        ],
        [
         "14",
         "34.6",
         "21.1",
         "198.0",
         "4400.0"
        ],
        [
         "15",
         "36.6",
         "17.8",
         "185.0",
         "3700.0"
        ],
        [
         "16",
         "38.7",
         "19.0",
         "195.0",
         "3450.0"
        ],
        [
         "17",
         "42.5",
         "20.7",
         "197.0",
         "4500.0"
        ],
        [
         "18",
         "34.4",
         "18.4",
         "184.0",
         "3325.0"
        ],
        [
         "19",
         "46.0",
         "21.5",
         "194.0",
         "4200.0"
        ],
        [
         "20",
         "37.8",
         "18.3",
         "174.0",
         "3400.0"
        ],
        [
         "21",
         "37.7",
         "18.7",
         "180.0",
         "3600.0"
        ],
        [
         "22",
         "35.9",
         "19.2",
         "189.0",
         "3800.0"
        ],
        [
         "23",
         "38.2",
         "18.1",
         "185.0",
         "3950.0"
        ],
        [
         "24",
         "38.8",
         "17.2",
         "180.0",
         "3800.0"
        ],
        [
         "25",
         "35.3",
         "18.9",
         "187.0",
         "3800.0"
        ],
        [
         "26",
         "40.6",
         "18.6",
         "183.0",
         "3550.0"
        ],
        [
         "27",
         "40.5",
         "17.9",
         "187.0",
         "3200.0"
        ],
        [
         "28",
         "37.9",
         "18.6",
         "172.0",
         "3150.0"
        ],
        [
         "29",
         "40.5",
         "18.9",
         "180.0",
         "3950.0"
        ],
        [
         "30",
         "39.5",
         "16.7",
         "178.0",
         "3250.0"
        ],
        [
         "31",
         "37.2",
         "18.1",
         "178.0",
         "3900.0"
        ],
        [
         "32",
         "39.5",
         "17.8",
         "188.0",
         "3300.0"
        ],
        [
         "33",
         "40.9",
         "18.9",
         "184.0",
         "3900.0"
        ],
        [
         "34",
         "36.4",
         "17.0",
         "195.0",
         "3325.0"
        ],
        [
         "35",
         "39.2",
         "21.1",
         "196.0",
         "4150.0"
        ],
        [
         "36",
         "38.8",
         "20.0",
         "190.0",
         "3950.0"
        ],
        [
         "37",
         "42.2",
         "18.5",
         "180.0",
         "3550.0"
        ],
        [
         "38",
         "37.6",
         "19.3",
         "181.0",
         "3300.0"
        ],
        [
         "39",
         "39.8",
         "19.1",
         "184.0",
         "4650.0"
        ],
        [
         "40",
         "36.5",
         "18.0",
         "182.0",
         "3150.0"
        ],
        [
         "41",
         "40.8",
         "18.4",
         "195.0",
         "3900.0"
        ],
        [
         "42",
         "36.0",
         "18.5",
         "186.0",
         "3100.0"
        ],
        [
         "43",
         "44.1",
         "19.7",
         "196.0",
         "4400.0"
        ],
        [
         "44",
         "37.0",
         "16.9",
         "185.0",
         "3000.0"
        ],
        [
         "45",
         "39.6",
         "18.8",
         "190.0",
         "4600.0"
        ],
        [
         "46",
         "41.1",
         "19.0",
         "182.0",
         "3425.0"
        ],
        [
         "47",
         "37.5",
         "18.9",
         "179.0",
         "2975.0"
        ],
        [
         "48",
         "36.0",
         "17.9",
         "190.0",
         "3450.0"
        ],
        [
         "49",
         "42.3",
         "21.2",
         "191.0",
         "4150.0"
        ]
       ],
       "shape": {
        "columns": 4,
        "rows": 344
       }
      },
      "text/html": [
       "<div>\n",
       "<style scoped>\n",
       "    .dataframe tbody tr th:only-of-type {\n",
       "        vertical-align: middle;\n",
       "    }\n",
       "\n",
       "    .dataframe tbody tr th {\n",
       "        vertical-align: top;\n",
       "    }\n",
       "\n",
       "    .dataframe thead th {\n",
       "        text-align: right;\n",
       "    }\n",
       "</style>\n",
       "<table border=\"1\" class=\"dataframe\">\n",
       "  <thead>\n",
       "    <tr style=\"text-align: right;\">\n",
       "      <th></th>\n",
       "      <th>bill_length_mm</th>\n",
       "      <th>bill_depth_mm</th>\n",
       "      <th>flipper_length_mm</th>\n",
       "      <th>body_mass_g</th>\n",
       "    </tr>\n",
       "  </thead>\n",
       "  <tbody>\n",
       "    <tr>\n",
       "      <th>0</th>\n",
       "      <td>39.10000</td>\n",
       "      <td>18.70000</td>\n",
       "      <td>181.000000</td>\n",
       "      <td>3750.000000</td>\n",
       "    </tr>\n",
       "    <tr>\n",
       "      <th>1</th>\n",
       "      <td>39.50000</td>\n",
       "      <td>17.40000</td>\n",
       "      <td>186.000000</td>\n",
       "      <td>3800.000000</td>\n",
       "    </tr>\n",
       "    <tr>\n",
       "      <th>2</th>\n",
       "      <td>40.30000</td>\n",
       "      <td>18.00000</td>\n",
       "      <td>195.000000</td>\n",
       "      <td>3250.000000</td>\n",
       "    </tr>\n",
       "    <tr>\n",
       "      <th>3</th>\n",
       "      <td>43.92193</td>\n",
       "      <td>17.15117</td>\n",
       "      <td>200.915205</td>\n",
       "      <td>4201.754386</td>\n",
       "    </tr>\n",
       "    <tr>\n",
       "      <th>4</th>\n",
       "      <td>36.70000</td>\n",
       "      <td>19.30000</td>\n",
       "      <td>193.000000</td>\n",
       "      <td>3450.000000</td>\n",
       "    </tr>\n",
       "    <tr>\n",
       "      <th>...</th>\n",
       "      <td>...</td>\n",
       "      <td>...</td>\n",
       "      <td>...</td>\n",
       "      <td>...</td>\n",
       "    </tr>\n",
       "    <tr>\n",
       "      <th>339</th>\n",
       "      <td>43.92193</td>\n",
       "      <td>17.15117</td>\n",
       "      <td>200.915205</td>\n",
       "      <td>4201.754386</td>\n",
       "    </tr>\n",
       "    <tr>\n",
       "      <th>340</th>\n",
       "      <td>46.80000</td>\n",
       "      <td>14.30000</td>\n",
       "      <td>215.000000</td>\n",
       "      <td>4850.000000</td>\n",
       "    </tr>\n",
       "    <tr>\n",
       "      <th>341</th>\n",
       "      <td>50.40000</td>\n",
       "      <td>15.70000</td>\n",
       "      <td>222.000000</td>\n",
       "      <td>5750.000000</td>\n",
       "    </tr>\n",
       "    <tr>\n",
       "      <th>342</th>\n",
       "      <td>45.20000</td>\n",
       "      <td>14.80000</td>\n",
       "      <td>212.000000</td>\n",
       "      <td>5200.000000</td>\n",
       "    </tr>\n",
       "    <tr>\n",
       "      <th>343</th>\n",
       "      <td>49.90000</td>\n",
       "      <td>16.10000</td>\n",
       "      <td>213.000000</td>\n",
       "      <td>5400.000000</td>\n",
       "    </tr>\n",
       "  </tbody>\n",
       "</table>\n",
       "<p>344 rows × 4 columns</p>\n",
       "</div>"
      ],
      "text/plain": [
       "     bill_length_mm  bill_depth_mm  flipper_length_mm  body_mass_g\n",
       "0          39.10000       18.70000         181.000000  3750.000000\n",
       "1          39.50000       17.40000         186.000000  3800.000000\n",
       "2          40.30000       18.00000         195.000000  3250.000000\n",
       "3          43.92193       17.15117         200.915205  4201.754386\n",
       "4          36.70000       19.30000         193.000000  3450.000000\n",
       "..              ...            ...                ...          ...\n",
       "339        43.92193       17.15117         200.915205  4201.754386\n",
       "340        46.80000       14.30000         215.000000  4850.000000\n",
       "341        50.40000       15.70000         222.000000  5750.000000\n",
       "342        45.20000       14.80000         212.000000  5200.000000\n",
       "343        49.90000       16.10000         213.000000  5400.000000\n",
       "\n",
       "[344 rows x 4 columns]"
      ]
     },
     "execution_count": 57,
     "metadata": {},
     "output_type": "execute_result"
    }
   ],
   "source": [
    "data_new"
   ]
  },
  {
   "cell_type": "code",
   "execution_count": 59,
   "id": "a1b79a6e",
   "metadata": {},
   "outputs": [
    {
     "data": {
      "application/vnd.microsoft.datawrangler.viewer.v0+json": {
       "columns": [
        {
         "name": "index",
         "rawType": "int64",
         "type": "integer"
        },
        {
         "name": "species",
         "rawType": "object",
         "type": "string"
        },
        {
         "name": "island",
         "rawType": "object",
         "type": "string"
        }
       ],
       "ref": "3d732a58-660b-420b-83a0-2d7668f531b5",
       "rows": [
        [
         "0",
         "Adelie",
         "Torgersen"
        ],
        [
         "1",
         "Adelie",
         "Torgersen"
        ],
        [
         "2",
         "Adelie",
         "Torgersen"
        ],
        [
         "3",
         "Adelie",
         "Torgersen"
        ],
        [
         "4",
         "Adelie",
         "Torgersen"
        ],
        [
         "5",
         "Adelie",
         "Torgersen"
        ],
        [
         "6",
         "Adelie",
         "Torgersen"
        ],
        [
         "7",
         "Adelie",
         "Torgersen"
        ],
        [
         "8",
         "Adelie",
         "Torgersen"
        ],
        [
         "9",
         "Adelie",
         "Torgersen"
        ],
        [
         "10",
         "Adelie",
         "Torgersen"
        ],
        [
         "11",
         "Adelie",
         "Torgersen"
        ],
        [
         "12",
         "Adelie",
         "Torgersen"
        ],
        [
         "13",
         "Adelie",
         "Torgersen"
        ],
        [
         "14",
         "Adelie",
         "Torgersen"
        ],
        [
         "15",
         "Adelie",
         "Torgersen"
        ],
        [
         "16",
         "Adelie",
         "Torgersen"
        ],
        [
         "17",
         "Adelie",
         "Torgersen"
        ],
        [
         "18",
         "Adelie",
         "Torgersen"
        ],
        [
         "19",
         "Adelie",
         "Torgersen"
        ],
        [
         "20",
         "Adelie",
         "Biscoe"
        ],
        [
         "21",
         "Adelie",
         "Biscoe"
        ],
        [
         "22",
         "Adelie",
         "Biscoe"
        ],
        [
         "23",
         "Adelie",
         "Biscoe"
        ],
        [
         "24",
         "Adelie",
         "Biscoe"
        ],
        [
         "25",
         "Adelie",
         "Biscoe"
        ],
        [
         "26",
         "Adelie",
         "Biscoe"
        ],
        [
         "27",
         "Adelie",
         "Biscoe"
        ],
        [
         "28",
         "Adelie",
         "Biscoe"
        ],
        [
         "29",
         "Adelie",
         "Biscoe"
        ],
        [
         "30",
         "Adelie",
         "Dream"
        ],
        [
         "31",
         "Adelie",
         "Dream"
        ],
        [
         "32",
         "Adelie",
         "Dream"
        ],
        [
         "33",
         "Adelie",
         "Dream"
        ],
        [
         "34",
         "Adelie",
         "Dream"
        ],
        [
         "35",
         "Adelie",
         "Dream"
        ],
        [
         "36",
         "Adelie",
         "Dream"
        ],
        [
         "37",
         "Adelie",
         "Dream"
        ],
        [
         "38",
         "Adelie",
         "Dream"
        ],
        [
         "39",
         "Adelie",
         "Dream"
        ],
        [
         "40",
         "Adelie",
         "Dream"
        ],
        [
         "41",
         "Adelie",
         "Dream"
        ],
        [
         "42",
         "Adelie",
         "Dream"
        ],
        [
         "43",
         "Adelie",
         "Dream"
        ],
        [
         "44",
         "Adelie",
         "Dream"
        ],
        [
         "45",
         "Adelie",
         "Dream"
        ],
        [
         "46",
         "Adelie",
         "Dream"
        ],
        [
         "47",
         "Adelie",
         "Dream"
        ],
        [
         "48",
         "Adelie",
         "Dream"
        ],
        [
         "49",
         "Adelie",
         "Dream"
        ]
       ],
       "shape": {
        "columns": 2,
        "rows": 344
       }
      },
      "text/html": [
       "<div>\n",
       "<style scoped>\n",
       "    .dataframe tbody tr th:only-of-type {\n",
       "        vertical-align: middle;\n",
       "    }\n",
       "\n",
       "    .dataframe tbody tr th {\n",
       "        vertical-align: top;\n",
       "    }\n",
       "\n",
       "    .dataframe thead th {\n",
       "        text-align: right;\n",
       "    }\n",
       "</style>\n",
       "<table border=\"1\" class=\"dataframe\">\n",
       "  <thead>\n",
       "    <tr style=\"text-align: right;\">\n",
       "      <th></th>\n",
       "      <th>species</th>\n",
       "      <th>island</th>\n",
       "    </tr>\n",
       "  </thead>\n",
       "  <tbody>\n",
       "    <tr>\n",
       "      <th>0</th>\n",
       "      <td>Adelie</td>\n",
       "      <td>Torgersen</td>\n",
       "    </tr>\n",
       "    <tr>\n",
       "      <th>1</th>\n",
       "      <td>Adelie</td>\n",
       "      <td>Torgersen</td>\n",
       "    </tr>\n",
       "    <tr>\n",
       "      <th>2</th>\n",
       "      <td>Adelie</td>\n",
       "      <td>Torgersen</td>\n",
       "    </tr>\n",
       "    <tr>\n",
       "      <th>3</th>\n",
       "      <td>Adelie</td>\n",
       "      <td>Torgersen</td>\n",
       "    </tr>\n",
       "    <tr>\n",
       "      <th>4</th>\n",
       "      <td>Adelie</td>\n",
       "      <td>Torgersen</td>\n",
       "    </tr>\n",
       "    <tr>\n",
       "      <th>...</th>\n",
       "      <td>...</td>\n",
       "      <td>...</td>\n",
       "    </tr>\n",
       "    <tr>\n",
       "      <th>339</th>\n",
       "      <td>Gentoo</td>\n",
       "      <td>Biscoe</td>\n",
       "    </tr>\n",
       "    <tr>\n",
       "      <th>340</th>\n",
       "      <td>Gentoo</td>\n",
       "      <td>Biscoe</td>\n",
       "    </tr>\n",
       "    <tr>\n",
       "      <th>341</th>\n",
       "      <td>Gentoo</td>\n",
       "      <td>Biscoe</td>\n",
       "    </tr>\n",
       "    <tr>\n",
       "      <th>342</th>\n",
       "      <td>Gentoo</td>\n",
       "      <td>Biscoe</td>\n",
       "    </tr>\n",
       "    <tr>\n",
       "      <th>343</th>\n",
       "      <td>Gentoo</td>\n",
       "      <td>Biscoe</td>\n",
       "    </tr>\n",
       "  </tbody>\n",
       "</table>\n",
       "<p>344 rows × 2 columns</p>\n",
       "</div>"
      ],
      "text/plain": [
       "    species     island\n",
       "0    Adelie  Torgersen\n",
       "1    Adelie  Torgersen\n",
       "2    Adelie  Torgersen\n",
       "3    Adelie  Torgersen\n",
       "4    Adelie  Torgersen\n",
       "..      ...        ...\n",
       "339  Gentoo     Biscoe\n",
       "340  Gentoo     Biscoe\n",
       "341  Gentoo     Biscoe\n",
       "342  Gentoo     Biscoe\n",
       "343  Gentoo     Biscoe\n",
       "\n",
       "[344 rows x 2 columns]"
      ]
     },
     "execution_count": 59,
     "metadata": {},
     "output_type": "execute_result"
    }
   ],
   "source": [
    "data_cat = data[[\"species\", \"island\"]]\n",
    "data_cat"
   ]
  },
  {
   "cell_type": "code",
   "execution_count": 61,
   "id": "ab155a27",
   "metadata": {},
   "outputs": [],
   "source": [
    "data_remake = pd.concat([data_cat, data_new], axis=1)"
   ]
  },
  {
   "cell_type": "code",
   "execution_count": 62,
   "id": "2909eb3b",
   "metadata": {},
   "outputs": [
    {
     "data": {
      "application/vnd.microsoft.datawrangler.viewer.v0+json": {
       "columns": [
        {
         "name": "index",
         "rawType": "int64",
         "type": "integer"
        },
        {
         "name": "species",
         "rawType": "object",
         "type": "string"
        },
        {
         "name": "island",
         "rawType": "object",
         "type": "string"
        },
        {
         "name": "bill_length_mm",
         "rawType": "float64",
         "type": "float"
        },
        {
         "name": "bill_depth_mm",
         "rawType": "float64",
         "type": "float"
        },
        {
         "name": "flipper_length_mm",
         "rawType": "float64",
         "type": "float"
        },
        {
         "name": "body_mass_g",
         "rawType": "float64",
         "type": "float"
        }
       ],
       "ref": "fa15c9a8-ea1b-4059-b368-8cb3de227fe6",
       "rows": [
        [
         "0",
         "Adelie",
         "Torgersen",
         "39.1",
         "18.7",
         "181.0",
         "3750.0"
        ],
        [
         "1",
         "Adelie",
         "Torgersen",
         "39.5",
         "17.4",
         "186.0",
         "3800.0"
        ],
        [
         "2",
         "Adelie",
         "Torgersen",
         "40.3",
         "18.0",
         "195.0",
         "3250.0"
        ],
        [
         "3",
         "Adelie",
         "Torgersen",
         "43.9219298245614",
         "17.151169590643278",
         "200.91520467836258",
         "4201.754385964912"
        ],
        [
         "4",
         "Adelie",
         "Torgersen",
         "36.7",
         "19.3",
         "193.0",
         "3450.0"
        ],
        [
         "5",
         "Adelie",
         "Torgersen",
         "39.3",
         "20.6",
         "190.0",
         "3650.0"
        ],
        [
         "6",
         "Adelie",
         "Torgersen",
         "38.9",
         "17.8",
         "181.0",
         "3625.0"
        ],
        [
         "7",
         "Adelie",
         "Torgersen",
         "39.2",
         "19.6",
         "195.0",
         "4675.0"
        ],
        [
         "8",
         "Adelie",
         "Torgersen",
         "34.1",
         "18.1",
         "193.0",
         "3475.0"
        ],
        [
         "9",
         "Adelie",
         "Torgersen",
         "42.0",
         "20.2",
         "190.0",
         "4250.0"
        ],
        [
         "10",
         "Adelie",
         "Torgersen",
         "37.8",
         "17.1",
         "186.0",
         "3300.0"
        ],
        [
         "11",
         "Adelie",
         "Torgersen",
         "37.8",
         "17.3",
         "180.0",
         "3700.0"
        ],
        [
         "12",
         "Adelie",
         "Torgersen",
         "41.1",
         "17.6",
         "182.0",
         "3200.0"
        ],
        [
         "13",
         "Adelie",
         "Torgersen",
         "38.6",
         "21.2",
         "191.0",
         "3800.0"
        ],
        [
         "14",
         "Adelie",
         "Torgersen",
         "34.6",
         "21.1",
         "198.0",
         "4400.0"
        ],
        [
         "15",
         "Adelie",
         "Torgersen",
         "36.6",
         "17.8",
         "185.0",
         "3700.0"
        ],
        [
         "16",
         "Adelie",
         "Torgersen",
         "38.7",
         "19.0",
         "195.0",
         "3450.0"
        ],
        [
         "17",
         "Adelie",
         "Torgersen",
         "42.5",
         "20.7",
         "197.0",
         "4500.0"
        ],
        [
         "18",
         "Adelie",
         "Torgersen",
         "34.4",
         "18.4",
         "184.0",
         "3325.0"
        ],
        [
         "19",
         "Adelie",
         "Torgersen",
         "46.0",
         "21.5",
         "194.0",
         "4200.0"
        ],
        [
         "20",
         "Adelie",
         "Biscoe",
         "37.8",
         "18.3",
         "174.0",
         "3400.0"
        ],
        [
         "21",
         "Adelie",
         "Biscoe",
         "37.7",
         "18.7",
         "180.0",
         "3600.0"
        ],
        [
         "22",
         "Adelie",
         "Biscoe",
         "35.9",
         "19.2",
         "189.0",
         "3800.0"
        ],
        [
         "23",
         "Adelie",
         "Biscoe",
         "38.2",
         "18.1",
         "185.0",
         "3950.0"
        ],
        [
         "24",
         "Adelie",
         "Biscoe",
         "38.8",
         "17.2",
         "180.0",
         "3800.0"
        ],
        [
         "25",
         "Adelie",
         "Biscoe",
         "35.3",
         "18.9",
         "187.0",
         "3800.0"
        ],
        [
         "26",
         "Adelie",
         "Biscoe",
         "40.6",
         "18.6",
         "183.0",
         "3550.0"
        ],
        [
         "27",
         "Adelie",
         "Biscoe",
         "40.5",
         "17.9",
         "187.0",
         "3200.0"
        ],
        [
         "28",
         "Adelie",
         "Biscoe",
         "37.9",
         "18.6",
         "172.0",
         "3150.0"
        ],
        [
         "29",
         "Adelie",
         "Biscoe",
         "40.5",
         "18.9",
         "180.0",
         "3950.0"
        ],
        [
         "30",
         "Adelie",
         "Dream",
         "39.5",
         "16.7",
         "178.0",
         "3250.0"
        ],
        [
         "31",
         "Adelie",
         "Dream",
         "37.2",
         "18.1",
         "178.0",
         "3900.0"
        ],
        [
         "32",
         "Adelie",
         "Dream",
         "39.5",
         "17.8",
         "188.0",
         "3300.0"
        ],
        [
         "33",
         "Adelie",
         "Dream",
         "40.9",
         "18.9",
         "184.0",
         "3900.0"
        ],
        [
         "34",
         "Adelie",
         "Dream",
         "36.4",
         "17.0",
         "195.0",
         "3325.0"
        ],
        [
         "35",
         "Adelie",
         "Dream",
         "39.2",
         "21.1",
         "196.0",
         "4150.0"
        ],
        [
         "36",
         "Adelie",
         "Dream",
         "38.8",
         "20.0",
         "190.0",
         "3950.0"
        ],
        [
         "37",
         "Adelie",
         "Dream",
         "42.2",
         "18.5",
         "180.0",
         "3550.0"
        ],
        [
         "38",
         "Adelie",
         "Dream",
         "37.6",
         "19.3",
         "181.0",
         "3300.0"
        ],
        [
         "39",
         "Adelie",
         "Dream",
         "39.8",
         "19.1",
         "184.0",
         "4650.0"
        ],
        [
         "40",
         "Adelie",
         "Dream",
         "36.5",
         "18.0",
         "182.0",
         "3150.0"
        ],
        [
         "41",
         "Adelie",
         "Dream",
         "40.8",
         "18.4",
         "195.0",
         "3900.0"
        ],
        [
         "42",
         "Adelie",
         "Dream",
         "36.0",
         "18.5",
         "186.0",
         "3100.0"
        ],
        [
         "43",
         "Adelie",
         "Dream",
         "44.1",
         "19.7",
         "196.0",
         "4400.0"
        ],
        [
         "44",
         "Adelie",
         "Dream",
         "37.0",
         "16.9",
         "185.0",
         "3000.0"
        ],
        [
         "45",
         "Adelie",
         "Dream",
         "39.6",
         "18.8",
         "190.0",
         "4600.0"
        ],
        [
         "46",
         "Adelie",
         "Dream",
         "41.1",
         "19.0",
         "182.0",
         "3425.0"
        ],
        [
         "47",
         "Adelie",
         "Dream",
         "37.5",
         "18.9",
         "179.0",
         "2975.0"
        ],
        [
         "48",
         "Adelie",
         "Dream",
         "36.0",
         "17.9",
         "190.0",
         "3450.0"
        ],
        [
         "49",
         "Adelie",
         "Dream",
         "42.3",
         "21.2",
         "191.0",
         "4150.0"
        ]
       ],
       "shape": {
        "columns": 6,
        "rows": 344
       }
      },
      "text/html": [
       "<div>\n",
       "<style scoped>\n",
       "    .dataframe tbody tr th:only-of-type {\n",
       "        vertical-align: middle;\n",
       "    }\n",
       "\n",
       "    .dataframe tbody tr th {\n",
       "        vertical-align: top;\n",
       "    }\n",
       "\n",
       "    .dataframe thead th {\n",
       "        text-align: right;\n",
       "    }\n",
       "</style>\n",
       "<table border=\"1\" class=\"dataframe\">\n",
       "  <thead>\n",
       "    <tr style=\"text-align: right;\">\n",
       "      <th></th>\n",
       "      <th>species</th>\n",
       "      <th>island</th>\n",
       "      <th>bill_length_mm</th>\n",
       "      <th>bill_depth_mm</th>\n",
       "      <th>flipper_length_mm</th>\n",
       "      <th>body_mass_g</th>\n",
       "    </tr>\n",
       "  </thead>\n",
       "  <tbody>\n",
       "    <tr>\n",
       "      <th>0</th>\n",
       "      <td>Adelie</td>\n",
       "      <td>Torgersen</td>\n",
       "      <td>39.10000</td>\n",
       "      <td>18.70000</td>\n",
       "      <td>181.000000</td>\n",
       "      <td>3750.000000</td>\n",
       "    </tr>\n",
       "    <tr>\n",
       "      <th>1</th>\n",
       "      <td>Adelie</td>\n",
       "      <td>Torgersen</td>\n",
       "      <td>39.50000</td>\n",
       "      <td>17.40000</td>\n",
       "      <td>186.000000</td>\n",
       "      <td>3800.000000</td>\n",
       "    </tr>\n",
       "    <tr>\n",
       "      <th>2</th>\n",
       "      <td>Adelie</td>\n",
       "      <td>Torgersen</td>\n",
       "      <td>40.30000</td>\n",
       "      <td>18.00000</td>\n",
       "      <td>195.000000</td>\n",
       "      <td>3250.000000</td>\n",
       "    </tr>\n",
       "    <tr>\n",
       "      <th>3</th>\n",
       "      <td>Adelie</td>\n",
       "      <td>Torgersen</td>\n",
       "      <td>43.92193</td>\n",
       "      <td>17.15117</td>\n",
       "      <td>200.915205</td>\n",
       "      <td>4201.754386</td>\n",
       "    </tr>\n",
       "    <tr>\n",
       "      <th>4</th>\n",
       "      <td>Adelie</td>\n",
       "      <td>Torgersen</td>\n",
       "      <td>36.70000</td>\n",
       "      <td>19.30000</td>\n",
       "      <td>193.000000</td>\n",
       "      <td>3450.000000</td>\n",
       "    </tr>\n",
       "    <tr>\n",
       "      <th>...</th>\n",
       "      <td>...</td>\n",
       "      <td>...</td>\n",
       "      <td>...</td>\n",
       "      <td>...</td>\n",
       "      <td>...</td>\n",
       "      <td>...</td>\n",
       "    </tr>\n",
       "    <tr>\n",
       "      <th>339</th>\n",
       "      <td>Gentoo</td>\n",
       "      <td>Biscoe</td>\n",
       "      <td>43.92193</td>\n",
       "      <td>17.15117</td>\n",
       "      <td>200.915205</td>\n",
       "      <td>4201.754386</td>\n",
       "    </tr>\n",
       "    <tr>\n",
       "      <th>340</th>\n",
       "      <td>Gentoo</td>\n",
       "      <td>Biscoe</td>\n",
       "      <td>46.80000</td>\n",
       "      <td>14.30000</td>\n",
       "      <td>215.000000</td>\n",
       "      <td>4850.000000</td>\n",
       "    </tr>\n",
       "    <tr>\n",
       "      <th>341</th>\n",
       "      <td>Gentoo</td>\n",
       "      <td>Biscoe</td>\n",
       "      <td>50.40000</td>\n",
       "      <td>15.70000</td>\n",
       "      <td>222.000000</td>\n",
       "      <td>5750.000000</td>\n",
       "    </tr>\n",
       "    <tr>\n",
       "      <th>342</th>\n",
       "      <td>Gentoo</td>\n",
       "      <td>Biscoe</td>\n",
       "      <td>45.20000</td>\n",
       "      <td>14.80000</td>\n",
       "      <td>212.000000</td>\n",
       "      <td>5200.000000</td>\n",
       "    </tr>\n",
       "    <tr>\n",
       "      <th>343</th>\n",
       "      <td>Gentoo</td>\n",
       "      <td>Biscoe</td>\n",
       "      <td>49.90000</td>\n",
       "      <td>16.10000</td>\n",
       "      <td>213.000000</td>\n",
       "      <td>5400.000000</td>\n",
       "    </tr>\n",
       "  </tbody>\n",
       "</table>\n",
       "<p>344 rows × 6 columns</p>\n",
       "</div>"
      ],
      "text/plain": [
       "    species     island  bill_length_mm  bill_depth_mm  flipper_length_mm  \\\n",
       "0    Adelie  Torgersen        39.10000       18.70000         181.000000   \n",
       "1    Adelie  Torgersen        39.50000       17.40000         186.000000   \n",
       "2    Adelie  Torgersen        40.30000       18.00000         195.000000   \n",
       "3    Adelie  Torgersen        43.92193       17.15117         200.915205   \n",
       "4    Adelie  Torgersen        36.70000       19.30000         193.000000   \n",
       "..      ...        ...             ...            ...                ...   \n",
       "339  Gentoo     Biscoe        43.92193       17.15117         200.915205   \n",
       "340  Gentoo     Biscoe        46.80000       14.30000         215.000000   \n",
       "341  Gentoo     Biscoe        50.40000       15.70000         222.000000   \n",
       "342  Gentoo     Biscoe        45.20000       14.80000         212.000000   \n",
       "343  Gentoo     Biscoe        49.90000       16.10000         213.000000   \n",
       "\n",
       "     body_mass_g  \n",
       "0    3750.000000  \n",
       "1    3800.000000  \n",
       "2    3250.000000  \n",
       "3    4201.754386  \n",
       "4    3450.000000  \n",
       "..           ...  \n",
       "339  4201.754386  \n",
       "340  4850.000000  \n",
       "341  5750.000000  \n",
       "342  5200.000000  \n",
       "343  5400.000000  \n",
       "\n",
       "[344 rows x 6 columns]"
      ]
     },
     "execution_count": 62,
     "metadata": {},
     "output_type": "execute_result"
    }
   ],
   "source": [
    "data_remake"
   ]
  },
  {
   "cell_type": "code",
   "execution_count": 63,
   "id": "7fbf7bfc",
   "metadata": {},
   "outputs": [
    {
     "name": "stdout",
     "output_type": "stream",
     "text": [
      "<class 'pandas.core.frame.DataFrame'>\n",
      "RangeIndex: 344 entries, 0 to 343\n",
      "Data columns (total 6 columns):\n",
      " #   Column             Non-Null Count  Dtype  \n",
      "---  ------             --------------  -----  \n",
      " 0   species            344 non-null    object \n",
      " 1   island             344 non-null    object \n",
      " 2   bill_length_mm     344 non-null    float64\n",
      " 3   bill_depth_mm      344 non-null    float64\n",
      " 4   flipper_length_mm  344 non-null    float64\n",
      " 5   body_mass_g        344 non-null    float64\n",
      "dtypes: float64(4), object(2)\n",
      "memory usage: 16.3+ KB\n"
     ]
    }
   ],
   "source": [
    "data_remake.info()"
   ]
  },
  {
   "cell_type": "code",
   "execution_count": 64,
   "id": "eb176212",
   "metadata": {},
   "outputs": [],
   "source": [
    "from sklearn.preprocessing import LabelEncoder\n",
    "\n",
    "encoder = LabelEncoder()\n",
    "data_remake[\"species\"] = encoder.fit_transform(data_remake[\"species\"])\n",
    "data_remake[\"island\"] = encoder.fit_transform(data_remake[\"island\"])"
   ]
  },
  {
   "cell_type": "code",
   "execution_count": 65,
   "id": "c89b5051",
   "metadata": {},
   "outputs": [
    {
     "data": {
      "application/vnd.microsoft.datawrangler.viewer.v0+json": {
       "columns": [
        {
         "name": "index",
         "rawType": "int64",
         "type": "integer"
        },
        {
         "name": "species",
         "rawType": "int64",
         "type": "integer"
        },
        {
         "name": "island",
         "rawType": "int64",
         "type": "integer"
        },
        {
         "name": "bill_length_mm",
         "rawType": "float64",
         "type": "float"
        },
        {
         "name": "bill_depth_mm",
         "rawType": "float64",
         "type": "float"
        },
        {
         "name": "flipper_length_mm",
         "rawType": "float64",
         "type": "float"
        },
        {
         "name": "body_mass_g",
         "rawType": "float64",
         "type": "float"
        }
       ],
       "ref": "fd72e472-b16d-4741-9501-dcff51c914a2",
       "rows": [
        [
         "0",
         "0",
         "2",
         "39.1",
         "18.7",
         "181.0",
         "3750.0"
        ],
        [
         "1",
         "0",
         "2",
         "39.5",
         "17.4",
         "186.0",
         "3800.0"
        ],
        [
         "2",
         "0",
         "2",
         "40.3",
         "18.0",
         "195.0",
         "3250.0"
        ],
        [
         "3",
         "0",
         "2",
         "43.9219298245614",
         "17.151169590643278",
         "200.91520467836258",
         "4201.754385964912"
        ],
        [
         "4",
         "0",
         "2",
         "36.7",
         "19.3",
         "193.0",
         "3450.0"
        ],
        [
         "5",
         "0",
         "2",
         "39.3",
         "20.6",
         "190.0",
         "3650.0"
        ],
        [
         "6",
         "0",
         "2",
         "38.9",
         "17.8",
         "181.0",
         "3625.0"
        ],
        [
         "7",
         "0",
         "2",
         "39.2",
         "19.6",
         "195.0",
         "4675.0"
        ],
        [
         "8",
         "0",
         "2",
         "34.1",
         "18.1",
         "193.0",
         "3475.0"
        ],
        [
         "9",
         "0",
         "2",
         "42.0",
         "20.2",
         "190.0",
         "4250.0"
        ],
        [
         "10",
         "0",
         "2",
         "37.8",
         "17.1",
         "186.0",
         "3300.0"
        ],
        [
         "11",
         "0",
         "2",
         "37.8",
         "17.3",
         "180.0",
         "3700.0"
        ],
        [
         "12",
         "0",
         "2",
         "41.1",
         "17.6",
         "182.0",
         "3200.0"
        ],
        [
         "13",
         "0",
         "2",
         "38.6",
         "21.2",
         "191.0",
         "3800.0"
        ],
        [
         "14",
         "0",
         "2",
         "34.6",
         "21.1",
         "198.0",
         "4400.0"
        ],
        [
         "15",
         "0",
         "2",
         "36.6",
         "17.8",
         "185.0",
         "3700.0"
        ],
        [
         "16",
         "0",
         "2",
         "38.7",
         "19.0",
         "195.0",
         "3450.0"
        ],
        [
         "17",
         "0",
         "2",
         "42.5",
         "20.7",
         "197.0",
         "4500.0"
        ],
        [
         "18",
         "0",
         "2",
         "34.4",
         "18.4",
         "184.0",
         "3325.0"
        ],
        [
         "19",
         "0",
         "2",
         "46.0",
         "21.5",
         "194.0",
         "4200.0"
        ],
        [
         "20",
         "0",
         "0",
         "37.8",
         "18.3",
         "174.0",
         "3400.0"
        ],
        [
         "21",
         "0",
         "0",
         "37.7",
         "18.7",
         "180.0",
         "3600.0"
        ],
        [
         "22",
         "0",
         "0",
         "35.9",
         "19.2",
         "189.0",
         "3800.0"
        ],
        [
         "23",
         "0",
         "0",
         "38.2",
         "18.1",
         "185.0",
         "3950.0"
        ],
        [
         "24",
         "0",
         "0",
         "38.8",
         "17.2",
         "180.0",
         "3800.0"
        ],
        [
         "25",
         "0",
         "0",
         "35.3",
         "18.9",
         "187.0",
         "3800.0"
        ],
        [
         "26",
         "0",
         "0",
         "40.6",
         "18.6",
         "183.0",
         "3550.0"
        ],
        [
         "27",
         "0",
         "0",
         "40.5",
         "17.9",
         "187.0",
         "3200.0"
        ],
        [
         "28",
         "0",
         "0",
         "37.9",
         "18.6",
         "172.0",
         "3150.0"
        ],
        [
         "29",
         "0",
         "0",
         "40.5",
         "18.9",
         "180.0",
         "3950.0"
        ],
        [
         "30",
         "0",
         "1",
         "39.5",
         "16.7",
         "178.0",
         "3250.0"
        ],
        [
         "31",
         "0",
         "1",
         "37.2",
         "18.1",
         "178.0",
         "3900.0"
        ],
        [
         "32",
         "0",
         "1",
         "39.5",
         "17.8",
         "188.0",
         "3300.0"
        ],
        [
         "33",
         "0",
         "1",
         "40.9",
         "18.9",
         "184.0",
         "3900.0"
        ],
        [
         "34",
         "0",
         "1",
         "36.4",
         "17.0",
         "195.0",
         "3325.0"
        ],
        [
         "35",
         "0",
         "1",
         "39.2",
         "21.1",
         "196.0",
         "4150.0"
        ],
        [
         "36",
         "0",
         "1",
         "38.8",
         "20.0",
         "190.0",
         "3950.0"
        ],
        [
         "37",
         "0",
         "1",
         "42.2",
         "18.5",
         "180.0",
         "3550.0"
        ],
        [
         "38",
         "0",
         "1",
         "37.6",
         "19.3",
         "181.0",
         "3300.0"
        ],
        [
         "39",
         "0",
         "1",
         "39.8",
         "19.1",
         "184.0",
         "4650.0"
        ],
        [
         "40",
         "0",
         "1",
         "36.5",
         "18.0",
         "182.0",
         "3150.0"
        ],
        [
         "41",
         "0",
         "1",
         "40.8",
         "18.4",
         "195.0",
         "3900.0"
        ],
        [
         "42",
         "0",
         "1",
         "36.0",
         "18.5",
         "186.0",
         "3100.0"
        ],
        [
         "43",
         "0",
         "1",
         "44.1",
         "19.7",
         "196.0",
         "4400.0"
        ],
        [
         "44",
         "0",
         "1",
         "37.0",
         "16.9",
         "185.0",
         "3000.0"
        ],
        [
         "45",
         "0",
         "1",
         "39.6",
         "18.8",
         "190.0",
         "4600.0"
        ],
        [
         "46",
         "0",
         "1",
         "41.1",
         "19.0",
         "182.0",
         "3425.0"
        ],
        [
         "47",
         "0",
         "1",
         "37.5",
         "18.9",
         "179.0",
         "2975.0"
        ],
        [
         "48",
         "0",
         "1",
         "36.0",
         "17.9",
         "190.0",
         "3450.0"
        ],
        [
         "49",
         "0",
         "1",
         "42.3",
         "21.2",
         "191.0",
         "4150.0"
        ]
       ],
       "shape": {
        "columns": 6,
        "rows": 344
       }
      },
      "text/html": [
       "<div>\n",
       "<style scoped>\n",
       "    .dataframe tbody tr th:only-of-type {\n",
       "        vertical-align: middle;\n",
       "    }\n",
       "\n",
       "    .dataframe tbody tr th {\n",
       "        vertical-align: top;\n",
       "    }\n",
       "\n",
       "    .dataframe thead th {\n",
       "        text-align: right;\n",
       "    }\n",
       "</style>\n",
       "<table border=\"1\" class=\"dataframe\">\n",
       "  <thead>\n",
       "    <tr style=\"text-align: right;\">\n",
       "      <th></th>\n",
       "      <th>species</th>\n",
       "      <th>island</th>\n",
       "      <th>bill_length_mm</th>\n",
       "      <th>bill_depth_mm</th>\n",
       "      <th>flipper_length_mm</th>\n",
       "      <th>body_mass_g</th>\n",
       "    </tr>\n",
       "  </thead>\n",
       "  <tbody>\n",
       "    <tr>\n",
       "      <th>0</th>\n",
       "      <td>0</td>\n",
       "      <td>2</td>\n",
       "      <td>39.10000</td>\n",
       "      <td>18.70000</td>\n",
       "      <td>181.000000</td>\n",
       "      <td>3750.000000</td>\n",
       "    </tr>\n",
       "    <tr>\n",
       "      <th>1</th>\n",
       "      <td>0</td>\n",
       "      <td>2</td>\n",
       "      <td>39.50000</td>\n",
       "      <td>17.40000</td>\n",
       "      <td>186.000000</td>\n",
       "      <td>3800.000000</td>\n",
       "    </tr>\n",
       "    <tr>\n",
       "      <th>2</th>\n",
       "      <td>0</td>\n",
       "      <td>2</td>\n",
       "      <td>40.30000</td>\n",
       "      <td>18.00000</td>\n",
       "      <td>195.000000</td>\n",
       "      <td>3250.000000</td>\n",
       "    </tr>\n",
       "    <tr>\n",
       "      <th>3</th>\n",
       "      <td>0</td>\n",
       "      <td>2</td>\n",
       "      <td>43.92193</td>\n",
       "      <td>17.15117</td>\n",
       "      <td>200.915205</td>\n",
       "      <td>4201.754386</td>\n",
       "    </tr>\n",
       "    <tr>\n",
       "      <th>4</th>\n",
       "      <td>0</td>\n",
       "      <td>2</td>\n",
       "      <td>36.70000</td>\n",
       "      <td>19.30000</td>\n",
       "      <td>193.000000</td>\n",
       "      <td>3450.000000</td>\n",
       "    </tr>\n",
       "    <tr>\n",
       "      <th>...</th>\n",
       "      <td>...</td>\n",
       "      <td>...</td>\n",
       "      <td>...</td>\n",
       "      <td>...</td>\n",
       "      <td>...</td>\n",
       "      <td>...</td>\n",
       "    </tr>\n",
       "    <tr>\n",
       "      <th>339</th>\n",
       "      <td>2</td>\n",
       "      <td>0</td>\n",
       "      <td>43.92193</td>\n",
       "      <td>17.15117</td>\n",
       "      <td>200.915205</td>\n",
       "      <td>4201.754386</td>\n",
       "    </tr>\n",
       "    <tr>\n",
       "      <th>340</th>\n",
       "      <td>2</td>\n",
       "      <td>0</td>\n",
       "      <td>46.80000</td>\n",
       "      <td>14.30000</td>\n",
       "      <td>215.000000</td>\n",
       "      <td>4850.000000</td>\n",
       "    </tr>\n",
       "    <tr>\n",
       "      <th>341</th>\n",
       "      <td>2</td>\n",
       "      <td>0</td>\n",
       "      <td>50.40000</td>\n",
       "      <td>15.70000</td>\n",
       "      <td>222.000000</td>\n",
       "      <td>5750.000000</td>\n",
       "    </tr>\n",
       "    <tr>\n",
       "      <th>342</th>\n",
       "      <td>2</td>\n",
       "      <td>0</td>\n",
       "      <td>45.20000</td>\n",
       "      <td>14.80000</td>\n",
       "      <td>212.000000</td>\n",
       "      <td>5200.000000</td>\n",
       "    </tr>\n",
       "    <tr>\n",
       "      <th>343</th>\n",
       "      <td>2</td>\n",
       "      <td>0</td>\n",
       "      <td>49.90000</td>\n",
       "      <td>16.10000</td>\n",
       "      <td>213.000000</td>\n",
       "      <td>5400.000000</td>\n",
       "    </tr>\n",
       "  </tbody>\n",
       "</table>\n",
       "<p>344 rows × 6 columns</p>\n",
       "</div>"
      ],
      "text/plain": [
       "     species  island  bill_length_mm  bill_depth_mm  flipper_length_mm  \\\n",
       "0          0       2        39.10000       18.70000         181.000000   \n",
       "1          0       2        39.50000       17.40000         186.000000   \n",
       "2          0       2        40.30000       18.00000         195.000000   \n",
       "3          0       2        43.92193       17.15117         200.915205   \n",
       "4          0       2        36.70000       19.30000         193.000000   \n",
       "..       ...     ...             ...            ...                ...   \n",
       "339        2       0        43.92193       17.15117         200.915205   \n",
       "340        2       0        46.80000       14.30000         215.000000   \n",
       "341        2       0        50.40000       15.70000         222.000000   \n",
       "342        2       0        45.20000       14.80000         212.000000   \n",
       "343        2       0        49.90000       16.10000         213.000000   \n",
       "\n",
       "     body_mass_g  \n",
       "0    3750.000000  \n",
       "1    3800.000000  \n",
       "2    3250.000000  \n",
       "3    4201.754386  \n",
       "4    3450.000000  \n",
       "..           ...  \n",
       "339  4201.754386  \n",
       "340  4850.000000  \n",
       "341  5750.000000  \n",
       "342  5200.000000  \n",
       "343  5400.000000  \n",
       "\n",
       "[344 rows x 6 columns]"
      ]
     },
     "execution_count": 65,
     "metadata": {},
     "output_type": "execute_result"
    }
   ],
   "source": [
    "data_remake"
   ]
  },
  {
   "cell_type": "code",
   "execution_count": 66,
   "id": "a92e6d0a",
   "metadata": {},
   "outputs": [],
   "source": [
    "data_remake.columns = data_remake.columns.str.strip().str.lower()"
   ]
  },
  {
   "cell_type": "code",
   "execution_count": 67,
   "id": "0774358c",
   "metadata": {},
   "outputs": [
    {
     "name": "stdout",
     "output_type": "stream",
     "text": [
      "<class 'pandas.core.frame.DataFrame'>\n",
      "RangeIndex: 344 entries, 0 to 343\n",
      "Data columns (total 6 columns):\n",
      " #   Column             Non-Null Count  Dtype  \n",
      "---  ------             --------------  -----  \n",
      " 0   species            344 non-null    int64  \n",
      " 1   island             344 non-null    int64  \n",
      " 2   bill_length_mm     344 non-null    float64\n",
      " 3   bill_depth_mm      344 non-null    float64\n",
      " 4   flipper_length_mm  344 non-null    float64\n",
      " 5   body_mass_g        344 non-null    float64\n",
      "dtypes: float64(4), int64(2)\n",
      "memory usage: 16.3 KB\n"
     ]
    }
   ],
   "source": [
    "data_remake.info()"
   ]
  },
  {
   "cell_type": "code",
   "execution_count": 90,
   "id": "9031b1cb",
   "metadata": {},
   "outputs": [
    {
     "data": {
      "image/png": "[encoded data removed]",
      "text/plain": [
       "<Figure size 1000x1000 with 20 Axes>"
      ]
     },
     "metadata": {},
     "output_type": "display_data"
    }
   ],
   "source": [
    "# data_new\n",
    "sns.pairplot(data=data_new)\n",
    "plt.show()"
   ]
  },
  {
   "cell_type": "code",
   "execution_count": 72,
   "id": "d4ccd8a0",
   "metadata": {},
   "outputs": [
    {
     "data": {
      "application/vnd.microsoft.datawrangler.viewer.v0+json": {
       "columns": [
        {
         "name": "index",
         "rawType": "object",
         "type": "string"
        },
        {
         "name": "bill_length_mm",
         "rawType": "float64",
         "type": "float"
        },
        {
         "name": "bill_depth_mm",
         "rawType": "float64",
         "type": "float"
        },
        {
         "name": "flipper_length_mm",
         "rawType": "float64",
         "type": "float"
        },
        {
         "name": "body_mass_g",
         "rawType": "float64",
         "type": "float"
        }
       ],
       "ref": "aa32c726-3002-4349-8c94-12ecff59a055",
       "rows": [
        [
         "bill_length_mm",
         "1.0",
         "-0.23505287035553593",
         "0.6561813407464279",
         "0.5951098244376307"
        ],
        [
         "bill_depth_mm",
         "-0.23505287035553593",
         "1.0",
         "-0.5838512164654127",
         "-0.471915621186068"
        ],
        [
         "flipper_length_mm",
         "0.6561813407464279",
         "-0.5838512164654127",
         "1.0",
         "0.8712017673060114"
        ],
        [
         "body_mass_g",
         "0.5951098244376307",
         "-0.471915621186068",
         "0.8712017673060114",
         "1.0"
        ]
       ],
       "shape": {
        "columns": 4,
        "rows": 4
       }
      },
      "text/html": [
       "<div>\n",
       "<style scoped>\n",
       "    .dataframe tbody tr th:only-of-type {\n",
       "        vertical-align: middle;\n",
       "    }\n",
       "\n",
       "    .dataframe tbody tr th {\n",
       "        vertical-align: top;\n",
       "    }\n",
       "\n",
       "    .dataframe thead th {\n",
       "        text-align: right;\n",
       "    }\n",
       "</style>\n",
       "<table border=\"1\" class=\"dataframe\">\n",
       "  <thead>\n",
       "    <tr style=\"text-align: right;\">\n",
       "      <th></th>\n",
       "      <th>bill_length_mm</th>\n",
       "      <th>bill_depth_mm</th>\n",
       "      <th>flipper_length_mm</th>\n",
       "      <th>body_mass_g</th>\n",
       "    </tr>\n",
       "  </thead>\n",
       "  <tbody>\n",
       "    <tr>\n",
       "      <th>bill_length_mm</th>\n",
       "      <td>1.000000</td>\n",
       "      <td>-0.235053</td>\n",
       "      <td>0.656181</td>\n",
       "      <td>0.595110</td>\n",
       "    </tr>\n",
       "    <tr>\n",
       "      <th>bill_depth_mm</th>\n",
       "      <td>-0.235053</td>\n",
       "      <td>1.000000</td>\n",
       "      <td>-0.583851</td>\n",
       "      <td>-0.471916</td>\n",
       "    </tr>\n",
       "    <tr>\n",
       "      <th>flipper_length_mm</th>\n",
       "      <td>0.656181</td>\n",
       "      <td>-0.583851</td>\n",
       "      <td>1.000000</td>\n",
       "      <td>0.871202</td>\n",
       "    </tr>\n",
       "    <tr>\n",
       "      <th>body_mass_g</th>\n",
       "      <td>0.595110</td>\n",
       "      <td>-0.471916</td>\n",
       "      <td>0.871202</td>\n",
       "      <td>1.000000</td>\n",
       "    </tr>\n",
       "  </tbody>\n",
       "</table>\n",
       "</div>"
      ],
      "text/plain": [
       "                   bill_length_mm  bill_depth_mm  flipper_length_mm  \\\n",
       "bill_length_mm           1.000000      -0.235053           0.656181   \n",
       "bill_depth_mm           -0.235053       1.000000          -0.583851   \n",
       "flipper_length_mm        0.656181      -0.583851           1.000000   \n",
       "body_mass_g              0.595110      -0.471916           0.871202   \n",
       "\n",
       "                   body_mass_g  \n",
       "bill_length_mm        0.595110  \n",
       "bill_depth_mm        -0.471916  \n",
       "flipper_length_mm     0.871202  \n",
       "body_mass_g           1.000000  "
      ]
     },
     "execution_count": 72,
     "metadata": {},
     "output_type": "execute_result"
    }
   ],
   "source": [
    "data_corr = data_new.corr()\n",
    "data_corr"
   ]
  },
  {
   "cell_type": "code",
   "execution_count": 86,
   "id": "748f990c",
   "metadata": {},
   "outputs": [],
   "source": [
    "data_xtract = data_corr[\"bill_depth_mm\"].sort_values(ascending=True).iloc[:-1]"
   ]
  },
  {
   "cell_type": "code",
   "execution_count": null,
   "id": "8ed51cf2",
   "metadata": {},
   "outputs": [
    {
     "data": {
      "image/png": "[encoded data removed]",
      "text/plain": [
       "<Figure size 600x400 with 1 Axes>"
      ]
     },
     "metadata": {},
     "output_type": "display_data"
    }
   ],
   "source": [
    "plt.figure(figsize=(6,4))\n",
    "data_xtract.plot(kind=\"barh\",\n",
    "                 xlabel=\"Correlation Value\")\n",
    "plt.show()"
   ]
  },
  {
   "cell_type": "code",
   "execution_count": 95,
   "id": "786b0f24",
   "metadata": {},
   "outputs": [
    {
     "data": {
      "application/vnd.microsoft.datawrangler.viewer.v0+json": {
       "columns": [
        {
         "name": "index",
         "rawType": "int64",
         "type": "integer"
        },
        {
         "name": "bill_length_mm",
         "rawType": "float64",
         "type": "float"
        }
       ],
       "ref": "a10f3372-0de2-4a29-8dc7-f1037b360403",
       "rows": [
        [
         "0",
         "39.1"
        ],
        [
         "1",
         "39.5"
        ],
        [
         "2",
         "40.3"
        ],
        [
         "3",
         "43.9219298245614"
        ],
        [
         "4",
         "36.7"
        ],
        [
         "5",
         "39.3"
        ],
        [
         "6",
         "38.9"
        ],
        [
         "7",
         "39.2"
        ],
        [
         "8",
         "34.1"
        ],
        [
         "9",
         "42.0"
        ],
        [
         "10",
         "37.8"
        ],
        [
         "11",
         "37.8"
        ],
        [
         "12",
         "41.1"
        ],
        [
         "13",
         "38.6"
        ],
        [
         "14",
         "34.6"
        ],
        [
         "15",
         "36.6"
        ],
        [
         "16",
         "38.7"
        ],
        [
         "17",
         "42.5"
        ],
        [
         "18",
         "34.4"
        ],
        [
         "19",
         "46.0"
        ],
        [
         "20",
         "37.8"
        ],
        [
         "21",
         "37.7"
        ],
        [
         "22",
         "35.9"
        ],
        [
         "23",
         "38.2"
        ],
        [
         "24",
         "38.8"
        ],
        [
         "25",
         "35.3"
        ],
        [
         "26",
         "40.6"
        ],
        [
         "27",
         "40.5"
        ],
        [
         "28",
         "37.9"
        ],
        [
         "29",
         "40.5"
        ],
        [
         "30",
         "39.5"
        ],
        [
         "31",
         "37.2"
        ],
        [
         "32",
         "39.5"
        ],
        [
         "33",
         "40.9"
        ],
        [
         "34",
         "36.4"
        ],
        [
         "35",
         "39.2"
        ],
        [
         "36",
         "38.8"
        ],
        [
         "37",
         "42.2"
        ],
        [
         "38",
         "37.6"
        ],
        [
         "39",
         "39.8"
        ],
        [
         "40",
         "36.5"
        ],
        [
         "41",
         "40.8"
        ],
        [
         "42",
         "36.0"
        ],
        [
         "43",
         "44.1"
        ],
        [
         "44",
         "37.0"
        ],
        [
         "45",
         "39.6"
        ],
        [
         "46",
         "41.1"
        ],
        [
         "47",
         "37.5"
        ],
        [
         "48",
         "36.0"
        ],
        [
         "49",
         "42.3"
        ]
       ],
       "shape": {
        "columns": 1,
        "rows": 344
       }
      },
      "text/plain": [
       "0      39.10000\n",
       "1      39.50000\n",
       "2      40.30000\n",
       "3      43.92193\n",
       "4      36.70000\n",
       "         ...   \n",
       "339    43.92193\n",
       "340    46.80000\n",
       "341    50.40000\n",
       "342    45.20000\n",
       "343    49.90000\n",
       "Name: bill_length_mm, Length: 344, dtype: float64"
      ]
     },
     "execution_count": 95,
     "metadata": {},
     "output_type": "execute_result"
    }
   ],
   "source": [
    "data_remake[\"bill_length_mm\"]"
   ]
  },
  {
   "cell_type": "code",
   "execution_count": 105,
   "id": "e94c535d",
   "metadata": {},
   "outputs": [
    {
     "name": "stdout",
     "output_type": "stream",
     "text": [
      "1528.8100000000002\n",
      "1560.25\n",
      "1624.0899999999997\n",
      "1929.1359195136965\n",
      "1346.89\n",
      "1544.4899999999998\n",
      "1513.2099999999998\n",
      "1536.6400000000003\n",
      "1162.8100000000002\n",
      "1764.0\n",
      "1428.8399999999997\n",
      "1428.8399999999997\n",
      "1689.21\n",
      "1489.96\n",
      "1197.16\n",
      "1339.5600000000002\n",
      "1497.6900000000003\n",
      "1806.25\n",
      "1183.36\n",
      "2116.0\n",
      "1428.8399999999997\n",
      "1421.2900000000002\n",
      "1288.81\n",
      "1459.2400000000002\n",
      "1505.4399999999998\n",
      "1246.0899999999997\n",
      "1648.3600000000001\n",
      "1640.25\n",
      "1436.4099999999999\n",
      "1640.25\n",
      "1560.25\n",
      "1383.8400000000001\n",
      "1560.25\n",
      "1672.81\n",
      "1324.9599999999998\n",
      "1536.6400000000003\n",
      "1505.4399999999998\n",
      "1780.8400000000001\n",
      "1413.7600000000002\n",
      "1584.0399999999997\n",
      "1332.25\n",
      "1664.6399999999999\n",
      "1296.0\n",
      "1944.8100000000002\n",
      "1369.0\n",
      "1568.16\n",
      "1689.21\n",
      "1406.25\n",
      "1296.0\n",
      "1789.2899999999997\n",
      "1568.16\n",
      "1608.0100000000002\n",
      "1225.0\n",
      "1764.0\n",
      "1190.25\n",
      "1713.9599999999998\n",
      "1521.0\n",
      "1648.3600000000001\n",
      "1332.25\n",
      "1413.7600000000002\n",
      "1274.4900000000002\n",
      "1705.6899999999998\n",
      "1413.7600000000002\n",
      "1689.21\n",
      "1324.9599999999998\n",
      "1730.5600000000002\n",
      "1260.25\n",
      "1689.21\n",
      "1288.81\n",
      "1747.2399999999998\n",
      "1122.25\n",
      "1576.0900000000001\n",
      "1568.16\n",
      "2097.64\n",
      "1260.25\n",
      "1831.8399999999997\n",
      "1672.81\n",
      "1383.8400000000001\n",
      "1310.4400000000003\n",
      "1772.41\n",
      "1197.16\n",
      "1840.4099999999999\n",
      "1346.89\n",
      "1232.01\n",
      "1391.2899999999997\n",
      "1705.6899999999998\n",
      "1317.6899999999998\n",
      "1361.61\n",
      "1466.8899999999999\n",
      "1513.2099999999998\n",
      "1274.4900000000002\n",
      "1689.21\n",
      "1156.0\n",
      "1568.16\n",
      "1310.4400000000003\n",
      "1664.6399999999999\n",
      "1451.6100000000001\n",
      "1624.0899999999997\n",
      "1095.6100000000001\n",
      "1866.2400000000002\n",
      "1225.0\n",
      "1681.0\n",
      "1421.2900000000002\n",
      "1428.8399999999997\n",
      "1436.4099999999999\n",
      "1576.0900000000001\n",
      "1489.96\n",
      "1459.2400000000002\n",
      "1451.6100000000001\n",
      "1866.2400000000002\n",
      "1451.6100000000001\n",
      "2079.36\n",
      "1576.0900000000001\n",
      "1780.8400000000001\n",
      "1568.16\n",
      "1823.2900000000002\n",
      "1489.96\n",
      "1391.2899999999997\n",
      "1274.4900000000002\n",
      "1689.21\n",
      "1310.4400000000003\n",
      "1421.2900000000002\n",
      "1616.0400000000002\n",
      "1713.9599999999998\n",
      "1239.0400000000002\n",
      "1648.3600000000001\n",
      "1505.4399999999998\n",
      "1722.25\n",
      "1521.0\n",
      "1944.8100000000002\n",
      "1482.25\n",
      "1857.6100000000001\n",
      "1354.2399999999998\n",
      "1406.25\n",
      "1451.6100000000001\n",
      "1689.21\n",
      "1267.3600000000001\n",
      "1616.0400000000002\n",
      "1369.0\n",
      "1576.0900000000001\n",
      "1616.0400000000002\n",
      "1648.3600000000001\n",
      "1030.41\n",
      "1656.4900000000002\n",
      "1391.2899999999997\n",
      "1521.0\n",
      "1536.6400000000003\n",
      "1339.5600000000002\n",
      "1296.0\n",
      "1428.8399999999997\n",
      "1296.0\n",
      "1722.25\n",
      "2162.25\n",
      "2500.0\n",
      "2631.6899999999996\n",
      "2061.16\n",
      "2777.2900000000004\n",
      "2043.0400000000002\n",
      "2125.21\n",
      "2631.6899999999996\n",
      "2116.0\n",
      "2631.6899999999996\n",
      "2171.56\n",
      "2672.8900000000003\n",
      "2209.0\n",
      "2704.0\n",
      "2106.81\n",
      "2550.25\n",
      "2530.0899999999997\n",
      "3364.0\n",
      "2152.96\n",
      "2420.6400000000003\n",
      "1797.76\n",
      "2352.25\n",
      "1866.2400000000002\n",
      "2560.36\n",
      "2180.8900000000003\n",
      "2704.0\n",
      "2550.25\n",
      "2450.25\n",
      "2152.96\n",
      "2787.8399999999997\n",
      "1672.81\n",
      "2937.6400000000003\n",
      "1806.25\n",
      "2601.0\n",
      "2470.09\n",
      "2256.25\n",
      "2265.76\n",
      "2704.0\n",
      "2199.6099999999997\n",
      "2862.25\n",
      "2401.0\n",
      "2134.44\n",
      "2590.81\n",
      "2070.25\n",
      "2590.81\n",
      "2580.64\n",
      "2510.01\n",
      "2401.0\n",
      "2652.25\n",
      "2480.0399999999995\n",
      "2313.61\n",
      "2641.96\n",
      "2088.4900000000002\n",
      "2570.4900000000002\n",
      "1806.25\n",
      "2724.84\n",
      "2043.0400000000002\n",
      "2430.49\n",
      "2520.0400000000004\n",
      "2079.36\n",
      "2693.6099999999997\n",
      "2190.24\n",
      "2088.4900000000002\n",
      "3113.64\n",
      "1892.25\n",
      "2460.1600000000003\n",
      "2580.64\n",
      "2520.0400000000004\n",
      "2125.21\n",
      "2500.0\n",
      "2371.69\n",
      "2500.0\n",
      "2265.76\n",
      "2162.25\n",
      "2061.16\n",
      "2180.8900000000003\n",
      "1874.8899999999996\n",
      "2190.24\n",
      "1672.81\n",
      "2401.0\n",
      "2070.25\n",
      "2342.56\n",
      "2097.64\n",
      "2430.49\n",
      "1764.0\n",
      "2420.6400000000003\n",
      "2134.44\n",
      "2371.69\n",
      "2520.0400000000004\n",
      "2034.0100000000002\n",
      "2162.25\n",
      "2143.6899999999996\n",
      "1840.4099999999999\n",
      "2125.21\n",
      "1980.25\n",
      "2284.8399999999997\n",
      "2323.2400000000002\n",
      "2500.0\n",
      "2237.2899999999995\n",
      "1831.8399999999997\n",
      "2034.0100000000002\n",
      "3552.1600000000003\n",
      "2410.81\n",
      "2342.56\n",
      "1814.7600000000002\n",
      "1971.36\n",
      "1936.0\n",
      "2371.69\n",
      "1823.2900000000002\n",
      "2460.1600000000003\n",
      "2052.0899999999997\n",
      "2460.1600000000003\n",
      "2550.25\n",
      "1900.96\n",
      "2070.25\n",
      "2550.25\n",
      "2016.0099999999998\n",
      "2043.0400000000002\n",
      "2171.56\n",
      "2352.25\n",
      "2034.0100000000002\n",
      "2510.01\n",
      "2162.25\n",
      "2025.0\n",
      "1918.4399999999998\n",
      "2070.25\n",
      "1866.2400000000002\n",
      "2540.16\n",
      "2052.0899999999997\n",
      "2134.44\n",
      "2088.4900000000002\n",
      "2948.49\n",
      "2097.64\n",
      "2480.0399999999995\n",
      "2134.44\n",
      "2450.25\n",
      "1892.25\n",
      "2570.4900000000002\n",
      "2275.2900000000004\n",
      "2152.96\n",
      "2323.2400000000002\n",
      "2162.25\n",
      "2152.96\n",
      "2361.96\n",
      "2256.25\n",
      "2611.21\n",
      "2043.0400000000002\n",
      "2043.0400000000002\n",
      "2410.81\n",
      "2756.25\n",
      "2246.7599999999998\n",
      "2500.0\n",
      "2016.0099999999998\n",
      "2580.64\n",
      "1883.56\n",
      "2631.6899999999996\n",
      "2256.25\n",
      "2714.4100000000003\n",
      "2256.25\n",
      "2724.84\n",
      "2070.25\n",
      "2450.25\n",
      "1980.25\n",
      "2580.64\n",
      "2440.3599999999997\n",
      "2199.6099999999997\n",
      "2342.56\n",
      "2611.21\n",
      "2352.25\n",
      "3124.81\n",
      "2227.84\n",
      "2410.81\n",
      "2237.2899999999995\n",
      "2190.24\n",
      "1738.8900000000003\n",
      "2851.56\n",
      "1874.8899999999996\n",
      "2313.61\n",
      "2550.25\n",
      "2480.0399999999995\n",
      "1892.25\n",
      "2652.25\n",
      "2134.44\n",
      "3036.01\n",
      "1980.25\n",
      "2381.4399999999996\n",
      "2227.84\n",
      "1929.1359195136965\n",
      "2190.24\n",
      "2540.16\n",
      "2043.0400000000002\n",
      "2490.0099999999998\n"
     ]
    }
   ],
   "source": [
    "for (index, row) in data_remake[\"bill_length_mm\"].items():\n",
    "    if row >= 30:\n",
    "        row = row **2\n",
    "    else:\n",
    "        row\n",
    "        \n",
    "    print(row)\n",
    "    # print(f\"{index}:{row}\")"
   ]
  },
  {
   "cell_type": "code",
   "execution_count": 108,
   "id": "30a569c6",
   "metadata": {},
   "outputs": [
    {
     "data": {
      "text/plain": [
       "[1528.8100000000002,\n",
       " 1560.25,\n",
       " 1624.0899999999997,\n",
       " 1929.1359195136965,\n",
       " 1346.89,\n",
       " 1544.4899999999998,\n",
       " 1513.2099999999998,\n",
       " 1536.6400000000003,\n",
       " 1162.8100000000002,\n",
       " 1764.0,\n",
       " 1428.8399999999997,\n",
       " 1428.8399999999997,\n",
       " 1689.21,\n",
       " 1489.96,\n",
       " 1197.16,\n",
       " 1339.5600000000002,\n",
       " 1497.6900000000003,\n",
       " 1806.25,\n",
       " 1183.36,\n",
       " 2116.0,\n",
       " 1428.8399999999997,\n",
       " 1421.2900000000002,\n",
       " 1288.81,\n",
       " 1459.2400000000002,\n",
       " 1505.4399999999998,\n",
       " 1246.0899999999997,\n",
       " 1648.3600000000001,\n",
       " 1640.25,\n",
       " 1436.4099999999999,\n",
       " 1640.25,\n",
       " 1560.25,\n",
       " 1383.8400000000001,\n",
       " 1560.25,\n",
       " 1672.81,\n",
       " 1324.9599999999998,\n",
       " 1536.6400000000003,\n",
       " 1505.4399999999998,\n",
       " 1780.8400000000001,\n",
       " 1413.7600000000002,\n",
       " 1584.0399999999997,\n",
       " 1332.25,\n",
       " 1664.6399999999999,\n",
       " 1296.0,\n",
       " 1944.8100000000002,\n",
       " 1369.0,\n",
       " 1568.16,\n",
       " 1689.21,\n",
       " 1406.25,\n",
       " 1296.0,\n",
       " 1789.2899999999997,\n",
       " 1568.16,\n",
       " 1608.0100000000002,\n",
       " 1225.0,\n",
       " 1764.0,\n",
       " 1190.25,\n",
       " 1713.9599999999998,\n",
       " 1521.0,\n",
       " 1648.3600000000001,\n",
       " 1332.25,\n",
       " 1413.7600000000002,\n",
       " 1274.4900000000002,\n",
       " 1705.6899999999998,\n",
       " 1413.7600000000002,\n",
       " 1689.21,\n",
       " 1324.9599999999998,\n",
       " 1730.5600000000002,\n",
       " 1260.25,\n",
       " 1689.21,\n",
       " 1288.81,\n",
       " 1747.2399999999998,\n",
       " 1122.25,\n",
       " 1576.0900000000001,\n",
       " 1568.16,\n",
       " 2097.64,\n",
       " 1260.25,\n",
       " 1831.8399999999997,\n",
       " 1672.81,\n",
       " 1383.8400000000001,\n",
       " 1310.4400000000003,\n",
       " 1772.41,\n",
       " 1197.16,\n",
       " 1840.4099999999999,\n",
       " 1346.89,\n",
       " 1232.01,\n",
       " 1391.2899999999997,\n",
       " 1705.6899999999998,\n",
       " 1317.6899999999998,\n",
       " 1361.61,\n",
       " 1466.8899999999999,\n",
       " 1513.2099999999998,\n",
       " 1274.4900000000002,\n",
       " 1689.21,\n",
       " 1156.0,\n",
       " 1568.16,\n",
       " 1310.4400000000003,\n",
       " 1664.6399999999999,\n",
       " 1451.6100000000001,\n",
       " 1624.0899999999997,\n",
       " 1095.6100000000001,\n",
       " 1866.2400000000002,\n",
       " 1225.0,\n",
       " 1681.0,\n",
       " 1421.2900000000002,\n",
       " 1428.8399999999997,\n",
       " 1436.4099999999999,\n",
       " 1576.0900000000001,\n",
       " 1489.96,\n",
       " 1459.2400000000002,\n",
       " 1451.6100000000001,\n",
       " 1866.2400000000002,\n",
       " 1451.6100000000001,\n",
       " 2079.36,\n",
       " 1576.0900000000001,\n",
       " 1780.8400000000001,\n",
       " 1568.16,\n",
       " 1823.2900000000002,\n",
       " 1489.96,\n",
       " 1391.2899999999997,\n",
       " 1274.4900000000002,\n",
       " 1689.21,\n",
       " 1310.4400000000003,\n",
       " 1421.2900000000002,\n",
       " 1616.0400000000002,\n",
       " 1713.9599999999998,\n",
       " 1239.0400000000002,\n",
       " 1648.3600000000001,\n",
       " 1505.4399999999998,\n",
       " 1722.25,\n",
       " 1521.0,\n",
       " 1944.8100000000002,\n",
       " 1482.25,\n",
       " 1857.6100000000001,\n",
       " 1354.2399999999998,\n",
       " 1406.25,\n",
       " 1451.6100000000001,\n",
       " 1689.21,\n",
       " 1267.3600000000001,\n",
       " 1616.0400000000002,\n",
       " 1369.0,\n",
       " 1576.0900000000001,\n",
       " 1616.0400000000002,\n",
       " 1648.3600000000001,\n",
       " 1030.41,\n",
       " 1656.4900000000002,\n",
       " 1391.2899999999997,\n",
       " 1521.0,\n",
       " 1536.6400000000003,\n",
       " 1339.5600000000002,\n",
       " 1296.0,\n",
       " 1428.8399999999997,\n",
       " 1296.0,\n",
       " 1722.25,\n",
       " 2162.25,\n",
       " 2500.0,\n",
       " 2631.6899999999996,\n",
       " 2061.16,\n",
       " 2777.2900000000004,\n",
       " 2043.0400000000002,\n",
       " 2125.21,\n",
       " 2631.6899999999996,\n",
       " 2116.0,\n",
       " 2631.6899999999996,\n",
       " 2171.56,\n",
       " 2672.8900000000003,\n",
       " 2209.0,\n",
       " 2704.0,\n",
       " 2106.81,\n",
       " 2550.25,\n",
       " 2530.0899999999997,\n",
       " 3364.0,\n",
       " 2152.96,\n",
       " 2420.6400000000003,\n",
       " 1797.76,\n",
       " 2352.25,\n",
       " 1866.2400000000002,\n",
       " 2560.36,\n",
       " 2180.8900000000003,\n",
       " 2704.0,\n",
       " 2550.25,\n",
       " 2450.25,\n",
       " 2152.96,\n",
       " 2787.8399999999997,\n",
       " 1672.81,\n",
       " 2937.6400000000003,\n",
       " 1806.25,\n",
       " 2601.0,\n",
       " 2470.09,\n",
       " 2256.25,\n",
       " 2265.76,\n",
       " 2704.0,\n",
       " 2199.6099999999997,\n",
       " 2862.25,\n",
       " 2401.0,\n",
       " 2134.44,\n",
       " 2590.81,\n",
       " 2070.25,\n",
       " 2590.81,\n",
       " 2580.64,\n",
       " 2510.01,\n",
       " 2401.0,\n",
       " 2652.25,\n",
       " 2480.0399999999995,\n",
       " 2313.61,\n",
       " 2641.96,\n",
       " 2088.4900000000002,\n",
       " 2570.4900000000002,\n",
       " 1806.25,\n",
       " 2724.84,\n",
       " 2043.0400000000002,\n",
       " 2430.49,\n",
       " 2520.0400000000004,\n",
       " 2079.36,\n",
       " 2693.6099999999997,\n",
       " 2190.24,\n",
       " 2088.4900000000002,\n",
       " 3113.64,\n",
       " 1892.25,\n",
       " 2460.1600000000003,\n",
       " 2580.64,\n",
       " 2520.0400000000004,\n",
       " 2125.21,\n",
       " 2500.0,\n",
       " 2371.69,\n",
       " 2500.0,\n",
       " 2265.76,\n",
       " 2162.25,\n",
       " 2061.16,\n",
       " 2180.8900000000003,\n",
       " 1874.8899999999996,\n",
       " 2190.24,\n",
       " 1672.81,\n",
       " 2401.0,\n",
       " 2070.25,\n",
       " 2342.56,\n",
       " 2097.64,\n",
       " 2430.49,\n",
       " 1764.0,\n",
       " 2420.6400000000003,\n",
       " 2134.44,\n",
       " 2371.69,\n",
       " 2520.0400000000004,\n",
       " 2034.0100000000002,\n",
       " 2162.25,\n",
       " 2143.6899999999996,\n",
       " 1840.4099999999999,\n",
       " 2125.21,\n",
       " 1980.25,\n",
       " 2284.8399999999997,\n",
       " 2323.2400000000002,\n",
       " 2500.0,\n",
       " 2237.2899999999995,\n",
       " 1831.8399999999997,\n",
       " 2034.0100000000002,\n",
       " 3552.1600000000003,\n",
       " 2410.81,\n",
       " 2342.56,\n",
       " 1814.7600000000002,\n",
       " 1971.36,\n",
       " 1936.0,\n",
       " 2371.69,\n",
       " 1823.2900000000002,\n",
       " 2460.1600000000003,\n",
       " 2052.0899999999997,\n",
       " 2460.1600000000003,\n",
       " 2550.25,\n",
       " 1900.96,\n",
       " 2070.25,\n",
       " 2550.25,\n",
       " 2016.0099999999998,\n",
       " 2043.0400000000002,\n",
       " 2171.56,\n",
       " 2352.25,\n",
       " 2034.0100000000002,\n",
       " 2510.01,\n",
       " 2162.25,\n",
       " 2025.0,\n",
       " 1918.4399999999998,\n",
       " 2070.25,\n",
       " 1866.2400000000002,\n",
       " 2540.16,\n",
       " 2052.0899999999997,\n",
       " 2134.44,\n",
       " 2088.4900000000002,\n",
       " 2948.49,\n",
       " 2097.64,\n",
       " 2480.0399999999995,\n",
       " 2134.44,\n",
       " 2450.25,\n",
       " 1892.25,\n",
       " 2570.4900000000002,\n",
       " 2275.2900000000004,\n",
       " 2152.96,\n",
       " 2323.2400000000002,\n",
       " 2162.25,\n",
       " 2152.96,\n",
       " 2361.96,\n",
       " 2256.25,\n",
       " 2611.21,\n",
       " 2043.0400000000002,\n",
       " 2043.0400000000002,\n",
       " 2410.81,\n",
       " 2756.25,\n",
       " 2246.7599999999998,\n",
       " 2500.0,\n",
       " 2016.0099999999998,\n",
       " 2580.64,\n",
       " 1883.56,\n",
       " 2631.6899999999996,\n",
       " 2256.25,\n",
       " 2714.4100000000003,\n",
       " 2256.25,\n",
       " 2724.84,\n",
       " 2070.25,\n",
       " 2450.25,\n",
       " 1980.25,\n",
       " 2580.64,\n",
       " 2440.3599999999997,\n",
       " 2199.6099999999997,\n",
       " 2342.56,\n",
       " 2611.21,\n",
       " 2352.25,\n",
       " 3124.81,\n",
       " 2227.84,\n",
       " 2410.81,\n",
       " 2237.2899999999995,\n",
       " 2190.24,\n",
       " 1738.8900000000003,\n",
       " 2851.56,\n",
       " 1874.8899999999996,\n",
       " 2313.61,\n",
       " 2550.25,\n",
       " 2480.0399999999995,\n",
       " 1892.25,\n",
       " 2652.25,\n",
       " 2134.44,\n",
       " 3036.01,\n",
       " 1980.25,\n",
       " 2381.4399999999996,\n",
       " 2227.84,\n",
       " 1929.1359195136965,\n",
       " 2190.24,\n",
       " 2540.16,\n",
       " 2043.0400000000002,\n",
       " 2490.0099999999998]"
      ]
     },
     "execution_count": 108,
     "metadata": {},
     "output_type": "execute_result"
    }
   ],
   "source": [
    "[row**2 for row in data_remake[\"bill_length_mm\"] if row >= 30 ]"
   ]
  },
  {
   "cell_type": "code",
   "execution_count": null,
   "id": "ab9c171a",
   "metadata": {},
   "outputs": [],
   "source": [
    "{}"
   ]
  },
  {
   "cell_type": "code",
   "execution_count": 112,
   "id": "ba44bb9c",
   "metadata": {},
   "outputs": [
    {
     "name": "stdout",
     "output_type": "stream",
     "text": [
      "18.7-::-39.1\n",
      "17.4-::-39.5\n",
      "18.0-::-40.3\n",
      "17.151169590643278-::-43.9219298245614\n",
      "19.3-::-36.7\n",
      "20.6-::-39.3\n",
      "17.8-::-38.9\n",
      "19.6-::-39.2\n",
      "18.1-::-34.1\n",
      "20.2-::-42.0\n",
      "17.1-::-37.8\n",
      "17.3-::-37.8\n",
      "17.6-::-41.1\n",
      "21.2-::-38.6\n",
      "21.1-::-34.6\n",
      "17.8-::-36.6\n",
      "19.0-::-38.7\n",
      "20.7-::-42.5\n",
      "18.4-::-34.4\n",
      "21.5-::-46.0\n",
      "18.3-::-37.8\n",
      "18.7-::-37.7\n",
      "19.2-::-35.9\n",
      "18.1-::-38.2\n",
      "17.2-::-38.8\n",
      "18.9-::-35.3\n",
      "18.6-::-40.6\n",
      "17.9-::-40.5\n",
      "18.6-::-37.9\n",
      "18.9-::-40.5\n",
      "16.7-::-39.5\n",
      "18.1-::-37.2\n",
      "17.8-::-39.5\n",
      "18.9-::-40.9\n",
      "17.0-::-36.4\n",
      "21.1-::-39.2\n",
      "20.0-::-38.8\n",
      "18.5-::-42.2\n",
      "19.3-::-37.6\n",
      "19.1-::-39.8\n",
      "18.0-::-36.5\n",
      "18.4-::-40.8\n",
      "18.5-::-36.0\n",
      "19.7-::-44.1\n",
      "16.9-::-37.0\n",
      "18.8-::-39.6\n",
      "19.0-::-41.1\n",
      "18.9-::-37.5\n",
      "17.9-::-36.0\n",
      "21.2-::-42.3\n",
      "17.7-::-39.6\n",
      "18.9-::-40.1\n",
      "17.9-::-35.0\n",
      "19.5-::-42.0\n",
      "18.1-::-34.5\n",
      "18.6-::-41.4\n",
      "17.5-::-39.0\n",
      "18.8-::-40.6\n",
      "16.6-::-36.5\n",
      "19.1-::-37.6\n",
      "16.9-::-35.7\n",
      "21.1-::-41.3\n",
      "17.0-::-37.6\n",
      "18.2-::-41.1\n",
      "17.1-::-36.4\n",
      "18.0-::-41.6\n",
      "16.2-::-35.5\n",
      "19.1-::-41.1\n",
      "16.6-::-35.9\n",
      "19.4-::-41.8\n",
      "19.0-::-33.5\n",
      "18.4-::-39.7\n",
      "17.2-::-39.6\n",
      "18.9-::-45.8\n",
      "17.5-::-35.5\n",
      "18.5-::-42.8\n",
      "16.8-::-40.9\n",
      "19.4-::-37.2\n",
      "16.1-::-36.2\n",
      "19.1-::-42.1\n",
      "17.2-::-34.6\n",
      "17.6-::-42.9\n",
      "18.8-::-36.7\n",
      "19.4-::-35.1\n",
      "17.8-::-37.3\n",
      "20.3-::-41.3\n",
      "19.5-::-36.3\n",
      "18.6-::-36.9\n",
      "19.2-::-38.3\n",
      "18.8-::-38.9\n",
      "18.0-::-35.7\n",
      "18.1-::-41.1\n",
      "17.1-::-34.0\n",
      "18.1-::-39.6\n",
      "17.3-::-36.2\n",
      "18.9-::-40.8\n",
      "18.6-::-38.1\n",
      "18.5-::-40.3\n",
      "16.1-::-33.1\n",
      "18.5-::-43.2\n",
      "17.9-::-35.0\n",
      "20.0-::-41.0\n",
      "16.0-::-37.7\n",
      "20.0-::-37.8\n",
      "18.6-::-37.9\n",
      "18.9-::-39.7\n",
      "17.2-::-38.6\n",
      "20.0-::-38.2\n",
      "17.0-::-38.1\n",
      "19.0-::-43.2\n",
      "16.5-::-38.1\n",
      "20.3-::-45.6\n",
      "17.7-::-39.7\n",
      "19.5-::-42.2\n",
      "20.7-::-39.6\n",
      "18.3-::-42.7\n",
      "17.0-::-38.6\n",
      "20.5-::-37.3\n",
      "17.0-::-35.7\n",
      "18.6-::-41.1\n",
      "17.2-::-36.2\n",
      "19.8-::-37.7\n",
      "17.0-::-40.2\n",
      "18.5-::-41.4\n",
      "15.9-::-35.2\n",
      "19.0-::-40.6\n",
      "17.6-::-38.8\n",
      "18.3-::-41.5\n",
      "17.1-::-39.0\n",
      "18.0-::-44.1\n",
      "17.9-::-38.5\n",
      "19.2-::-43.1\n",
      "18.5-::-36.8\n",
      "18.5-::-37.5\n",
      "17.6-::-38.1\n",
      "17.5-::-41.1\n",
      "17.5-::-35.6\n",
      "20.1-::-40.2\n",
      "16.5-::-37.0\n",
      "17.9-::-39.7\n",
      "17.1-::-40.2\n",
      "17.2-::-40.6\n",
      "15.5-::-32.1\n",
      "17.0-::-40.7\n",
      "16.8-::-37.3\n",
      "18.7-::-39.0\n",
      "18.6-::-39.2\n",
      "18.4-::-36.6\n",
      "17.8-::-36.0\n",
      "18.1-::-37.8\n",
      "17.1-::-36.0\n",
      "18.5-::-41.5\n",
      "17.9-::-46.5\n",
      "19.5-::-50.0\n",
      "19.2-::-51.3\n",
      "18.7-::-45.4\n",
      "19.8-::-52.7\n",
      "17.8-::-45.2\n",
      "18.2-::-46.1\n",
      "18.2-::-51.3\n",
      "18.9-::-46.0\n",
      "19.9-::-51.3\n",
      "17.8-::-46.6\n",
      "20.3-::-51.7\n",
      "17.3-::-47.0\n",
      "18.1-::-52.0\n",
      "17.1-::-45.9\n",
      "19.6-::-50.5\n",
      "20.0-::-50.3\n",
      "17.8-::-58.0\n",
      "18.6-::-46.4\n",
      "18.2-::-49.2\n",
      "17.3-::-42.4\n",
      "17.5-::-48.5\n",
      "16.6-::-43.2\n",
      "19.4-::-50.6\n",
      "17.9-::-46.7\n",
      "19.0-::-52.0\n",
      "18.4-::-50.5\n",
      "19.0-::-49.5\n",
      "17.8-::-46.4\n",
      "20.0-::-52.8\n",
      "16.6-::-40.9\n",
      "20.8-::-54.2\n",
      "16.7-::-42.5\n",
      "18.8-::-51.0\n",
      "18.6-::-49.7\n",
      "16.8-::-47.5\n",
      "18.3-::-47.6\n",
      "20.7-::-52.0\n",
      "16.6-::-46.9\n",
      "19.9-::-53.5\n",
      "19.5-::-49.0\n",
      "17.5-::-46.2\n",
      "19.1-::-50.9\n",
      "17.0-::-45.5\n",
      "17.9-::-50.9\n",
      "18.5-::-50.8\n",
      "17.9-::-50.1\n",
      "19.6-::-49.0\n",
      "18.7-::-51.5\n",
      "17.3-::-49.8\n",
      "16.4-::-48.1\n",
      "19.0-::-51.4\n",
      "17.3-::-45.7\n",
      "19.7-::-50.7\n",
      "17.3-::-42.5\n",
      "18.8-::-52.2\n",
      "16.6-::-45.2\n",
      "19.9-::-49.3\n",
      "18.8-::-50.2\n",
      "19.4-::-45.6\n",
      "19.5-::-51.9\n",
      "16.5-::-46.8\n",
      "17.0-::-45.7\n",
      "19.8-::-55.8\n",
      "18.1-::-43.5\n",
      "18.2-::-49.6\n",
      "19.0-::-50.8\n",
      "18.7-::-50.2\n",
      "13.2-::-46.1\n",
      "16.3-::-50.0\n",
      "14.1-::-48.7\n",
      "15.2-::-50.0\n",
      "14.5-::-47.6\n",
      "13.5-::-46.5\n",
      "14.6-::-45.4\n",
      "15.3-::-46.7\n",
      "13.4-::-43.3\n",
      "15.4-::-46.8\n",
      "13.7-::-40.9\n",
      "16.1-::-49.0\n",
      "13.7-::-45.5\n",
      "14.6-::-48.4\n",
      "14.6-::-45.8\n",
      "15.7-::-49.3\n",
      "13.5-::-42.0\n",
      "15.2-::-49.2\n",
      "14.5-::-46.2\n",
      "15.1-::-48.7\n",
      "14.3-::-50.2\n",
      "14.5-::-45.1\n",
      "14.5-::-46.5\n",
      "15.8-::-46.3\n",
      "13.1-::-42.9\n",
      "15.1-::-46.1\n",
      "14.3-::-44.5\n",
      "15.0-::-47.8\n",
      "14.3-::-48.2\n",
      "15.3-::-50.0\n",
      "15.3-::-47.3\n",
      "14.2-::-42.8\n",
      "14.5-::-45.1\n",
      "17.0-::-59.6\n",
      "14.8-::-49.1\n",
      "16.3-::-48.4\n",
      "13.7-::-42.6\n",
      "17.3-::-44.4\n",
      "13.6-::-44.0\n",
      "15.7-::-48.7\n",
      "13.7-::-42.7\n",
      "16.0-::-49.6\n",
      "13.7-::-45.3\n",
      "15.0-::-49.6\n",
      "15.9-::-50.5\n",
      "13.9-::-43.6\n",
      "13.9-::-45.5\n",
      "15.9-::-50.5\n",
      "13.3-::-44.9\n",
      "15.8-::-45.2\n",
      "14.2-::-46.6\n",
      "14.1-::-48.5\n",
      "14.4-::-45.1\n",
      "15.0-::-50.1\n",
      "14.4-::-46.5\n",
      "15.4-::-45.0\n",
      "13.9-::-43.8\n",
      "15.0-::-45.5\n",
      "14.5-::-43.2\n",
      "15.3-::-50.4\n",
      "13.8-::-45.3\n",
      "14.9-::-46.2\n",
      "13.9-::-45.7\n",
      "15.7-::-54.3\n",
      "14.2-::-45.8\n",
      "16.8-::-49.8\n",
      "14.4-::-46.2\n",
      "16.2-::-49.5\n",
      "14.2-::-43.5\n",
      "15.0-::-50.7\n",
      "15.0-::-47.7\n",
      "15.6-::-46.4\n",
      "15.6-::-48.2\n",
      "14.8-::-46.5\n",
      "15.0-::-46.4\n",
      "16.0-::-48.6\n",
      "14.2-::-47.5\n",
      "16.3-::-51.1\n",
      "13.8-::-45.2\n",
      "16.4-::-45.2\n",
      "14.5-::-49.1\n",
      "15.6-::-52.5\n",
      "14.6-::-47.4\n",
      "15.9-::-50.0\n",
      "13.8-::-44.9\n",
      "17.3-::-50.8\n",
      "14.4-::-43.4\n",
      "14.2-::-51.3\n",
      "14.0-::-47.5\n",
      "17.0-::-52.1\n",
      "15.0-::-47.5\n",
      "17.1-::-52.2\n",
      "14.5-::-45.5\n",
      "16.1-::-49.5\n",
      "14.7-::-44.5\n",
      "15.7-::-50.8\n",
      "15.8-::-49.4\n",
      "14.6-::-46.9\n",
      "14.4-::-48.4\n",
      "16.5-::-51.1\n",
      "15.0-::-48.5\n",
      "17.0-::-55.9\n",
      "15.5-::-47.2\n",
      "15.0-::-49.1\n",
      "13.8-::-47.3\n",
      "16.1-::-46.8\n",
      "14.7-::-41.7\n",
      "15.8-::-53.4\n",
      "14.0-::-43.3\n",
      "15.1-::-48.1\n",
      "15.2-::-50.5\n",
      "15.9-::-49.8\n",
      "15.2-::-43.5\n",
      "16.3-::-51.5\n",
      "14.1-::-46.2\n",
      "16.0-::-55.1\n",
      "15.7-::-44.5\n",
      "16.2-::-48.8\n",
      "13.7-::-47.2\n",
      "17.151169590643278-::-43.9219298245614\n",
      "14.3-::-46.8\n",
      "15.7-::-50.4\n",
      "14.8-::-45.2\n",
      "16.1-::-49.9\n"
     ]
    }
   ],
   "source": [
    "for depth, length in zip(data_remake[\"bill_depth_mm\"], data_remake[\"bill_length_mm\"]):\n",
    "    print(f\"{depth}-::-{length}\")"
   ]
  },
  {
   "cell_type": "code",
   "execution_count": null,
   "id": "b6b5f14b",
   "metadata": {},
   "outputs": [],
   "source": [
    "from dotenv import load_dotenv, find_dotenv\n",
    "import os\n",
    "\n",
    "load_dotenv()\n",
    "\n",
    "try:\n",
    "    API_KEY_SATELITE=os.getenv(\"API_ID_SATELITE\")\n",
    "    API_ID_SATELITE=os.getenv(\"API_ID_SATELITE\")\n",
    "except Exception as e:\n",
    "    print(f\"Result Error: {e}\")"
   ]
  },
  {
   "cell_type": "code",
   "execution_count": 119,
   "id": "c57a7e3a",
   "metadata": {},
   "outputs": [],
   "source": [
    "my_dict = {\"fruits\":[\"mangoes\", \"apples\", \"fanta\", \"milk\"],\n",
    "           \"price\": [10, 20, 30, 25]\n",
    "}"
   ]
  },
  {
   "cell_type": "code",
   "execution_count": 120,
   "id": "4b1dc034",
   "metadata": {},
   "outputs": [
    {
     "data": {
      "text/plain": [
       "['mangoes', 'apples', 'fanta', 'milk']"
      ]
     },
     "execution_count": 120,
     "metadata": {},
     "output_type": "execute_result"
    }
   ],
   "source": [
    "my_dict.get(\"fruits\")"
   ]
  },
  {
   "cell_type": "code",
   "execution_count": 121,
   "id": "81abd691",
   "metadata": {},
   "outputs": [
    {
     "data": {
      "text/plain": [
       "['mangoes', 'apples', 'fanta', 'milk']"
      ]
     },
     "execution_count": 121,
     "metadata": {},
     "output_type": "execute_result"
    }
   ],
   "source": [
    "my_dict['fruits']"
   ]
  },
  {
   "cell_type": "code",
   "execution_count": 122,
   "id": "50847644",
   "metadata": {},
   "outputs": [
    {
     "name": "stdout",
     "output_type": "stream",
     "text": [
      "fruits:['mangoes', 'apples', 'fanta', 'milk']\n",
      "price:[10, 20, 30, 25]\n"
     ]
    }
   ],
   "source": [
    "for val, value in my_dict.items():\n",
    "    print(f\"{val}:{value}\")"
   ]
  },
  {
   "cell_type": "code",
   "execution_count": 126,
   "id": "656484c4",
   "metadata": {},
   "outputs": [
    {
     "data": {
      "text/plain": [
       "{0, 1, 2, 3, 4, 5, 6, 7, 8, 9, 10}"
      ]
     },
     "execution_count": 126,
     "metadata": {},
     "output_type": "execute_result"
    }
   ],
   "source": [
    "myset = set(range(10))\n",
    "myset.add(10)\n",
    "\n",
    "myset"
   ]
  },
  {
   "cell_type": "code",
   "execution_count": 129,
   "id": "202714b6",
   "metadata": {},
   "outputs": [
    {
     "data": {
      "text/plain": [
       "['mangoes', 'apples', 'fanta', 'milk']"
      ]
     },
     "execution_count": 129,
     "metadata": {},
     "output_type": "execute_result"
    }
   ],
   "source": [
    "my_dict.get(\"fruits\")"
   ]
  },
  {
   "cell_type": "code",
   "execution_count": 188,
   "id": "f12e8c45",
   "metadata": {},
   "outputs": [
    {
     "data": {
      "application/vnd.microsoft.datawrangler.viewer.v0+json": {
       "columns": [
        {
         "name": "index",
         "rawType": "int64",
         "type": "integer"
        },
        {
         "name": "species",
         "rawType": "int64",
         "type": "integer"
        },
        {
         "name": "island",
         "rawType": "int64",
         "type": "integer"
        },
        {
         "name": "bill_length_mm",
         "rawType": "float64",
         "type": "float"
        },
        {
         "name": "bill_depth_mm",
         "rawType": "float64",
         "type": "float"
        },
        {
         "name": "flipper_length_mm",
         "rawType": "float64",
         "type": "float"
        },
        {
         "name": "body_mass_g",
         "rawType": "float64",
         "type": "float"
        }
       ],
       "ref": "b1aae2c7-cbef-4169-9e79-a34d298b18ae",
       "rows": [
        [
         "0",
         "0",
         "2",
         "39.1",
         "18.7",
         "181.0",
         "3750.0"
        ],
        [
         "1",
         "0",
         "2",
         "39.5",
         "17.4",
         "186.0",
         "3800.0"
        ],
        [
         "2",
         "0",
         "2",
         "40.3",
         "18.0",
         "195.0",
         "3250.0"
        ],
        [
         "3",
         "0",
         "2",
         "43.9219298245614",
         "17.151169590643278",
         "200.91520467836258",
         "4201.754385964912"
        ],
        [
         "4",
         "0",
         "2",
         "36.7",
         "19.3",
         "193.0",
         "3450.0"
        ],
        [
         "5",
         "0",
         "2",
         "39.3",
         "20.6",
         "190.0",
         "3650.0"
        ],
        [
         "6",
         "0",
         "2",
         "38.9",
         "17.8",
         "181.0",
         "3625.0"
        ],
        [
         "7",
         "0",
         "2",
         "39.2",
         "19.6",
         "195.0",
         "4675.0"
        ],
        [
         "8",
         "0",
         "2",
         "34.1",
         "18.1",
         "193.0",
         "3475.0"
        ],
        [
         "9",
         "0",
         "2",
         "42.0",
         "20.2",
         "190.0",
         "4250.0"
        ],
        [
         "10",
         "0",
         "2",
         "37.8",
         "17.1",
         "186.0",
         "3300.0"
        ],
        [
         "11",
         "0",
         "2",
         "37.8",
         "17.3",
         "180.0",
         "3700.0"
        ],
        [
         "12",
         "0",
         "2",
         "41.1",
         "17.6",
         "182.0",
         "3200.0"
        ],
        [
         "13",
         "0",
         "2",
         "38.6",
         "21.2",
         "191.0",
         "3800.0"
        ],
        [
         "14",
         "0",
         "2",
         "34.6",
         "21.1",
         "198.0",
         "4400.0"
        ],
        [
         "15",
         "0",
         "2",
         "36.6",
         "17.8",
         "185.0",
         "3700.0"
        ],
        [
         "16",
         "0",
         "2",
         "38.7",
         "19.0",
         "195.0",
         "3450.0"
        ],
        [
         "17",
         "0",
         "2",
         "42.5",
         "20.7",
         "197.0",
         "4500.0"
        ],
        [
         "18",
         "0",
         "2",
         "34.4",
         "18.4",
         "184.0",
         "3325.0"
        ],
        [
         "19",
         "0",
         "2",
         "46.0",
         "21.5",
         "194.0",
         "4200.0"
        ],
        [
         "20",
         "0",
         "0",
         "37.8",
         "18.3",
         "174.0",
         "3400.0"
        ],
        [
         "21",
         "0",
         "0",
         "37.7",
         "18.7",
         "180.0",
         "3600.0"
        ],
        [
         "22",
         "0",
         "0",
         "35.9",
         "19.2",
         "189.0",
         "3800.0"
        ],
        [
         "23",
         "0",
         "0",
         "38.2",
         "18.1",
         "185.0",
         "3950.0"
        ],
        [
         "24",
         "0",
         "0",
         "38.8",
         "17.2",
         "180.0",
         "3800.0"
        ],
        [
         "25",
         "0",
         "0",
         "35.3",
         "18.9",
         "187.0",
         "3800.0"
        ],
        [
         "26",
         "0",
         "0",
         "40.6",
         "18.6",
         "183.0",
         "3550.0"
        ],
        [
         "27",
         "0",
         "0",
         "40.5",
         "17.9",
         "187.0",
         "3200.0"
        ],
        [
         "28",
         "0",
         "0",
         "37.9",
         "18.6",
         "172.0",
         "3150.0"
        ],
        [
         "29",
         "0",
         "0",
         "40.5",
         "18.9",
         "180.0",
         "3950.0"
        ],
        [
         "30",
         "0",
         "1",
         "39.5",
         "16.7",
         "178.0",
         "3250.0"
        ],
        [
         "31",
         "0",
         "1",
         "37.2",
         "18.1",
         "178.0",
         "3900.0"
        ],
        [
         "32",
         "0",
         "1",
         "39.5",
         "17.8",
         "188.0",
         "3300.0"
        ],
        [
         "33",
         "0",
         "1",
         "40.9",
         "18.9",
         "184.0",
         "3900.0"
        ],
        [
         "34",
         "0",
         "1",
         "36.4",
         "17.0",
         "195.0",
         "3325.0"
        ],
        [
         "35",
         "0",
         "1",
         "39.2",
         "21.1",
         "196.0",
         "4150.0"
        ],
        [
         "36",
         "0",
         "1",
         "38.8",
         "20.0",
         "190.0",
         "3950.0"
        ],
        [
         "37",
         "0",
         "1",
         "42.2",
         "18.5",
         "180.0",
         "3550.0"
        ],
        [
         "38",
         "0",
         "1",
         "37.6",
         "19.3",
         "181.0",
         "3300.0"
        ],
        [
         "39",
         "0",
         "1",
         "39.8",
         "19.1",
         "184.0",
         "4650.0"
        ],
        [
         "40",
         "0",
         "1",
         "36.5",
         "18.0",
         "182.0",
         "3150.0"
        ],
        [
         "41",
         "0",
         "1",
         "40.8",
         "18.4",
         "195.0",
         "3900.0"
        ],
        [
         "42",
         "0",
         "1",
         "36.0",
         "18.5",
         "186.0",
         "3100.0"
        ],
        [
         "43",
         "0",
         "1",
         "44.1",
         "19.7",
         "196.0",
         "4400.0"
        ],
        [
         "44",
         "0",
         "1",
         "37.0",
         "16.9",
         "185.0",
         "3000.0"
        ],
        [
         "45",
         "0",
         "1",
         "39.6",
         "18.8",
         "190.0",
         "4600.0"
        ],
        [
         "46",
         "0",
         "1",
         "41.1",
         "19.0",
         "182.0",
         "3425.0"
        ],
        [
         "47",
         "0",
         "1",
         "37.5",
         "18.9",
         "179.0",
         "2975.0"
        ],
        [
         "48",
         "0",
         "1",
         "36.0",
         "17.9",
         "190.0",
         "3450.0"
        ],
        [
         "49",
         "0",
         "1",
         "42.3",
         "21.2",
         "191.0",
         "4150.0"
        ]
       ],
       "shape": {
        "columns": 6,
        "rows": 344
       }
      },
      "text/html": [
       "<div>\n",
       "<style scoped>\n",
       "    .dataframe tbody tr th:only-of-type {\n",
       "        vertical-align: middle;\n",
       "    }\n",
       "\n",
       "    .dataframe tbody tr th {\n",
       "        vertical-align: top;\n",
       "    }\n",
       "\n",
       "    .dataframe thead th {\n",
       "        text-align: right;\n",
       "    }\n",
       "</style>\n",
       "<table border=\"1\" class=\"dataframe\">\n",
       "  <thead>\n",
       "    <tr style=\"text-align: right;\">\n",
       "      <th></th>\n",
       "      <th>species</th>\n",
       "      <th>island</th>\n",
       "      <th>bill_length_mm</th>\n",
       "      <th>bill_depth_mm</th>\n",
       "      <th>flipper_length_mm</th>\n",
       "      <th>body_mass_g</th>\n",
       "    </tr>\n",
       "  </thead>\n",
       "  <tbody>\n",
       "    <tr>\n",
       "      <th>0</th>\n",
       "      <td>0</td>\n",
       "      <td>2</td>\n",
       "      <td>39.10000</td>\n",
       "      <td>18.70000</td>\n",
       "      <td>181.000000</td>\n",
       "      <td>3750.000000</td>\n",
       "    </tr>\n",
       "    <tr>\n",
       "      <th>1</th>\n",
       "      <td>0</td>\n",
       "      <td>2</td>\n",
       "      <td>39.50000</td>\n",
       "      <td>17.40000</td>\n",
       "      <td>186.000000</td>\n",
       "      <td>3800.000000</td>\n",
       "    </tr>\n",
       "    <tr>\n",
       "      <th>2</th>\n",
       "      <td>0</td>\n",
       "      <td>2</td>\n",
       "      <td>40.30000</td>\n",
       "      <td>18.00000</td>\n",
       "      <td>195.000000</td>\n",
       "      <td>3250.000000</td>\n",
       "    </tr>\n",
       "    <tr>\n",
       "      <th>3</th>\n",
       "      <td>0</td>\n",
       "      <td>2</td>\n",
       "      <td>43.92193</td>\n",
       "      <td>17.15117</td>\n",
       "      <td>200.915205</td>\n",
       "      <td>4201.754386</td>\n",
       "    </tr>\n",
       "    <tr>\n",
       "      <th>4</th>\n",
       "      <td>0</td>\n",
       "      <td>2</td>\n",
       "      <td>36.70000</td>\n",
       "      <td>19.30000</td>\n",
       "      <td>193.000000</td>\n",
       "      <td>3450.000000</td>\n",
       "    </tr>\n",
       "    <tr>\n",
       "      <th>...</th>\n",
       "      <td>...</td>\n",
       "      <td>...</td>\n",
       "      <td>...</td>\n",
       "      <td>...</td>\n",
       "      <td>...</td>\n",
       "      <td>...</td>\n",
       "    </tr>\n",
       "    <tr>\n",
       "      <th>339</th>\n",
       "      <td>2</td>\n",
       "      <td>0</td>\n",
       "      <td>43.92193</td>\n",
       "      <td>17.15117</td>\n",
       "      <td>200.915205</td>\n",
       "      <td>4201.754386</td>\n",
       "    </tr>\n",
       "    <tr>\n",
       "      <th>340</th>\n",
       "      <td>2</td>\n",
       "      <td>0</td>\n",
       "      <td>46.80000</td>\n",
       "      <td>14.30000</td>\n",
       "      <td>215.000000</td>\n",
       "      <td>4850.000000</td>\n",
       "    </tr>\n",
       "    <tr>\n",
       "      <th>341</th>\n",
       "      <td>2</td>\n",
       "      <td>0</td>\n",
       "      <td>50.40000</td>\n",
       "      <td>15.70000</td>\n",
       "      <td>222.000000</td>\n",
       "      <td>5750.000000</td>\n",
       "    </tr>\n",
       "    <tr>\n",
       "      <th>342</th>\n",
       "      <td>2</td>\n",
       "      <td>0</td>\n",
       "      <td>45.20000</td>\n",
       "      <td>14.80000</td>\n",
       "      <td>212.000000</td>\n",
       "      <td>5200.000000</td>\n",
       "    </tr>\n",
       "    <tr>\n",
       "      <th>343</th>\n",
       "      <td>2</td>\n",
       "      <td>0</td>\n",
       "      <td>49.90000</td>\n",
       "      <td>16.10000</td>\n",
       "      <td>213.000000</td>\n",
       "      <td>5400.000000</td>\n",
       "    </tr>\n",
       "  </tbody>\n",
       "</table>\n",
       "<p>344 rows × 6 columns</p>\n",
       "</div>"
      ],
      "text/plain": [
       "     species  island  bill_length_mm  bill_depth_mm  flipper_length_mm  \\\n",
       "0          0       2        39.10000       18.70000         181.000000   \n",
       "1          0       2        39.50000       17.40000         186.000000   \n",
       "2          0       2        40.30000       18.00000         195.000000   \n",
       "3          0       2        43.92193       17.15117         200.915205   \n",
       "4          0       2        36.70000       19.30000         193.000000   \n",
       "..       ...     ...             ...            ...                ...   \n",
       "339        2       0        43.92193       17.15117         200.915205   \n",
       "340        2       0        46.80000       14.30000         215.000000   \n",
       "341        2       0        50.40000       15.70000         222.000000   \n",
       "342        2       0        45.20000       14.80000         212.000000   \n",
       "343        2       0        49.90000       16.10000         213.000000   \n",
       "\n",
       "     body_mass_g  \n",
       "0    3750.000000  \n",
       "1    3800.000000  \n",
       "2    3250.000000  \n",
       "3    4201.754386  \n",
       "4    3450.000000  \n",
       "..           ...  \n",
       "339  4201.754386  \n",
       "340  4850.000000  \n",
       "341  5750.000000  \n",
       "342  5200.000000  \n",
       "343  5400.000000  \n",
       "\n",
       "[344 rows x 6 columns]"
      ]
     },
     "execution_count": 188,
     "metadata": {},
     "output_type": "execute_result"
    }
   ],
   "source": [
    "data_remake"
   ]
  },
  {
   "cell_type": "code",
   "execution_count": 189,
   "id": "2e117dbb",
   "metadata": {},
   "outputs": [],
   "source": [
    "pd.to_pickle(data_remake, \"cleaned_df.pkl\")"
   ]
  },
  {
   "cell_type": "code",
   "execution_count": 187,
   "id": "7c59a44e",
   "metadata": {},
   "outputs": [],
   "source": [
    "data_remake.to_pickle(\"cleaned_penguin1\")"
   ]
  },
  {
   "cell_type": "markdown",
   "id": "30a2c0c4",
   "metadata": {},
   "source": [
    "# **kwargs 🔥🚀"
   ]
  },
  {
   "cell_type": "code",
   "execution_count": 159,
   "id": "fa2e70db",
   "metadata": {},
   "outputs": [],
   "source": [
    "from sklearn.linear_model import LinearRegression\n",
    "from sklearn.preprocessing import StandardScaler\n",
    "from sklearn.decomposition import PCA\n",
    "from sklearn.pipeline import Pipeline\n",
    "from sklearn.model_selection import KFold, RepeatedKFold\n",
    "from sklearn.metrics import mean_squared_error, r2_score\n",
    "\n",
    "X = data_remake.drop(columns=[\"body_mass_g\"], axis=1).values\n",
    "y = data_remake[\"body_mass_g\"].values"
   ]
  },
  {
   "cell_type": "code",
   "execution_count": 160,
   "id": "6c9f19b8",
   "metadata": {},
   "outputs": [
    {
     "name": "stdout",
     "output_type": "stream",
     "text": [
      "(344, 1)\n",
      "(344, 5)\n"
     ]
    }
   ],
   "source": [
    "print(y.reshape(-1,1).shape)\n",
    "print(X.shape)"
   ]
  },
  {
   "cell_type": "code",
   "execution_count": null,
   "id": "2f3cc0ca",
   "metadata": {},
   "outputs": [],
   "source": [
    "def pipe_function(X, y,**kwargs):\n",
    "    \n",
    "    pipe = Pipeline([(\"scaler\", StandardScaler()),\n",
    "                     (\"linear_reg\", LinearRegression())])\n",
    "    \n",
    "    pipe.fit(X,y)\n",
    "    \n",
    "    y_predict = pipe.predict(X)\n",
    "    \n",
    "    mse = mean_squared_error(y, y_predict)\n",
    "    r2 = r2_score(y, y_predict)\n",
    "    \n",
    "    metrics = {\n",
    "                \"MSE\": round(mse, 3),\n",
    "                \"R2\" : round(r2, 3)\n",
    "                }\n",
    "    \n",
    "    return metrics"
   ]
  },
  {
   "cell_type": "code",
   "execution_count": 185,
   "id": "10ac1c83",
   "metadata": {},
   "outputs": [
    {
     "data": {
      "text/plain": [
       "{'MSE': 144837.658, 'R2': 0.773}"
      ]
     },
     "execution_count": 185,
     "metadata": {},
     "output_type": "execute_result"
    }
   ],
   "source": [
    "y_new = y.reshape(-1,1)\n",
    "pipe_function(X,y_new, fit_intercept=False, normalize=True)"
   ]
  }
 ],
 "metadata": {
  "kernelspec": {
   "display_name": ".venv",
   "language": "python",
   "name": "python3"
  },
  "language_info": {
   "codemirror_mode": {
    "name": "ipython",
    "version": 3
   },
   "file_extension": ".py",
   "mimetype": "text/x-python",
   "name": "python",
   "nbconvert_exporter": "python",
   "pygments_lexer": "ipython3",
   "version": "3.11.9"
  }
 },
 "nbformat": 4,
 "nbformat_minor": 5
}
