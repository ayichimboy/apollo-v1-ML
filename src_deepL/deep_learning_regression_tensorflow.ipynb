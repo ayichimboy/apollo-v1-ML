{
 "cells": [
  {
   "cell_type": "code",
   "execution_count": 1,
   "id": "eff02217",
   "metadata": {},
   "outputs": [],
   "source": [
    "# Load Libraries \n",
    "import pandas as pd                 \n",
    "import numpy as np                   \n",
    "import seaborn as sns                \n",
    "import matplotlib.pyplot as plt   \n",
    "\n",
    "from sklearn.preprocessing import StandardScaler\n",
    "from sklearn.model_selection import train_test_split\n",
    "         \n",
    "import tensorflow as tf              "
   ]
  },
  {
   "cell_type": "code",
   "execution_count": 9,
   "id": "37f63ef3",
   "metadata": {},
   "outputs": [
    {
     "name": "stdout",
     "output_type": "stream",
     "text": [
      "<class 'pandas.core.frame.DataFrame'>\n",
      "RangeIndex: 398 entries, 0 to 397\n",
      "Data columns (total 9 columns):\n",
      " #   Column        Non-Null Count  Dtype  \n",
      "---  ------        --------------  -----  \n",
      " 0   mpg           398 non-null    float64\n",
      " 1   cylinders     398 non-null    int64  \n",
      " 2   displacement  398 non-null    float64\n",
      " 3   horsepower    398 non-null    object \n",
      " 4   weight        398 non-null    int64  \n",
      " 5   acceleration  398 non-null    float64\n",
      " 6   model year    398 non-null    int64  \n",
      " 7   origin        398 non-null    int64  \n",
      " 8   car name      398 non-null    object \n",
      "dtypes: float64(3), int64(4), object(2)\n",
      "memory usage: 28.1+ KB\n"
     ]
    }
   ],
   "source": [
    "# Load the AUTO-MPG DATA AND CLEAN\n",
    "data = pd.read_csv(\"auto-mpg.csv\")\n",
    "data.info()"
   ]
  },
  {
   "cell_type": "code",
   "execution_count": 12,
   "id": "c2c4bb67",
   "metadata": {},
   "outputs": [],
   "source": [
    "data.columns = data.columns.str.strip().str.lower()\n",
    "data.columns = data.columns.str.replace(\" \", \"_\")"
   ]
  },
  {
   "cell_type": "code",
   "execution_count": 13,
   "id": "cbcbc634",
   "metadata": {},
   "outputs": [
    {
     "data": {
      "text/plain": [
       "Index(['mpg', 'cylinders', 'displacement', 'horsepower', 'weight',\n",
       "       'acceleration', 'model_year', 'origin', 'car_name'],\n",
       "      dtype='object')"
      ]
     },
     "execution_count": 13,
     "metadata": {},
     "output_type": "execute_result"
    }
   ],
   "source": [
    "data.columns"
   ]
  },
  {
   "cell_type": "code",
   "execution_count": 15,
   "id": "ef7ff410",
   "metadata": {},
   "outputs": [
    {
     "data": {
      "application/vnd.microsoft.datawrangler.viewer.v0+json": {
       "columns": [
        {
         "name": "index",
         "rawType": "object",
         "type": "string"
        },
        {
         "name": "0",
         "rawType": "int64",
         "type": "integer"
        }
       ],
       "ref": "a533ecc2-f469-45a2-b9a2-eabde3280a9d",
       "rows": [
        [
         "mpg",
         "0"
        ],
        [
         "cylinders",
         "0"
        ],
        [
         "displacement",
         "0"
        ],
        [
         "horsepower",
         "0"
        ],
        [
         "weight",
         "0"
        ],
        [
         "acceleration",
         "0"
        ],
        [
         "model_year",
         "0"
        ],
        [
         "origin",
         "0"
        ],
        [
         "car_name",
         "0"
        ]
       ],
       "shape": {
        "columns": 1,
        "rows": 9
       }
      },
      "text/plain": [
       "mpg             0\n",
       "cylinders       0\n",
       "displacement    0\n",
       "horsepower      0\n",
       "weight          0\n",
       "acceleration    0\n",
       "model_year      0\n",
       "origin          0\n",
       "car_name        0\n",
       "dtype: int64"
      ]
     },
     "execution_count": 15,
     "metadata": {},
     "output_type": "execute_result"
    }
   ],
   "source": [
    "data.isnull().sum()"
   ]
  },
  {
   "cell_type": "code",
   "execution_count": 20,
   "id": "dfcdd896",
   "metadata": {},
   "outputs": [
    {
     "data": {
      "application/vnd.microsoft.datawrangler.viewer.v0+json": {
       "columns": [
        {
         "name": "index",
         "rawType": "object",
         "type": "string"
        },
        {
         "name": "mean",
         "rawType": "float64",
         "type": "float"
        },
        {
         "name": "std",
         "rawType": "float64",
         "type": "float"
        }
       ],
       "ref": "d1e5d2ec-cdb2-4856-aef2-7581c3a68ad1",
       "rows": [
        [
         "mpg",
         "23.514572864321607",
         "7.815984312565782"
        ],
        [
         "cylinders",
         "5.454773869346734",
         "1.7010042445332119"
        ],
        [
         "displacement",
         "193.42587939698493",
         "104.26983817119591"
        ],
        [
         "weight",
         "2970.424623115578",
         "846.8417741973268"
        ],
        [
         "acceleration",
         "15.568090452261307",
         "2.757688929812676"
        ],
        [
         "model_year",
         "76.01005025125629",
         "3.697626646732623"
        ],
        [
         "origin",
         "1.5728643216080402",
         "0.8020548777266148"
        ]
       ],
       "shape": {
        "columns": 2,
        "rows": 7
       }
      },
      "text/html": [
       "<div>\n",
       "<style scoped>\n",
       "    .dataframe tbody tr th:only-of-type {\n",
       "        vertical-align: middle;\n",
       "    }\n",
       "\n",
       "    .dataframe tbody tr th {\n",
       "        vertical-align: top;\n",
       "    }\n",
       "\n",
       "    .dataframe thead th {\n",
       "        text-align: right;\n",
       "    }\n",
       "</style>\n",
       "<table border=\"1\" class=\"dataframe\">\n",
       "  <thead>\n",
       "    <tr style=\"text-align: right;\">\n",
       "      <th></th>\n",
       "      <th>mean</th>\n",
       "      <th>std</th>\n",
       "    </tr>\n",
       "  </thead>\n",
       "  <tbody>\n",
       "    <tr>\n",
       "      <th>mpg</th>\n",
       "      <td>23.514573</td>\n",
       "      <td>7.815984</td>\n",
       "    </tr>\n",
       "    <tr>\n",
       "      <th>cylinders</th>\n",
       "      <td>5.454774</td>\n",
       "      <td>1.701004</td>\n",
       "    </tr>\n",
       "    <tr>\n",
       "      <th>displacement</th>\n",
       "      <td>193.425879</td>\n",
       "      <td>104.269838</td>\n",
       "    </tr>\n",
       "    <tr>\n",
       "      <th>weight</th>\n",
       "      <td>2970.424623</td>\n",
       "      <td>846.841774</td>\n",
       "    </tr>\n",
       "    <tr>\n",
       "      <th>acceleration</th>\n",
       "      <td>15.568090</td>\n",
       "      <td>2.757689</td>\n",
       "    </tr>\n",
       "    <tr>\n",
       "      <th>model_year</th>\n",
       "      <td>76.010050</td>\n",
       "      <td>3.697627</td>\n",
       "    </tr>\n",
       "    <tr>\n",
       "      <th>origin</th>\n",
       "      <td>1.572864</td>\n",
       "      <td>0.802055</td>\n",
       "    </tr>\n",
       "  </tbody>\n",
       "</table>\n",
       "</div>"
      ],
      "text/plain": [
       "                     mean         std\n",
       "mpg             23.514573    7.815984\n",
       "cylinders        5.454774    1.701004\n",
       "displacement   193.425879  104.269838\n",
       "weight        2970.424623  846.841774\n",
       "acceleration    15.568090    2.757689\n",
       "model_year      76.010050    3.697627\n",
       "origin           1.572864    0.802055"
      ]
     },
     "execution_count": 20,
     "metadata": {},
     "output_type": "execute_result"
    }
   ],
   "source": [
    "data_dsc = data.describe().T\n",
    "data_dsc.iloc[:,1:3]"
   ]
  },
  {
   "cell_type": "code",
   "execution_count": 22,
   "id": "49d8810d",
   "metadata": {},
   "outputs": [
    {
     "data": {
      "application/vnd.microsoft.datawrangler.viewer.v0+json": {
       "columns": [
        {
         "name": "index",
         "rawType": "int64",
         "type": "integer"
        },
        {
         "name": "mpg",
         "rawType": "float64",
         "type": "float"
        },
        {
         "name": "cylinders",
         "rawType": "int64",
         "type": "integer"
        },
        {
         "name": "displacement",
         "rawType": "float64",
         "type": "float"
        },
        {
         "name": "horsepower",
         "rawType": "object",
         "type": "string"
        },
        {
         "name": "weight",
         "rawType": "int64",
         "type": "integer"
        },
        {
         "name": "acceleration",
         "rawType": "float64",
         "type": "float"
        },
        {
         "name": "model_year",
         "rawType": "int64",
         "type": "integer"
        },
        {
         "name": "origin",
         "rawType": "int64",
         "type": "integer"
        },
        {
         "name": "car_name",
         "rawType": "object",
         "type": "string"
        }
       ],
       "ref": "06ebe301-3ed9-4534-839e-bcd50c8fa37f",
       "rows": [
        [
         "0",
         "18.0",
         "8",
         "307.0",
         "130",
         "3504",
         "12.0",
         "70",
         "1",
         "chevrolet chevelle malibu"
        ],
        [
         "1",
         "15.0",
         "8",
         "350.0",
         "165",
         "3693",
         "11.5",
         "70",
         "1",
         "buick skylark 320"
        ],
        [
         "2",
         "18.0",
         "8",
         "318.0",
         "150",
         "3436",
         "11.0",
         "70",
         "1",
         "plymouth satellite"
        ],
        [
         "3",
         "16.0",
         "8",
         "304.0",
         "150",
         "3433",
         "12.0",
         "70",
         "1",
         "amc rebel sst"
        ],
        [
         "4",
         "17.0",
         "8",
         "302.0",
         "140",
         "3449",
         "10.5",
         "70",
         "1",
         "ford torino"
        ]
       ],
       "shape": {
        "columns": 9,
        "rows": 5
       }
      },
      "text/html": [
       "<div>\n",
       "<style scoped>\n",
       "    .dataframe tbody tr th:only-of-type {\n",
       "        vertical-align: middle;\n",
       "    }\n",
       "\n",
       "    .dataframe tbody tr th {\n",
       "        vertical-align: top;\n",
       "    }\n",
       "\n",
       "    .dataframe thead th {\n",
       "        text-align: right;\n",
       "    }\n",
       "</style>\n",
       "<table border=\"1\" class=\"dataframe\">\n",
       "  <thead>\n",
       "    <tr style=\"text-align: right;\">\n",
       "      <th></th>\n",
       "      <th>mpg</th>\n",
       "      <th>cylinders</th>\n",
       "      <th>displacement</th>\n",
       "      <th>horsepower</th>\n",
       "      <th>weight</th>\n",
       "      <th>acceleration</th>\n",
       "      <th>model_year</th>\n",
       "      <th>origin</th>\n",
       "      <th>car_name</th>\n",
       "    </tr>\n",
       "  </thead>\n",
       "  <tbody>\n",
       "    <tr>\n",
       "      <th>0</th>\n",
       "      <td>18.0</td>\n",
       "      <td>8</td>\n",
       "      <td>307.0</td>\n",
       "      <td>130</td>\n",
       "      <td>3504</td>\n",
       "      <td>12.0</td>\n",
       "      <td>70</td>\n",
       "      <td>1</td>\n",
       "      <td>chevrolet chevelle malibu</td>\n",
       "    </tr>\n",
       "    <tr>\n",
       "      <th>1</th>\n",
       "      <td>15.0</td>\n",
       "      <td>8</td>\n",
       "      <td>350.0</td>\n",
       "      <td>165</td>\n",
       "      <td>3693</td>\n",
       "      <td>11.5</td>\n",
       "      <td>70</td>\n",
       "      <td>1</td>\n",
       "      <td>buick skylark 320</td>\n",
       "    </tr>\n",
       "    <tr>\n",
       "      <th>2</th>\n",
       "      <td>18.0</td>\n",
       "      <td>8</td>\n",
       "      <td>318.0</td>\n",
       "      <td>150</td>\n",
       "      <td>3436</td>\n",
       "      <td>11.0</td>\n",
       "      <td>70</td>\n",
       "      <td>1</td>\n",
       "      <td>plymouth satellite</td>\n",
       "    </tr>\n",
       "    <tr>\n",
       "      <th>3</th>\n",
       "      <td>16.0</td>\n",
       "      <td>8</td>\n",
       "      <td>304.0</td>\n",
       "      <td>150</td>\n",
       "      <td>3433</td>\n",
       "      <td>12.0</td>\n",
       "      <td>70</td>\n",
       "      <td>1</td>\n",
       "      <td>amc rebel sst</td>\n",
       "    </tr>\n",
       "    <tr>\n",
       "      <th>4</th>\n",
       "      <td>17.0</td>\n",
       "      <td>8</td>\n",
       "      <td>302.0</td>\n",
       "      <td>140</td>\n",
       "      <td>3449</td>\n",
       "      <td>10.5</td>\n",
       "      <td>70</td>\n",
       "      <td>1</td>\n",
       "      <td>ford torino</td>\n",
       "    </tr>\n",
       "  </tbody>\n",
       "</table>\n",
       "</div>"
      ],
      "text/plain": [
       "    mpg  cylinders  displacement horsepower  weight  acceleration  model_year  \\\n",
       "0  18.0          8         307.0        130    3504          12.0          70   \n",
       "1  15.0          8         350.0        165    3693          11.5          70   \n",
       "2  18.0          8         318.0        150    3436          11.0          70   \n",
       "3  16.0          8         304.0        150    3433          12.0          70   \n",
       "4  17.0          8         302.0        140    3449          10.5          70   \n",
       "\n",
       "   origin                   car_name  \n",
       "0       1  chevrolet chevelle malibu  \n",
       "1       1          buick skylark 320  \n",
       "2       1         plymouth satellite  \n",
       "3       1              amc rebel sst  \n",
       "4       1                ford torino  "
      ]
     },
     "execution_count": 22,
     "metadata": {},
     "output_type": "execute_result"
    }
   ],
   "source": [
    "data.head()"
   ]
  },
  {
   "cell_type": "code",
   "execution_count": 29,
   "id": "a10e2cbc",
   "metadata": {},
   "outputs": [
    {
     "data": {
      "text/plain": [
       "numpy.float64"
      ]
     },
     "execution_count": 29,
     "metadata": {},
     "output_type": "execute_result"
    }
   ],
   "source": [
    "type(data[\"acceleration\"][0])"
   ]
  },
  {
   "cell_type": "code",
   "execution_count": 30,
   "id": "cc10efe3",
   "metadata": {},
   "outputs": [
    {
     "data": {
      "text/plain": [
       "dtype('float64')"
      ]
     },
     "execution_count": 30,
     "metadata": {},
     "output_type": "execute_result"
    }
   ],
   "source": [
    "data[\"acceleration\"][0].dtype"
   ]
  },
  {
   "cell_type": "code",
   "execution_count": 40,
   "id": "c3159525",
   "metadata": {},
   "outputs": [
    {
     "data": {
      "application/vnd.microsoft.datawrangler.viewer.v0+json": {
       "columns": [
        {
         "name": "index",
         "rawType": "int64",
         "type": "integer"
        },
        {
         "name": "mpg",
         "rawType": "float64",
         "type": "float"
        },
        {
         "name": "cylinders",
         "rawType": "int64",
         "type": "integer"
        },
        {
         "name": "displacement",
         "rawType": "float64",
         "type": "float"
        },
        {
         "name": "horsepower",
         "rawType": "object",
         "type": "string"
        },
        {
         "name": "weight",
         "rawType": "int64",
         "type": "integer"
        },
        {
         "name": "acceleration",
         "rawType": "float64",
         "type": "float"
        },
        {
         "name": "model_year",
         "rawType": "int64",
         "type": "integer"
        },
        {
         "name": "origin",
         "rawType": "int64",
         "type": "integer"
        },
        {
         "name": "car_name",
         "rawType": "object",
         "type": "string"
        }
       ],
       "ref": "9ddeacef-9cae-4dbc-a51e-2b9ea9992304",
       "rows": [],
       "shape": {
        "columns": 9,
        "rows": 0
       }
      },
      "text/html": [
       "<div>\n",
       "<style scoped>\n",
       "    .dataframe tbody tr th:only-of-type {\n",
       "        vertical-align: middle;\n",
       "    }\n",
       "\n",
       "    .dataframe tbody tr th {\n",
       "        vertical-align: top;\n",
       "    }\n",
       "\n",
       "    .dataframe thead th {\n",
       "        text-align: right;\n",
       "    }\n",
       "</style>\n",
       "<table border=\"1\" class=\"dataframe\">\n",
       "  <thead>\n",
       "    <tr style=\"text-align: right;\">\n",
       "      <th></th>\n",
       "      <th>mpg</th>\n",
       "      <th>cylinders</th>\n",
       "      <th>displacement</th>\n",
       "      <th>horsepower</th>\n",
       "      <th>weight</th>\n",
       "      <th>acceleration</th>\n",
       "      <th>model_year</th>\n",
       "      <th>origin</th>\n",
       "      <th>car_name</th>\n",
       "    </tr>\n",
       "  </thead>\n",
       "  <tbody>\n",
       "  </tbody>\n",
       "</table>\n",
       "</div>"
      ],
      "text/plain": [
       "Empty DataFrame\n",
       "Columns: [mpg, cylinders, displacement, horsepower, weight, acceleration, model_year, origin, car_name]\n",
       "Index: []"
      ]
     },
     "execution_count": 40,
     "metadata": {},
     "output_type": "execute_result"
    }
   ],
   "source": [
    "data[~data.apply(np.isreal).all(1)]"
   ]
  },
  {
   "cell_type": "code",
   "execution_count": 36,
   "id": "f93bbf96",
   "metadata": {},
   "outputs": [
    {
     "name": "stdout",
     "output_type": "stream",
     "text": [
      "12.0\n",
      "11.5\n",
      "11.0\n",
      "12.0\n",
      "10.5\n",
      "10.0\n",
      "9.0\n",
      "8.5\n",
      "10.0\n",
      "8.5\n",
      "10.0\n",
      "8.0\n",
      "9.5\n",
      "10.0\n",
      "15.0\n",
      "15.5\n",
      "15.5\n",
      "16.0\n",
      "14.5\n",
      "20.5\n",
      "17.5\n",
      "14.5\n",
      "17.5\n",
      "12.5\n",
      "15.0\n",
      "14.0\n",
      "15.0\n",
      "13.5\n",
      "18.5\n",
      "14.5\n",
      "15.5\n",
      "14.0\n",
      "19.0\n",
      "13.0\n",
      "15.5\n",
      "15.5\n",
      "15.5\n",
      "15.5\n",
      "12.0\n",
      "11.5\n",
      "13.5\n",
      "13.0\n",
      "11.5\n",
      "12.0\n",
      "12.0\n",
      "13.5\n",
      "19.0\n",
      "15.0\n",
      "14.5\n",
      "14.0\n",
      "14.0\n",
      "19.5\n",
      "14.5\n",
      "19.0\n",
      "18.0\n",
      "19.0\n",
      "20.5\n",
      "15.5\n",
      "17.0\n",
      "23.5\n",
      "19.5\n",
      "16.5\n",
      "12.0\n",
      "12.0\n",
      "13.5\n",
      "13.0\n",
      "11.5\n",
      "11.0\n",
      "13.5\n",
      "13.5\n",
      "12.5\n",
      "13.5\n",
      "12.5\n",
      "14.0\n",
      "16.0\n",
      "14.0\n",
      "14.5\n",
      "18.0\n",
      "19.5\n",
      "18.0\n",
      "16.0\n",
      "17.0\n",
      "14.5\n",
      "15.0\n",
      "16.5\n",
      "13.0\n",
      "11.5\n",
      "13.0\n",
      "14.5\n",
      "12.5\n",
      "11.5\n",
      "12.0\n",
      "13.0\n",
      "14.5\n",
      "11.0\n",
      "11.0\n",
      "11.0\n",
      "16.5\n",
      "18.0\n",
      "16.0\n",
      "16.5\n",
      "16.0\n",
      "21.0\n",
      "14.0\n",
      "12.5\n",
      "13.0\n",
      "12.5\n",
      "15.0\n",
      "19.0\n",
      "19.5\n",
      "16.5\n",
      "13.5\n",
      "18.5\n",
      "14.0\n",
      "15.5\n",
      "13.0\n",
      "9.5\n",
      "19.5\n",
      "15.5\n",
      "14.0\n",
      "15.5\n",
      "11.0\n",
      "14.0\n",
      "13.5\n",
      "11.0\n",
      "16.5\n",
      "17.0\n",
      "16.0\n",
      "17.0\n",
      "19.0\n",
      "16.5\n",
      "21.0\n",
      "17.0\n",
      "17.0\n",
      "18.0\n",
      "16.5\n",
      "14.0\n",
      "14.5\n",
      "13.5\n",
      "16.0\n",
      "15.5\n",
      "16.5\n",
      "15.5\n",
      "14.5\n",
      "16.5\n",
      "19.0\n",
      "14.5\n",
      "15.5\n",
      "14.0\n",
      "15.0\n",
      "15.5\n",
      "16.0\n",
      "16.0\n",
      "16.0\n",
      "21.0\n",
      "19.5\n",
      "11.5\n",
      "14.0\n",
      "14.5\n",
      "13.5\n",
      "21.0\n",
      "18.5\n",
      "19.0\n",
      "19.0\n",
      "15.0\n",
      "13.5\n",
      "12.0\n",
      "16.0\n",
      "17.0\n",
      "16.0\n",
      "18.5\n",
      "13.5\n",
      "16.5\n",
      "17.0\n",
      "14.5\n",
      "14.0\n",
      "17.0\n",
      "15.0\n",
      "17.0\n",
      "14.5\n",
      "13.5\n",
      "17.5\n",
      "15.5\n",
      "16.9\n",
      "14.9\n",
      "17.7\n",
      "15.3\n",
      "13.0\n",
      "13.0\n",
      "13.9\n",
      "12.8\n",
      "15.4\n",
      "14.5\n",
      "17.6\n",
      "17.6\n",
      "22.2\n",
      "22.1\n",
      "14.2\n",
      "17.4\n",
      "17.7\n",
      "21.0\n",
      "16.2\n",
      "17.8\n",
      "12.2\n",
      "17.0\n",
      "16.4\n",
      "13.6\n",
      "15.7\n",
      "13.2\n",
      "21.9\n",
      "15.5\n",
      "16.7\n",
      "12.1\n",
      "12.0\n",
      "15.0\n",
      "14.0\n",
      "18.5\n",
      "14.8\n",
      "18.6\n",
      "15.5\n",
      "16.8\n",
      "12.5\n",
      "19.0\n",
      "13.7\n",
      "14.9\n",
      "16.4\n",
      "16.9\n",
      "17.7\n",
      "19.0\n",
      "11.1\n",
      "11.4\n",
      "12.2\n",
      "14.5\n",
      "14.5\n",
      "16.0\n",
      "18.2\n",
      "15.8\n",
      "17.0\n",
      "15.9\n",
      "16.4\n",
      "14.1\n",
      "14.5\n",
      "12.8\n",
      "13.5\n",
      "21.5\n",
      "14.4\n",
      "19.4\n",
      "18.6\n",
      "16.4\n",
      "15.5\n",
      "13.2\n",
      "12.8\n",
      "19.2\n",
      "18.2\n",
      "15.8\n",
      "15.4\n",
      "17.2\n",
      "17.2\n",
      "15.8\n",
      "16.7\n",
      "18.7\n",
      "15.1\n",
      "13.2\n",
      "13.4\n",
      "11.2\n",
      "13.7\n",
      "16.5\n",
      "14.2\n",
      "14.7\n",
      "14.5\n",
      "14.8\n",
      "16.7\n",
      "17.6\n",
      "14.9\n",
      "15.9\n",
      "13.6\n",
      "15.7\n",
      "15.8\n",
      "14.9\n",
      "16.6\n",
      "15.4\n",
      "18.2\n",
      "17.3\n",
      "18.2\n",
      "16.6\n",
      "15.4\n",
      "13.4\n",
      "13.2\n",
      "15.2\n",
      "14.9\n",
      "14.3\n",
      "15.0\n",
      "13.0\n",
      "14.0\n",
      "15.2\n",
      "14.4\n",
      "15.0\n",
      "20.1\n",
      "17.4\n",
      "24.8\n",
      "22.2\n",
      "13.2\n",
      "14.9\n",
      "19.2\n",
      "14.7\n",
      "16.0\n",
      "11.3\n",
      "12.9\n",
      "13.2\n",
      "14.7\n",
      "18.8\n",
      "15.5\n",
      "16.4\n",
      "16.5\n",
      "18.1\n",
      "20.1\n",
      "18.7\n",
      "15.8\n",
      "15.5\n",
      "17.5\n",
      "15.0\n",
      "15.2\n",
      "17.9\n",
      "14.4\n",
      "19.2\n",
      "21.7\n",
      "23.7\n",
      "19.9\n",
      "21.8\n",
      "13.8\n",
      "17.3\n",
      "18.0\n",
      "15.3\n",
      "11.4\n",
      "12.5\n",
      "15.1\n",
      "14.3\n",
      "17.0\n",
      "15.7\n",
      "16.4\n",
      "14.4\n",
      "12.6\n",
      "12.9\n",
      "16.9\n",
      "16.4\n",
      "16.1\n",
      "17.8\n",
      "19.4\n",
      "17.3\n",
      "16.0\n",
      "14.9\n",
      "16.2\n",
      "20.7\n",
      "14.2\n",
      "15.8\n",
      "14.4\n",
      "16.8\n",
      "14.8\n",
      "18.3\n",
      "20.4\n",
      "19.6\n",
      "12.6\n",
      "13.8\n",
      "15.8\n",
      "19.0\n",
      "17.1\n",
      "16.6\n",
      "19.6\n",
      "18.6\n",
      "18.0\n",
      "16.2\n",
      "16.0\n",
      "18.0\n",
      "16.4\n",
      "20.5\n",
      "15.3\n",
      "18.2\n",
      "17.6\n",
      "14.7\n",
      "17.3\n",
      "14.5\n",
      "14.5\n",
      "16.9\n",
      "15.0\n",
      "15.7\n",
      "16.2\n",
      "16.4\n",
      "17.0\n",
      "14.5\n",
      "14.7\n",
      "13.9\n",
      "13.0\n",
      "17.3\n",
      "15.6\n",
      "24.6\n",
      "11.6\n",
      "18.6\n",
      "19.4\n"
     ]
    }
   ],
   "source": [
    "for (index,row) in data[\"acceleration\"].items():\n",
    "    # print(type(row))\n",
    "    if type(row) != \"float64\":\n",
    "        print(row)"
   ]
  },
  {
   "cell_type": "code",
   "execution_count": 47,
   "id": "085c0b24",
   "metadata": {},
   "outputs": [],
   "source": [
    "data = data.replace(\"?\", \"NAN\")"
   ]
  },
  {
   "cell_type": "code",
   "execution_count": 48,
   "id": "dc947972",
   "metadata": {},
   "outputs": [
    {
     "data": {
      "application/vnd.microsoft.datawrangler.viewer.v0+json": {
       "columns": [
        {
         "name": "index",
         "rawType": "object",
         "type": "string"
        },
        {
         "name": "0",
         "rawType": "int64",
         "type": "integer"
        }
       ],
       "ref": "05be3ac2-0a72-4ff2-bcb0-f635735797bd",
       "rows": [
        [
         "mpg",
         "0"
        ],
        [
         "cylinders",
         "0"
        ],
        [
         "displacement",
         "0"
        ],
        [
         "horsepower",
         "0"
        ],
        [
         "weight",
         "0"
        ],
        [
         "acceleration",
         "0"
        ],
        [
         "model_year",
         "0"
        ],
        [
         "origin",
         "0"
        ],
        [
         "car_name",
         "0"
        ]
       ],
       "shape": {
        "columns": 1,
        "rows": 9
       }
      },
      "text/plain": [
       "mpg             0\n",
       "cylinders       0\n",
       "displacement    0\n",
       "horsepower      0\n",
       "weight          0\n",
       "acceleration    0\n",
       "model_year      0\n",
       "origin          0\n",
       "car_name        0\n",
       "dtype: int64"
      ]
     },
     "execution_count": 48,
     "metadata": {},
     "output_type": "execute_result"
    }
   ],
   "source": [
    "data.isnull().sum()"
   ]
  },
  {
   "cell_type": "code",
   "execution_count": 49,
   "id": "3b02b54a",
   "metadata": {},
   "outputs": [
    {
     "data": {
      "application/vnd.microsoft.datawrangler.viewer.v0+json": {
       "columns": [
        {
         "name": "index",
         "rawType": "int64",
         "type": "integer"
        },
        {
         "name": "mpg",
         "rawType": "float64",
         "type": "float"
        },
        {
         "name": "cylinders",
         "rawType": "int64",
         "type": "integer"
        },
        {
         "name": "displacement",
         "rawType": "float64",
         "type": "float"
        },
        {
         "name": "horsepower",
         "rawType": "object",
         "type": "string"
        },
        {
         "name": "weight",
         "rawType": "int64",
         "type": "integer"
        },
        {
         "name": "acceleration",
         "rawType": "float64",
         "type": "float"
        },
        {
         "name": "model_year",
         "rawType": "int64",
         "type": "integer"
        },
        {
         "name": "origin",
         "rawType": "int64",
         "type": "integer"
        }
       ],
       "ref": "48d8154f-cf34-4a45-8dda-311e31ba90c5",
       "rows": [
        [
         "0",
         "18.0",
         "8",
         "307.0",
         "130",
         "3504",
         "12.0",
         "70",
         "1"
        ],
        [
         "1",
         "15.0",
         "8",
         "350.0",
         "165",
         "3693",
         "11.5",
         "70",
         "1"
        ],
        [
         "2",
         "18.0",
         "8",
         "318.0",
         "150",
         "3436",
         "11.0",
         "70",
         "1"
        ],
        [
         "3",
         "16.0",
         "8",
         "304.0",
         "150",
         "3433",
         "12.0",
         "70",
         "1"
        ],
        [
         "4",
         "17.0",
         "8",
         "302.0",
         "140",
         "3449",
         "10.5",
         "70",
         "1"
        ],
        [
         "5",
         "15.0",
         "8",
         "429.0",
         "198",
         "4341",
         "10.0",
         "70",
         "1"
        ],
        [
         "6",
         "14.0",
         "8",
         "454.0",
         "220",
         "4354",
         "9.0",
         "70",
         "1"
        ],
        [
         "7",
         "14.0",
         "8",
         "440.0",
         "215",
         "4312",
         "8.5",
         "70",
         "1"
        ],
        [
         "8",
         "14.0",
         "8",
         "455.0",
         "225",
         "4425",
         "10.0",
         "70",
         "1"
        ],
        [
         "9",
         "15.0",
         "8",
         "390.0",
         "190",
         "3850",
         "8.5",
         "70",
         "1"
        ],
        [
         "10",
         "15.0",
         "8",
         "383.0",
         "170",
         "3563",
         "10.0",
         "70",
         "1"
        ],
        [
         "11",
         "14.0",
         "8",
         "340.0",
         "160",
         "3609",
         "8.0",
         "70",
         "1"
        ],
        [
         "12",
         "15.0",
         "8",
         "400.0",
         "150",
         "3761",
         "9.5",
         "70",
         "1"
        ],
        [
         "13",
         "14.0",
         "8",
         "455.0",
         "225",
         "3086",
         "10.0",
         "70",
         "1"
        ],
        [
         "14",
         "24.0",
         "4",
         "113.0",
         "95",
         "2372",
         "15.0",
         "70",
         "3"
        ],
        [
         "15",
         "22.0",
         "6",
         "198.0",
         "95",
         "2833",
         "15.5",
         "70",
         "1"
        ],
        [
         "16",
         "18.0",
         "6",
         "199.0",
         "97",
         "2774",
         "15.5",
         "70",
         "1"
        ],
        [
         "17",
         "21.0",
         "6",
         "200.0",
         "85",
         "2587",
         "16.0",
         "70",
         "1"
        ],
        [
         "18",
         "27.0",
         "4",
         "97.0",
         "88",
         "2130",
         "14.5",
         "70",
         "3"
        ],
        [
         "19",
         "26.0",
         "4",
         "97.0",
         "46",
         "1835",
         "20.5",
         "70",
         "2"
        ],
        [
         "20",
         "25.0",
         "4",
         "110.0",
         "87",
         "2672",
         "17.5",
         "70",
         "2"
        ],
        [
         "21",
         "24.0",
         "4",
         "107.0",
         "90",
         "2430",
         "14.5",
         "70",
         "2"
        ],
        [
         "22",
         "25.0",
         "4",
         "104.0",
         "95",
         "2375",
         "17.5",
         "70",
         "2"
        ],
        [
         "23",
         "26.0",
         "4",
         "121.0",
         "113",
         "2234",
         "12.5",
         "70",
         "2"
        ],
        [
         "24",
         "21.0",
         "6",
         "199.0",
         "90",
         "2648",
         "15.0",
         "70",
         "1"
        ],
        [
         "25",
         "10.0",
         "8",
         "360.0",
         "215",
         "4615",
         "14.0",
         "70",
         "1"
        ],
        [
         "26",
         "10.0",
         "8",
         "307.0",
         "200",
         "4376",
         "15.0",
         "70",
         "1"
        ],
        [
         "27",
         "11.0",
         "8",
         "318.0",
         "210",
         "4382",
         "13.5",
         "70",
         "1"
        ],
        [
         "28",
         "9.0",
         "8",
         "304.0",
         "193",
         "4732",
         "18.5",
         "70",
         "1"
        ],
        [
         "29",
         "27.0",
         "4",
         "97.0",
         "88",
         "2130",
         "14.5",
         "71",
         "3"
        ],
        [
         "30",
         "28.0",
         "4",
         "140.0",
         "90",
         "2264",
         "15.5",
         "71",
         "1"
        ],
        [
         "31",
         "25.0",
         "4",
         "113.0",
         "95",
         "2228",
         "14.0",
         "71",
         "3"
        ],
        [
         "32",
         "25.0",
         "4",
         "98.0",
         "",
         "2046",
         "19.0",
         "71",
         "1"
        ],
        [
         "33",
         "19.0",
         "6",
         "232.0",
         "100",
         "2634",
         "13.0",
         "71",
         "1"
        ],
        [
         "34",
         "16.0",
         "6",
         "225.0",
         "105",
         "3439",
         "15.5",
         "71",
         "1"
        ],
        [
         "35",
         "17.0",
         "6",
         "250.0",
         "100",
         "3329",
         "15.5",
         "71",
         "1"
        ],
        [
         "36",
         "19.0",
         "6",
         "250.0",
         "88",
         "3302",
         "15.5",
         "71",
         "1"
        ],
        [
         "37",
         "18.0",
         "6",
         "232.0",
         "100",
         "3288",
         "15.5",
         "71",
         "1"
        ],
        [
         "38",
         "14.0",
         "8",
         "350.0",
         "165",
         "4209",
         "12.0",
         "71",
         "1"
        ],
        [
         "39",
         "14.0",
         "8",
         "400.0",
         "175",
         "4464",
         "11.5",
         "71",
         "1"
        ],
        [
         "40",
         "14.0",
         "8",
         "351.0",
         "153",
         "4154",
         "13.5",
         "71",
         "1"
        ],
        [
         "41",
         "14.0",
         "8",
         "318.0",
         "150",
         "4096",
         "13.0",
         "71",
         "1"
        ],
        [
         "42",
         "12.0",
         "8",
         "383.0",
         "180",
         "4955",
         "11.5",
         "71",
         "1"
        ],
        [
         "43",
         "13.0",
         "8",
         "400.0",
         "170",
         "4746",
         "12.0",
         "71",
         "1"
        ],
        [
         "44",
         "13.0",
         "8",
         "400.0",
         "175",
         "5140",
         "12.0",
         "71",
         "1"
        ],
        [
         "45",
         "18.0",
         "6",
         "258.0",
         "110",
         "2962",
         "13.5",
         "71",
         "1"
        ],
        [
         "46",
         "22.0",
         "4",
         "140.0",
         "72",
         "2408",
         "19.0",
         "71",
         "1"
        ],
        [
         "47",
         "19.0",
         "6",
         "250.0",
         "100",
         "3282",
         "15.0",
         "71",
         "1"
        ],
        [
         "48",
         "18.0",
         "6",
         "250.0",
         "88",
         "3139",
         "14.5",
         "71",
         "1"
        ],
        [
         "49",
         "23.0",
         "4",
         "122.0",
         "86",
         "2220",
         "14.0",
         "71",
         "1"
        ]
       ],
       "shape": {
        "columns": 8,
        "rows": 398
       }
      },
      "text/html": [
       "<div>\n",
       "<style scoped>\n",
       "    .dataframe tbody tr th:only-of-type {\n",
       "        vertical-align: middle;\n",
       "    }\n",
       "\n",
       "    .dataframe tbody tr th {\n",
       "        vertical-align: top;\n",
       "    }\n",
       "\n",
       "    .dataframe thead th {\n",
       "        text-align: right;\n",
       "    }\n",
       "</style>\n",
       "<table border=\"1\" class=\"dataframe\">\n",
       "  <thead>\n",
       "    <tr style=\"text-align: right;\">\n",
       "      <th></th>\n",
       "      <th>mpg</th>\n",
       "      <th>cylinders</th>\n",
       "      <th>displacement</th>\n",
       "      <th>horsepower</th>\n",
       "      <th>weight</th>\n",
       "      <th>acceleration</th>\n",
       "      <th>model_year</th>\n",
       "      <th>origin</th>\n",
       "    </tr>\n",
       "  </thead>\n",
       "  <tbody>\n",
       "    <tr>\n",
       "      <th>0</th>\n",
       "      <td>18.0</td>\n",
       "      <td>8</td>\n",
       "      <td>307.0</td>\n",
       "      <td>130</td>\n",
       "      <td>3504</td>\n",
       "      <td>12.0</td>\n",
       "      <td>70</td>\n",
       "      <td>1</td>\n",
       "    </tr>\n",
       "    <tr>\n",
       "      <th>1</th>\n",
       "      <td>15.0</td>\n",
       "      <td>8</td>\n",
       "      <td>350.0</td>\n",
       "      <td>165</td>\n",
       "      <td>3693</td>\n",
       "      <td>11.5</td>\n",
       "      <td>70</td>\n",
       "      <td>1</td>\n",
       "    </tr>\n",
       "    <tr>\n",
       "      <th>2</th>\n",
       "      <td>18.0</td>\n",
       "      <td>8</td>\n",
       "      <td>318.0</td>\n",
       "      <td>150</td>\n",
       "      <td>3436</td>\n",
       "      <td>11.0</td>\n",
       "      <td>70</td>\n",
       "      <td>1</td>\n",
       "    </tr>\n",
       "    <tr>\n",
       "      <th>3</th>\n",
       "      <td>16.0</td>\n",
       "      <td>8</td>\n",
       "      <td>304.0</td>\n",
       "      <td>150</td>\n",
       "      <td>3433</td>\n",
       "      <td>12.0</td>\n",
       "      <td>70</td>\n",
       "      <td>1</td>\n",
       "    </tr>\n",
       "    <tr>\n",
       "      <th>4</th>\n",
       "      <td>17.0</td>\n",
       "      <td>8</td>\n",
       "      <td>302.0</td>\n",
       "      <td>140</td>\n",
       "      <td>3449</td>\n",
       "      <td>10.5</td>\n",
       "      <td>70</td>\n",
       "      <td>1</td>\n",
       "    </tr>\n",
       "    <tr>\n",
       "      <th>...</th>\n",
       "      <td>...</td>\n",
       "      <td>...</td>\n",
       "      <td>...</td>\n",
       "      <td>...</td>\n",
       "      <td>...</td>\n",
       "      <td>...</td>\n",
       "      <td>...</td>\n",
       "      <td>...</td>\n",
       "    </tr>\n",
       "    <tr>\n",
       "      <th>393</th>\n",
       "      <td>27.0</td>\n",
       "      <td>4</td>\n",
       "      <td>140.0</td>\n",
       "      <td>86</td>\n",
       "      <td>2790</td>\n",
       "      <td>15.6</td>\n",
       "      <td>82</td>\n",
       "      <td>1</td>\n",
       "    </tr>\n",
       "    <tr>\n",
       "      <th>394</th>\n",
       "      <td>44.0</td>\n",
       "      <td>4</td>\n",
       "      <td>97.0</td>\n",
       "      <td>52</td>\n",
       "      <td>2130</td>\n",
       "      <td>24.6</td>\n",
       "      <td>82</td>\n",
       "      <td>2</td>\n",
       "    </tr>\n",
       "    <tr>\n",
       "      <th>395</th>\n",
       "      <td>32.0</td>\n",
       "      <td>4</td>\n",
       "      <td>135.0</td>\n",
       "      <td>84</td>\n",
       "      <td>2295</td>\n",
       "      <td>11.6</td>\n",
       "      <td>82</td>\n",
       "      <td>1</td>\n",
       "    </tr>\n",
       "    <tr>\n",
       "      <th>396</th>\n",
       "      <td>28.0</td>\n",
       "      <td>4</td>\n",
       "      <td>120.0</td>\n",
       "      <td>79</td>\n",
       "      <td>2625</td>\n",
       "      <td>18.6</td>\n",
       "      <td>82</td>\n",
       "      <td>1</td>\n",
       "    </tr>\n",
       "    <tr>\n",
       "      <th>397</th>\n",
       "      <td>31.0</td>\n",
       "      <td>4</td>\n",
       "      <td>119.0</td>\n",
       "      <td>82</td>\n",
       "      <td>2720</td>\n",
       "      <td>19.4</td>\n",
       "      <td>82</td>\n",
       "      <td>1</td>\n",
       "    </tr>\n",
       "  </tbody>\n",
       "</table>\n",
       "<p>398 rows × 8 columns</p>\n",
       "</div>"
      ],
      "text/plain": [
       "      mpg  cylinders  displacement horsepower  weight  acceleration  \\\n",
       "0    18.0          8         307.0        130    3504          12.0   \n",
       "1    15.0          8         350.0        165    3693          11.5   \n",
       "2    18.0          8         318.0        150    3436          11.0   \n",
       "3    16.0          8         304.0        150    3433          12.0   \n",
       "4    17.0          8         302.0        140    3449          10.5   \n",
       "..    ...        ...           ...        ...     ...           ...   \n",
       "393  27.0          4         140.0         86    2790          15.6   \n",
       "394  44.0          4          97.0         52    2130          24.6   \n",
       "395  32.0          4         135.0         84    2295          11.6   \n",
       "396  28.0          4         120.0         79    2625          18.6   \n",
       "397  31.0          4         119.0         82    2720          19.4   \n",
       "\n",
       "     model_year  origin  \n",
       "0            70       1  \n",
       "1            70       1  \n",
       "2            70       1  \n",
       "3            70       1  \n",
       "4            70       1  \n",
       "..          ...     ...  \n",
       "393          82       1  \n",
       "394          82       2  \n",
       "395          82       1  \n",
       "396          82       1  \n",
       "397          82       1  \n",
       "\n",
       "[398 rows x 8 columns]"
      ]
     },
     "execution_count": 49,
     "metadata": {},
     "output_type": "execute_result"
    }
   ],
   "source": [
    "data.iloc[:,0:-1]"
   ]
  }
 ],
 "metadata": {
  "kernelspec": {
   "display_name": ".venv",
   "language": "python",
   "name": "python3"
  },
  "language_info": {
   "codemirror_mode": {
    "name": "ipython",
    "version": 3
   },
   "file_extension": ".py",
   "mimetype": "text/x-python",
   "name": "python",
   "nbconvert_exporter": "python",
   "pygments_lexer": "ipython3",
   "version": "3.11.9"
  }
 },
 "nbformat": 4,
 "nbformat_minor": 5
}
