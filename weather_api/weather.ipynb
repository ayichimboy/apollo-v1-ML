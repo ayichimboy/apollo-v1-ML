{
 "cells": [
  {
   "cell_type": "code",
   "execution_count": 7,
   "id": "1572cc2a",
   "metadata": {},
   "outputs": [],
   "source": [
    "# Load Libraries\n",
    "\n",
    "import streamlit as st             \n",
    "import numpy as np                   \n",
    "import pandas as pd                    \n",
    "import seaborn as sns                   \n",
    "import matplotlib.pyplot as plt  \n",
    "import requests    \n",
    "from dotenv import load_dotenv, find_dotenv   \n",
    "import os   "
   ]
  },
  {
   "cell_type": "code",
   "execution_count": 26,
   "id": "08c43066",
   "metadata": {},
   "outputs": [],
   "source": [
    "class ConFigCon:\n",
    "    API_KEY=os.getenv(\"OpenWeatherMap_API_key\")\n",
    "    END_POINT=os.getenv(\"endpoint_api\")\n",
    "    CITY = \"Kansas City\"\n",
    "    \n",
    "# print(ConFigCon.API_KEY) \n",
    "def validate_env():\n",
    "    var_list = [ConFigCon.API_KEY, ConFigCon.END_POINT]\n",
    "    \n",
    "    if all(var_list):\n",
    "        print(\"ENV Variables Loaded Successfully ✅\")\n",
    "    else:\n",
    "        print(\"ENV Variables not Loaded Successfully 😔\")"
   ]
  },
  {
   "cell_type": "code",
   "execution_count": 25,
   "id": "e5472537",
   "metadata": {},
   "outputs": [
    {
     "name": "stdout",
     "output_type": "stream",
     "text": [
      "ENV Variables Loaded Successfully ✅\n"
     ]
    }
   ],
   "source": [
    "validate_env()"
   ]
  },
  {
   "cell_type": "code",
   "execution_count": 58,
   "id": "4b3b0556",
   "metadata": {},
   "outputs": [],
   "source": [
    "def call_url():\n",
    "    api_url = f\"https://api.openweathermap.org/data/2.5/weather?q={ConFigCon.CITY}&appid={ConFigCon.API_KEY}&units=metric\"\n",
    "    response = requests.get(api_url)\n",
    "    data = response.json()\n",
    "    current_temp = data.get(\"main\")[\"temp\"]\n",
    "    feels_like = data.get(\"main\")[\"feels_like\"]\n",
    "    current_humidity = data.get(\"main\")[\"humidity\"]\n",
    "    current_pressure = data.get(\"main\")[\"pressure\"]\n",
    "    current_wind = data.get(\"wind\")[\"speed\"]\n",
    "    \n",
    "    response = {\n",
    "                \"Current Temperature\": round(current_temp, 3),\n",
    "                \"Temperature Feels Like\": round(feels_like, 3),\n",
    "                \"Current Humidity\": round(current_humidity, 3),\n",
    "                \"Current Pressure\": round(current_pressure, 3),\n",
    "                \"Current Wind Speed\": round(current_wind, 3)\n",
    "                }\n",
    "    \n",
    "    return response\n",
    "    # return response.json()"
   ]
  },
  {
   "cell_type": "code",
   "execution_count": 59,
   "id": "9a080401",
   "metadata": {},
   "outputs": [
    {
     "data": {
      "text/plain": [
       "{'Current Temperature': 20.68,\n",
       " 'Temperature Feels Like': 20.58,\n",
       " 'Current Humidity': 68,\n",
       " 'Current Pressure': 1017,\n",
       " 'Current Wind Speed': 3.6}"
      ]
     },
     "execution_count": 59,
     "metadata": {},
     "output_type": "execute_result"
    }
   ],
   "source": [
    "call_url()"
   ]
  },
  {
   "cell_type": "code",
   "execution_count": null,
   "id": "fe068d13",
   "metadata": {},
   "outputs": [],
   "source": [
    "api_url = f\"https://api.openweathermap.org/data/2.5/weather?q={ConFigCon.CITY}&appid={ConFigCon.API_KEY}&units=metric\""
   ]
  },
  {
   "cell_type": "code",
   "execution_count": 31,
   "id": "12301301",
   "metadata": {},
   "outputs": [
    {
     "name": "stdout",
     "output_type": "stream",
     "text": [
      "{'coord': {'lon': -94.5786, 'lat': 39.0997}, 'weather': [{'id': 800, 'main': 'Clear', 'description': 'clear sky', 'icon': '01n'}], 'base': 'stations', 'main': {'temp': 22.06, 'feels_like': 22.12, 'temp_min': 21.13, 'temp_max': 23.2, 'pressure': 1016, 'humidity': 69, 'sea_level': 1016, 'grnd_level': 984}, 'visibility': 10000, 'wind': {'speed': 3.46, 'deg': 154, 'gust': 10.05}, 'clouds': {'all': 0}, 'dt': 1760591352, 'sys': {'type': 2, 'id': 2100527, 'country': 'US', 'sunrise': 1760617740, 'sunset': 1760657896}, 'timezone': -18000, 'id': 4393217, 'name': 'Kansas City', 'cod': 200}\n"
     ]
    }
   ],
   "source": [
    "response = requests.get(api_url)\n",
    "data = response.json()\n",
    "print(data)"
   ]
  },
  {
   "cell_type": "code",
   "execution_count": 36,
   "id": "40a16b1e",
   "metadata": {},
   "outputs": [
    {
     "name": "stdout",
     "output_type": "stream",
     "text": [
      "coord: {'lon': -94.5786, 'lat': 39.0997}\n",
      "weather: [{'id': 800, 'main': 'Clear', 'description': 'clear sky', 'icon': '01n'}]\n",
      "base: stations\n",
      "main: {'temp': 22.06, 'feels_like': 22.12, 'temp_min': 21.13, 'temp_max': 23.2, 'pressure': 1016, 'humidity': 69, 'sea_level': 1016, 'grnd_level': 984}\n",
      "visibility: 10000\n",
      "wind: {'speed': 3.46, 'deg': 154, 'gust': 10.05}\n",
      "clouds: {'all': 0}\n",
      "dt: 1760591352\n",
      "sys: {'type': 2, 'id': 2100527, 'country': 'US', 'sunrise': 1760617740, 'sunset': 1760657896}\n",
      "timezone: -18000\n",
      "id: 4393217\n",
      "name: Kansas City\n",
      "cod: 200\n"
     ]
    }
   ],
   "source": [
    "for (rows, values) in data.items():\n",
    "    print(f\"{rows}: {values}\")"
   ]
  },
  {
   "cell_type": "code",
   "execution_count": 55,
   "id": "3399f6e8",
   "metadata": {},
   "outputs": [
    {
     "name": "stdout",
     "output_type": "stream",
     "text": [
      "22.06\n",
      "22.12\n",
      "69\n",
      "1016\n",
      "3.46\n"
     ]
    }
   ],
   "source": [
    "current_temp = data.get(\"main\")[\"temp\"]\n",
    "feels_like = data.get(\"main\")[\"feels_like\"]\n",
    "current_humidity = data.get(\"main\")[\"humidity\"]\n",
    "current_pressure = data.get(\"main\")[\"pressure\"]\n",
    "current_wind = data.get(\"wind\")[\"speed\"]\n",
    "\n",
    "print(current_temp)\n",
    "print(feels_like)\n",
    "print(current_humidity)\n",
    "print(current_pressure)\n",
    "print(current_wind)"
   ]
  },
  {
   "cell_type": "code",
   "execution_count": 54,
   "id": "9e129ab1",
   "metadata": {},
   "outputs": [
    {
     "data": {
      "text/plain": [
       "{'speed': 3.46, 'deg': 154, 'gust': 10.05}"
      ]
     },
     "execution_count": 54,
     "metadata": {},
     "output_type": "execute_result"
    }
   ],
   "source": [
    "data.get(\"wind\")"
   ]
  },
  {
   "cell_type": "code",
   "execution_count": 77,
   "id": "e2f75e9e",
   "metadata": {},
   "outputs": [
    {
     "name": "stdout",
     "output_type": "stream",
     "text": [
      "jonny\n"
     ]
    }
   ],
   "source": [
    "location = input(\"what is your name\")\n",
    "print(location)"
   ]
  },
  {
   "cell_type": "code",
   "execution_count": 79,
   "id": "b8395a33",
   "metadata": {},
   "outputs": [
    {
     "data": {
      "text/plain": [
       "'john'"
      ]
     },
     "execution_count": 79,
     "metadata": {},
     "output_type": "execute_result"
    }
   ],
   "source": [
    "def input_location():\n",
    "    return input(\"\")\n",
    "    \n",
    "    \n",
    "input_location()"
   ]
  },
  {
   "cell_type": "code",
   "execution_count": 80,
   "id": "df69ca7b",
   "metadata": {},
   "outputs": [],
   "source": [
    "# Develope the code for the streamlit APP\n",
    "class ConFigCon:\n",
    "    API_KEY=os.getenv(\"OpenWeatherMap_API_key\")\n",
    "    END_POINT=os.getenv(\"endpoint_api\")\n",
    "    # CITY = input(\"Name of City 🌞🌤️🌥️: \")\n",
    "    \n",
    "def validate_env():\n",
    "    var_list = [ConFigCon.API_KEY, ConFigCon.END_POINT]\n",
    "    \n",
    "    if not all(var_list):\n",
    "        raise ValueError(\"Missing Envirionment Variables\")\n",
    "    \n",
    "    return var_list[0], var_list[1]"
   ]
  },
  {
   "cell_type": "code",
   "execution_count": 83,
   "id": "d68b1153",
   "metadata": {},
   "outputs": [],
   "source": [
    "# print(validate_env())"
   ]
  },
  {
   "cell_type": "markdown",
   "id": "8218cf45",
   "metadata": {},
   "source": [
    "# More Code"
   ]
  },
  {
   "cell_type": "code",
   "execution_count": 87,
   "id": "45cb4664",
   "metadata": {},
   "outputs": [
    {
     "name": "stdout",
     "output_type": "stream",
     "text": [
      "mexico\n"
     ]
    }
   ],
   "source": [
    "location_name = \"mexico\"\n",
    "\n",
    "if location_name and isinstance(location_name, str) and location_name.strip():\n",
    "    location_name = location_name.lower()\n",
    "else:\n",
    "    print(\"Warning \")\n",
    "    \n",
    "print(location_name)"
   ]
  }
 ],
 "metadata": {
  "kernelspec": {
   "display_name": ".venv",
   "language": "python",
   "name": "python3"
  },
  "language_info": {
   "codemirror_mode": {
    "name": "ipython",
    "version": 3
   },
   "file_extension": ".py",
   "mimetype": "text/x-python",
   "name": "python",
   "nbconvert_exporter": "python",
   "pygments_lexer": "ipython3",
   "version": "3.11.9"
  }
 },
 "nbformat": 4,
 "nbformat_minor": 5
}
